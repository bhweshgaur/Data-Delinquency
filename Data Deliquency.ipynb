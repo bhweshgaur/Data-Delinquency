{
 "cells": [
  {
   "cell_type": "markdown",
   "metadata": {},
   "source": [
    "# Project: Data Deliquency"
   ]
  },
  {
   "cell_type": "code",
   "execution_count": 1,
   "metadata": {},
   "outputs": [],
   "source": [
    "# Importing Libraries\n",
    "import numpy as np\n",
    "import pandas as pd\n",
    "\n",
    "import matplotlib.pyplot as plt\n",
    "import seaborn as sns"
   ]
  },
  {
   "cell_type": "code",
   "execution_count": 2,
   "metadata": {},
   "outputs": [],
   "source": [
    "# Read CSV file\n",
    "df = pd.read_csv('train.csv',low_memory = False)\n",
    "df = df.iloc[:,:37] #Extra columns are removed"
   ]
  },
  {
   "cell_type": "code",
   "execution_count": 3,
   "metadata": {},
   "outputs": [
    {
     "name": "stdout",
     "output_type": "stream",
     "text": [
      "<class 'pandas.core.frame.DataFrame'>\n",
      "RangeIndex: 379849 entries, 0 to 379848\n",
      "Data columns (total 37 columns):\n",
      " #   Column                Non-Null Count   Dtype \n",
      "---  ------                --------------   ----- \n",
      " 0   Unnamed: 0            379849 non-null  object\n",
      " 1   label                 379848 non-null  object\n",
      " 2   msisdn                379848 non-null  object\n",
      " 3   aon                   379846 non-null  object\n",
      " 4   daily_decr30          379846 non-null  object\n",
      " 5   daily_decr90          379844 non-null  object\n",
      " 6   rental30              379843 non-null  object\n",
      " 7   rental90              379843 non-null  object\n",
      " 8   last_rech_date_ma     379841 non-null  object\n",
      " 9   last_rech_date_da     379843 non-null  object\n",
      " 10  last_rech_amt_ma      379843 non-null  object\n",
      " 11  cnt_ma_rech30         379843 non-null  object\n",
      " 12  fr_ma_rech30          379841 non-null  object\n",
      " 13  sumamnt_ma_rech30     379840 non-null  object\n",
      " 14  medianamnt_ma_rech30  379838 non-null  object\n",
      " 15  medianmarechprebal30  379838 non-null  object\n",
      " 16  cnt_ma_rech90         379837 non-null  object\n",
      " 17  fr_ma_rech90          379837 non-null  object\n",
      " 18  sumamnt_ma_rech90     379836 non-null  object\n",
      " 19  medianamnt_ma_rech90  379832 non-null  object\n",
      " 20  medianmarechprebal90  379829 non-null  object\n",
      " 21  cnt_da_rech30         379826 non-null  object\n",
      " 22  fr_da_rech30          379823 non-null  object\n",
      " 23  cnt_da_rech90         379820 non-null  object\n",
      " 24  fr_da_rech90          379818 non-null  object\n",
      " 25  cnt_loans30           379816 non-null  object\n",
      " 26  amnt_loans30          379813 non-null  object\n",
      " 27  maxamnt_loans30       379809 non-null  object\n",
      " 28  medianamnt_loans30    379804 non-null  object\n",
      " 29  cnt_loans90           379802 non-null  object\n",
      " 30  amnt_loans90          379796 non-null  object\n",
      " 31  maxamnt_loans90       379794 non-null  object\n",
      " 32  medianamnt_loans90    379789 non-null  object\n",
      " 33  payback30             379787 non-null  object\n",
      " 34  payback90             379777 non-null  object\n",
      " 35  pcircle               379770 non-null  object\n",
      " 36  pdate                 379764 non-null  object\n",
      "dtypes: object(37)\n",
      "memory usage: 107.2+ MB\n"
     ]
    }
   ],
   "source": [
    "# Information about the data\n",
    "df.info()"
   ]
  },
  {
   "cell_type": "code",
   "execution_count": 4,
   "metadata": {},
   "outputs": [
    {
     "data": {
      "text/html": [
       "<div>\n",
       "<style scoped>\n",
       "    .dataframe tbody tr th:only-of-type {\n",
       "        vertical-align: middle;\n",
       "    }\n",
       "\n",
       "    .dataframe tbody tr th {\n",
       "        vertical-align: top;\n",
       "    }\n",
       "\n",
       "    .dataframe thead th {\n",
       "        text-align: right;\n",
       "    }\n",
       "</style>\n",
       "<table border=\"1\" class=\"dataframe\">\n",
       "  <thead>\n",
       "    <tr style=\"text-align: right;\">\n",
       "      <th></th>\n",
       "      <th>Unnamed: 0</th>\n",
       "      <th>label</th>\n",
       "      <th>msisdn</th>\n",
       "      <th>aon</th>\n",
       "      <th>daily_decr30</th>\n",
       "      <th>daily_decr90</th>\n",
       "      <th>rental30</th>\n",
       "      <th>rental90</th>\n",
       "      <th>last_rech_date_ma</th>\n",
       "      <th>last_rech_date_da</th>\n",
       "      <th>...</th>\n",
       "      <th>maxamnt_loans30</th>\n",
       "      <th>medianamnt_loans30</th>\n",
       "      <th>cnt_loans90</th>\n",
       "      <th>amnt_loans90</th>\n",
       "      <th>maxamnt_loans90</th>\n",
       "      <th>medianamnt_loans90</th>\n",
       "      <th>payback30</th>\n",
       "      <th>payback90</th>\n",
       "      <th>pcircle</th>\n",
       "      <th>pdate</th>\n",
       "    </tr>\n",
       "  </thead>\n",
       "  <tbody>\n",
       "    <tr>\n",
       "      <th>count</th>\n",
       "      <td>379849</td>\n",
       "      <td>379848</td>\n",
       "      <td>379848</td>\n",
       "      <td>379846</td>\n",
       "      <td>379846</td>\n",
       "      <td>379844</td>\n",
       "      <td>379843</td>\n",
       "      <td>379843</td>\n",
       "      <td>379841</td>\n",
       "      <td>379843</td>\n",
       "      <td>...</td>\n",
       "      <td>379809</td>\n",
       "      <td>379804</td>\n",
       "      <td>379802</td>\n",
       "      <td>379796</td>\n",
       "      <td>379794</td>\n",
       "      <td>379789</td>\n",
       "      <td>379787</td>\n",
       "      <td>379777</td>\n",
       "      <td>379770</td>\n",
       "      <td>379764</td>\n",
       "    </tr>\n",
       "    <tr>\n",
       "      <th>unique</th>\n",
       "      <td>190011</td>\n",
       "      <td>14</td>\n",
       "      <td>170642</td>\n",
       "      <td>4329</td>\n",
       "      <td>134608</td>\n",
       "      <td>142636</td>\n",
       "      <td>121385</td>\n",
       "      <td>128225</td>\n",
       "      <td>1130</td>\n",
       "      <td>1117</td>\n",
       "      <td>...</td>\n",
       "      <td>994</td>\n",
       "      <td>43</td>\n",
       "      <td>1033</td>\n",
       "      <td>104</td>\n",
       "      <td>48</td>\n",
       "      <td>42</td>\n",
       "      <td>1343</td>\n",
       "      <td>2319</td>\n",
       "      <td>36</td>\n",
       "      <td>127</td>\n",
       "    </tr>\n",
       "    <tr>\n",
       "      <th>top</th>\n",
       "      <td>38241</td>\n",
       "      <td>1</td>\n",
       "      <td>04581I85330</td>\n",
       "      <td>95</td>\n",
       "      <td>0</td>\n",
       "      <td>0</td>\n",
       "      <td>0</td>\n",
       "      <td>0</td>\n",
       "      <td>1</td>\n",
       "      <td>0</td>\n",
       "      <td>...</td>\n",
       "      <td>6</td>\n",
       "      <td>0</td>\n",
       "      <td>1</td>\n",
       "      <td>6</td>\n",
       "      <td>6</td>\n",
       "      <td>0</td>\n",
       "      <td>0</td>\n",
       "      <td>0</td>\n",
       "      <td>UPW</td>\n",
       "      <td>7/4/2016</td>\n",
       "    </tr>\n",
       "    <tr>\n",
       "      <th>freq</th>\n",
       "      <td>3</td>\n",
       "      <td>332378</td>\n",
       "      <td>14</td>\n",
       "      <td>713</td>\n",
       "      <td>7488</td>\n",
       "      <td>7345</td>\n",
       "      <td>13612</td>\n",
       "      <td>12467</td>\n",
       "      <td>85771</td>\n",
       "      <td>367503</td>\n",
       "      <td>...</td>\n",
       "      <td>324739</td>\n",
       "      <td>354034</td>\n",
       "      <td>133878</td>\n",
       "      <td>125312</td>\n",
       "      <td>327885</td>\n",
       "      <td>357552</td>\n",
       "      <td>193527</td>\n",
       "      <td>173552</td>\n",
       "      <td>379678</td>\n",
       "      <td>5710</td>\n",
       "    </tr>\n",
       "  </tbody>\n",
       "</table>\n",
       "<p>4 rows × 37 columns</p>\n",
       "</div>"
      ],
      "text/plain": [
       "       Unnamed: 0   label       msisdn     aon daily_decr30 daily_decr90  \\\n",
       "count      379849  379848       379848  379846       379846       379844   \n",
       "unique     190011      14       170642    4329       134608       142636   \n",
       "top         38241       1  04581I85330      95            0            0   \n",
       "freq            3  332378           14     713         7488         7345   \n",
       "\n",
       "       rental30 rental90 last_rech_date_ma last_rech_date_da  ...  \\\n",
       "count    379843   379843            379841            379843  ...   \n",
       "unique   121385   128225              1130              1117  ...   \n",
       "top           0        0                 1                 0  ...   \n",
       "freq      13612    12467             85771            367503  ...   \n",
       "\n",
       "       maxamnt_loans30 medianamnt_loans30 cnt_loans90 amnt_loans90  \\\n",
       "count           379809             379804      379802       379796   \n",
       "unique             994                 43        1033          104   \n",
       "top                  6                  0           1            6   \n",
       "freq            324739             354034      133878       125312   \n",
       "\n",
       "       maxamnt_loans90 medianamnt_loans90 payback30 payback90 pcircle  \\\n",
       "count           379794             379789    379787    379777  379770   \n",
       "unique              48                 42      1343      2319      36   \n",
       "top                  6                  0         0         0     UPW   \n",
       "freq            327885             357552    193527    173552  379678   \n",
       "\n",
       "           pdate  \n",
       "count     379764  \n",
       "unique       127  \n",
       "top     7/4/2016  \n",
       "freq        5710  \n",
       "\n",
       "[4 rows x 37 columns]"
      ]
     },
     "execution_count": 4,
     "metadata": {},
     "output_type": "execute_result"
    }
   ],
   "source": [
    "# Details of data\n",
    "# Here every column we have is of numeric type(continuous) except 'maxamnt_loans90', which is categorical(6 & 12)\n",
    "df.describe(include='all')"
   ]
  },
  {
   "cell_type": "code",
   "execution_count": 5,
   "metadata": {},
   "outputs": [
    {
     "data": {
      "text/html": [
       "<div>\n",
       "<style scoped>\n",
       "    .dataframe tbody tr th:only-of-type {\n",
       "        vertical-align: middle;\n",
       "    }\n",
       "\n",
       "    .dataframe tbody tr th {\n",
       "        vertical-align: top;\n",
       "    }\n",
       "\n",
       "    .dataframe thead th {\n",
       "        text-align: right;\n",
       "    }\n",
       "</style>\n",
       "<table border=\"1\" class=\"dataframe\">\n",
       "  <thead>\n",
       "    <tr style=\"text-align: right;\">\n",
       "      <th></th>\n",
       "      <th>Unnamed: 0</th>\n",
       "      <th>label</th>\n",
       "      <th>msisdn</th>\n",
       "      <th>aon</th>\n",
       "      <th>daily_decr30</th>\n",
       "      <th>daily_decr90</th>\n",
       "      <th>rental30</th>\n",
       "      <th>rental90</th>\n",
       "      <th>last_rech_date_ma</th>\n",
       "      <th>last_rech_date_da</th>\n",
       "      <th>...</th>\n",
       "      <th>maxamnt_loans30</th>\n",
       "      <th>medianamnt_loans30</th>\n",
       "      <th>cnt_loans90</th>\n",
       "      <th>amnt_loans90</th>\n",
       "      <th>maxamnt_loans90</th>\n",
       "      <th>medianamnt_loans90</th>\n",
       "      <th>payback30</th>\n",
       "      <th>payback90</th>\n",
       "      <th>pcircle</th>\n",
       "      <th>pdate</th>\n",
       "    </tr>\n",
       "  </thead>\n",
       "  <tbody>\n",
       "    <tr>\n",
       "      <th>0</th>\n",
       "      <td>1</td>\n",
       "      <td>0</td>\n",
       "      <td>21408I70789</td>\n",
       "      <td>272</td>\n",
       "      <td>3055.05</td>\n",
       "      <td>3065.15</td>\n",
       "      <td>220.13</td>\n",
       "      <td>260.13</td>\n",
       "      <td>2</td>\n",
       "      <td>0</td>\n",
       "      <td>...</td>\n",
       "      <td>6</td>\n",
       "      <td>0</td>\n",
       "      <td>2</td>\n",
       "      <td>12</td>\n",
       "      <td>6</td>\n",
       "      <td>0</td>\n",
       "      <td>29</td>\n",
       "      <td>29</td>\n",
       "      <td>UPW</td>\n",
       "      <td>7/20/2016</td>\n",
       "    </tr>\n",
       "    <tr>\n",
       "      <th>1</th>\n",
       "      <td>2</td>\n",
       "      <td>1</td>\n",
       "      <td>76462I70374</td>\n",
       "      <td>712</td>\n",
       "      <td>12122</td>\n",
       "      <td>12124.75</td>\n",
       "      <td>3691.26</td>\n",
       "      <td>3691.26</td>\n",
       "      <td>20</td>\n",
       "      <td>0</td>\n",
       "      <td>...</td>\n",
       "      <td>12</td>\n",
       "      <td>0</td>\n",
       "      <td>1</td>\n",
       "      <td>12</td>\n",
       "      <td>12</td>\n",
       "      <td>0</td>\n",
       "      <td>0</td>\n",
       "      <td>0</td>\n",
       "      <td>UPW</td>\n",
       "      <td>8/10/2016</td>\n",
       "    </tr>\n",
       "    <tr>\n",
       "      <th>2</th>\n",
       "      <td>3</td>\n",
       "      <td>1</td>\n",
       "      <td>17943I70372</td>\n",
       "      <td>535</td>\n",
       "      <td>1398</td>\n",
       "      <td>1398</td>\n",
       "      <td>900.13</td>\n",
       "      <td>900.13</td>\n",
       "      <td>3</td>\n",
       "      <td>0</td>\n",
       "      <td>...</td>\n",
       "      <td>6</td>\n",
       "      <td>0</td>\n",
       "      <td>1</td>\n",
       "      <td>6</td>\n",
       "      <td>6</td>\n",
       "      <td>0</td>\n",
       "      <td>0</td>\n",
       "      <td>0</td>\n",
       "      <td>UPW</td>\n",
       "      <td>8/19/2016</td>\n",
       "    </tr>\n",
       "    <tr>\n",
       "      <th>3</th>\n",
       "      <td>4</td>\n",
       "      <td>1</td>\n",
       "      <td>55773I70781</td>\n",
       "      <td>241</td>\n",
       "      <td>21.228</td>\n",
       "      <td>21.228</td>\n",
       "      <td>159.42</td>\n",
       "      <td>159.42</td>\n",
       "      <td>41</td>\n",
       "      <td>0</td>\n",
       "      <td>...</td>\n",
       "      <td>6</td>\n",
       "      <td>0</td>\n",
       "      <td>2</td>\n",
       "      <td>12</td>\n",
       "      <td>6</td>\n",
       "      <td>0</td>\n",
       "      <td>0</td>\n",
       "      <td>0</td>\n",
       "      <td>UPW</td>\n",
       "      <td>6/6/2016</td>\n",
       "    </tr>\n",
       "    <tr>\n",
       "      <th>4</th>\n",
       "      <td>5</td>\n",
       "      <td>1</td>\n",
       "      <td>03813I82730</td>\n",
       "      <td>947</td>\n",
       "      <td>150.6193333</td>\n",
       "      <td>150.6193333</td>\n",
       "      <td>1098.9</td>\n",
       "      <td>1098.9</td>\n",
       "      <td>4</td>\n",
       "      <td>0</td>\n",
       "      <td>...</td>\n",
       "      <td>6</td>\n",
       "      <td>0</td>\n",
       "      <td>7</td>\n",
       "      <td>42</td>\n",
       "      <td>6</td>\n",
       "      <td>0</td>\n",
       "      <td>2.333333333</td>\n",
       "      <td>2.333333333</td>\n",
       "      <td>UPW</td>\n",
       "      <td>6/22/2016</td>\n",
       "    </tr>\n",
       "  </tbody>\n",
       "</table>\n",
       "<p>5 rows × 37 columns</p>\n",
       "</div>"
      ],
      "text/plain": [
       "  Unnamed: 0 label       msisdn  aon daily_decr30 daily_decr90 rental30  \\\n",
       "0          1     0  21408I70789  272      3055.05      3065.15   220.13   \n",
       "1          2     1  76462I70374  712        12122     12124.75  3691.26   \n",
       "2          3     1  17943I70372  535         1398         1398   900.13   \n",
       "3          4     1  55773I70781  241       21.228       21.228   159.42   \n",
       "4          5     1  03813I82730  947  150.6193333  150.6193333   1098.9   \n",
       "\n",
       "  rental90 last_rech_date_ma last_rech_date_da  ... maxamnt_loans30  \\\n",
       "0   260.13                 2                 0  ...               6   \n",
       "1  3691.26                20                 0  ...              12   \n",
       "2   900.13                 3                 0  ...               6   \n",
       "3   159.42                41                 0  ...               6   \n",
       "4   1098.9                 4                 0  ...               6   \n",
       "\n",
       "  medianamnt_loans30 cnt_loans90 amnt_loans90 maxamnt_loans90  \\\n",
       "0                  0           2           12               6   \n",
       "1                  0           1           12              12   \n",
       "2                  0           1            6               6   \n",
       "3                  0           2           12               6   \n",
       "4                  0           7           42               6   \n",
       "\n",
       "  medianamnt_loans90    payback30    payback90 pcircle      pdate  \n",
       "0                  0           29           29     UPW  7/20/2016  \n",
       "1                  0            0            0     UPW  8/10/2016  \n",
       "2                  0            0            0     UPW  8/19/2016  \n",
       "3                  0            0            0     UPW   6/6/2016  \n",
       "4                  0  2.333333333  2.333333333     UPW  6/22/2016  \n",
       "\n",
       "[5 rows x 37 columns]"
      ]
     },
     "execution_count": 5,
     "metadata": {},
     "output_type": "execute_result"
    }
   ],
   "source": [
    "df.head()"
   ]
  },
  {
   "cell_type": "code",
   "execution_count": 6,
   "metadata": {},
   "outputs": [],
   "source": [
    "# Drop useless columns which donot effect your result\n",
    "\n",
    "df.drop(columns = ['pcircle','msisdn','medianmarechprebal30','pdate'],axis = 1,inplace=True)"
   ]
  },
  {
   "cell_type": "code",
   "execution_count": 7,
   "metadata": {},
   "outputs": [],
   "source": [
    "df.rename(columns={'Unnamed: 0':'Index'},inplace = True)\n",
    "df.set_index('Index',inplace = True)"
   ]
  },
  {
   "cell_type": "code",
   "execution_count": 8,
   "metadata": {
    "scrolled": true
   },
   "outputs": [
    {
     "data": {
      "text/html": [
       "<div>\n",
       "<style scoped>\n",
       "    .dataframe tbody tr th:only-of-type {\n",
       "        vertical-align: middle;\n",
       "    }\n",
       "\n",
       "    .dataframe tbody tr th {\n",
       "        vertical-align: top;\n",
       "    }\n",
       "\n",
       "    .dataframe thead th {\n",
       "        text-align: right;\n",
       "    }\n",
       "</style>\n",
       "<table border=\"1\" class=\"dataframe\">\n",
       "  <thead>\n",
       "    <tr style=\"text-align: right;\">\n",
       "      <th></th>\n",
       "      <th>label</th>\n",
       "      <th>aon</th>\n",
       "      <th>daily_decr30</th>\n",
       "      <th>daily_decr90</th>\n",
       "      <th>rental30</th>\n",
       "      <th>rental90</th>\n",
       "      <th>last_rech_date_ma</th>\n",
       "      <th>last_rech_date_da</th>\n",
       "      <th>last_rech_amt_ma</th>\n",
       "      <th>cnt_ma_rech30</th>\n",
       "      <th>...</th>\n",
       "      <th>cnt_loans30</th>\n",
       "      <th>amnt_loans30</th>\n",
       "      <th>maxamnt_loans30</th>\n",
       "      <th>medianamnt_loans30</th>\n",
       "      <th>cnt_loans90</th>\n",
       "      <th>amnt_loans90</th>\n",
       "      <th>maxamnt_loans90</th>\n",
       "      <th>medianamnt_loans90</th>\n",
       "      <th>payback30</th>\n",
       "      <th>payback90</th>\n",
       "    </tr>\n",
       "    <tr>\n",
       "      <th>Index</th>\n",
       "      <th></th>\n",
       "      <th></th>\n",
       "      <th></th>\n",
       "      <th></th>\n",
       "      <th></th>\n",
       "      <th></th>\n",
       "      <th></th>\n",
       "      <th></th>\n",
       "      <th></th>\n",
       "      <th></th>\n",
       "      <th></th>\n",
       "      <th></th>\n",
       "      <th></th>\n",
       "      <th></th>\n",
       "      <th></th>\n",
       "      <th></th>\n",
       "      <th></th>\n",
       "      <th></th>\n",
       "      <th></th>\n",
       "      <th></th>\n",
       "      <th></th>\n",
       "    </tr>\n",
       "  </thead>\n",
       "  <tbody>\n",
       "    <tr>\n",
       "      <th>1</th>\n",
       "      <td>0</td>\n",
       "      <td>272</td>\n",
       "      <td>3055.05</td>\n",
       "      <td>3065.15</td>\n",
       "      <td>220.13</td>\n",
       "      <td>260.13</td>\n",
       "      <td>2</td>\n",
       "      <td>0</td>\n",
       "      <td>1539</td>\n",
       "      <td>2</td>\n",
       "      <td>...</td>\n",
       "      <td>2</td>\n",
       "      <td>12</td>\n",
       "      <td>6</td>\n",
       "      <td>0</td>\n",
       "      <td>2</td>\n",
       "      <td>12</td>\n",
       "      <td>6</td>\n",
       "      <td>0</td>\n",
       "      <td>29</td>\n",
       "      <td>29</td>\n",
       "    </tr>\n",
       "    <tr>\n",
       "      <th>2</th>\n",
       "      <td>1</td>\n",
       "      <td>712</td>\n",
       "      <td>12122</td>\n",
       "      <td>12124.75</td>\n",
       "      <td>3691.26</td>\n",
       "      <td>3691.26</td>\n",
       "      <td>20</td>\n",
       "      <td>0</td>\n",
       "      <td>5787</td>\n",
       "      <td>1</td>\n",
       "      <td>...</td>\n",
       "      <td>1</td>\n",
       "      <td>12</td>\n",
       "      <td>12</td>\n",
       "      <td>0</td>\n",
       "      <td>1</td>\n",
       "      <td>12</td>\n",
       "      <td>12</td>\n",
       "      <td>0</td>\n",
       "      <td>0</td>\n",
       "      <td>0</td>\n",
       "    </tr>\n",
       "    <tr>\n",
       "      <th>3</th>\n",
       "      <td>1</td>\n",
       "      <td>535</td>\n",
       "      <td>1398</td>\n",
       "      <td>1398</td>\n",
       "      <td>900.13</td>\n",
       "      <td>900.13</td>\n",
       "      <td>3</td>\n",
       "      <td>0</td>\n",
       "      <td>1539</td>\n",
       "      <td>1</td>\n",
       "      <td>...</td>\n",
       "      <td>1</td>\n",
       "      <td>6</td>\n",
       "      <td>6</td>\n",
       "      <td>0</td>\n",
       "      <td>1</td>\n",
       "      <td>6</td>\n",
       "      <td>6</td>\n",
       "      <td>0</td>\n",
       "      <td>0</td>\n",
       "      <td>0</td>\n",
       "    </tr>\n",
       "    <tr>\n",
       "      <th>4</th>\n",
       "      <td>1</td>\n",
       "      <td>241</td>\n",
       "      <td>21.228</td>\n",
       "      <td>21.228</td>\n",
       "      <td>159.42</td>\n",
       "      <td>159.42</td>\n",
       "      <td>41</td>\n",
       "      <td>0</td>\n",
       "      <td>947</td>\n",
       "      <td>0</td>\n",
       "      <td>...</td>\n",
       "      <td>2</td>\n",
       "      <td>12</td>\n",
       "      <td>6</td>\n",
       "      <td>0</td>\n",
       "      <td>2</td>\n",
       "      <td>12</td>\n",
       "      <td>6</td>\n",
       "      <td>0</td>\n",
       "      <td>0</td>\n",
       "      <td>0</td>\n",
       "    </tr>\n",
       "    <tr>\n",
       "      <th>5</th>\n",
       "      <td>1</td>\n",
       "      <td>947</td>\n",
       "      <td>150.6193333</td>\n",
       "      <td>150.6193333</td>\n",
       "      <td>1098.9</td>\n",
       "      <td>1098.9</td>\n",
       "      <td>4</td>\n",
       "      <td>0</td>\n",
       "      <td>2309</td>\n",
       "      <td>7</td>\n",
       "      <td>...</td>\n",
       "      <td>7</td>\n",
       "      <td>42</td>\n",
       "      <td>6</td>\n",
       "      <td>0</td>\n",
       "      <td>7</td>\n",
       "      <td>42</td>\n",
       "      <td>6</td>\n",
       "      <td>0</td>\n",
       "      <td>2.333333333</td>\n",
       "      <td>2.333333333</td>\n",
       "    </tr>\n",
       "  </tbody>\n",
       "</table>\n",
       "<p>5 rows × 32 columns</p>\n",
       "</div>"
      ],
      "text/plain": [
       "      label  aon daily_decr30 daily_decr90 rental30 rental90  \\\n",
       "Index                                                          \n",
       "1         0  272      3055.05      3065.15   220.13   260.13   \n",
       "2         1  712        12122     12124.75  3691.26  3691.26   \n",
       "3         1  535         1398         1398   900.13   900.13   \n",
       "4         1  241       21.228       21.228   159.42   159.42   \n",
       "5         1  947  150.6193333  150.6193333   1098.9   1098.9   \n",
       "\n",
       "      last_rech_date_ma last_rech_date_da last_rech_amt_ma cnt_ma_rech30  ...  \\\n",
       "Index                                                                     ...   \n",
       "1                     2                 0             1539             2  ...   \n",
       "2                    20                 0             5787             1  ...   \n",
       "3                     3                 0             1539             1  ...   \n",
       "4                    41                 0              947             0  ...   \n",
       "5                     4                 0             2309             7  ...   \n",
       "\n",
       "      cnt_loans30 amnt_loans30 maxamnt_loans30 medianamnt_loans30 cnt_loans90  \\\n",
       "Index                                                                           \n",
       "1               2           12               6                  0           2   \n",
       "2               1           12              12                  0           1   \n",
       "3               1            6               6                  0           1   \n",
       "4               2           12               6                  0           2   \n",
       "5               7           42               6                  0           7   \n",
       "\n",
       "      amnt_loans90 maxamnt_loans90 medianamnt_loans90    payback30  \\\n",
       "Index                                                                \n",
       "1               12               6                  0           29   \n",
       "2               12              12                  0            0   \n",
       "3                6               6                  0            0   \n",
       "4               12               6                  0            0   \n",
       "5               42               6                  0  2.333333333   \n",
       "\n",
       "         payback90  \n",
       "Index               \n",
       "1               29  \n",
       "2                0  \n",
       "3                0  \n",
       "4                0  \n",
       "5      2.333333333  \n",
       "\n",
       "[5 rows x 32 columns]"
      ]
     },
     "execution_count": 8,
     "metadata": {},
     "output_type": "execute_result"
    }
   ],
   "source": [
    "df.head()"
   ]
  },
  {
   "cell_type": "code",
   "execution_count": 9,
   "metadata": {},
   "outputs": [],
   "source": [
    "# convert all str data to float for prediction\n",
    "\n",
    "def string_to_integer(value):\n",
    "    try:\n",
    "        return float(value)\n",
    "    except:\n",
    "        return np.nan\n",
    "    \n",
    "for i in df:\n",
    "    df[i] = df[i].apply(lambda x: string_to_integer(x))"
   ]
  },
  {
   "cell_type": "code",
   "execution_count": 10,
   "metadata": {},
   "outputs": [
    {
     "data": {
      "text/plain": [
       "0"
      ]
     },
     "execution_count": 10,
     "metadata": {},
     "output_type": "execute_result"
    }
   ],
   "source": [
    "# drop NaN values and their corresponding rows\n",
    "df.dropna(axis = 0,how = 'any',inplace = True)\n",
    "np.sum(df.isnull().sum())"
   ]
  },
  {
   "cell_type": "code",
   "execution_count": 11,
   "metadata": {
    "scrolled": true
   },
   "outputs": [
    {
     "name": "stdout",
     "output_type": "stream",
     "text": [
      "label : 1.0\n",
      "aon : 999520.6094\n",
      "daily_decr30 : 265926.0\n",
      "daily_decr90 : 269333333.0\n",
      "rental30 : 71900844.0\n",
      "rental90 : 669399.5\n",
      "last_rech_date_ma : 997717.8096\n",
      "last_rech_date_da : 999171.8094\n",
      "last_rech_amt_ma : 55000.0\n",
      "cnt_ma_rech30 : 7109.57\n",
      "fr_ma_rech30 : 999606.3681\n",
      "sumamnt_ma_rech30 : 810096.0\n",
      "medianamnt_ma_rech30 : 55000.0\n",
      "cnt_ma_rech90 : 11929.0\n",
      "fr_ma_rech90 : 9239.0\n",
      "sumamnt_ma_rech90 : 953036.0\n",
      "medianamnt_ma_rech90 : 791423.3321\n",
      "medianmarechprebal90 : 833251.4139\n",
      "cnt_da_rech30 : 99842.33633\n",
      "fr_da_rech30 : 999809.2401\n",
      "cnt_da_rech90 : 24000.0\n",
      "fr_da_rech90 : 72579.0\n",
      "cnt_loans30 : 47023.0\n",
      "amnt_loans30 : 5787.0\n",
      "maxamnt_loans30 : 784312.497\n",
      "medianamnt_loans30 : 102588.0\n",
      "cnt_loans90 : 11079.0\n",
      "amnt_loans90 : 11547.0\n",
      "maxamnt_loans90 : 6933.0\n",
      "medianamnt_loans90 : 61909.0\n",
      "payback30 : 54960.0\n",
      "payback90 : 16893.0\n"
     ]
    }
   ],
   "source": [
    "# The very large value in the dataset is nothing but trash. We need to remove all these values either by replacing\n",
    "# it with some other value or by just dropping those rows\n",
    "for i in df:\n",
    "    print(i,':', max(df[i]))"
   ]
  },
  {
   "cell_type": "code",
   "execution_count": 12,
   "metadata": {},
   "outputs": [],
   "source": [
    "# Removing trash by dropping rows in dataset.\n",
    "''' Considering any threshold value and comparing with each data. The data larger than the threshold value will be\n",
    "considered as trash.'''\n",
    "\n",
    "def remove_trash(value, threshold):\n",
    "    if value > threshold:\n",
    "        return np.nan\n",
    "    else:\n",
    "        return value"
   ]
  },
  {
   "cell_type": "code",
   "execution_count": 13,
   "metadata": {},
   "outputs": [],
   "source": [
    "for i in df:\n",
    "    threshold = 8*np.mean(df[i])\n",
    "    df[i] = df[i].apply(lambda x:remove_trash(x, threshold))"
   ]
  },
  {
   "cell_type": "code",
   "execution_count": 14,
   "metadata": {},
   "outputs": [
    {
     "data": {
      "text/plain": [
       "0"
      ]
     },
     "execution_count": 14,
     "metadata": {},
     "output_type": "execute_result"
    }
   ],
   "source": [
    "# Dropping all NaN value rows\n",
    "df.dropna(axis = 0,how = 'any',inplace = True)\n",
    "np.sum(df.isnull().sum())"
   ]
  },
  {
   "cell_type": "markdown",
   "metadata": {},
   "source": [
    "> **Let us now check how result is affected by every columns and we will remove every unnecessary column from our dataset**"
   ]
  },
  {
   "cell_type": "markdown",
   "metadata": {},
   "source": [
    "*We will check this using histogram plot by seaborn library*"
   ]
  },
  {
   "cell_type": "code",
   "execution_count": 15,
   "metadata": {},
   "outputs": [
    {
     "data": {
      "text/plain": [
       "<matplotlib.axes._subplots.AxesSubplot at 0x7f3757c2fb90>"
      ]
     },
     "execution_count": 15,
     "metadata": {},
     "output_type": "execute_result"
    },
    {
     "data": {
      "image/png": "[encoded data removed]",
      "text/plain": [
       "<Figure size 432x288 with 1 Axes>"
      ]
     },
     "metadata": {
      "needs_background": "light"
     },
     "output_type": "display_data"
    }
   ],
   "source": [
    "sns.barplot(x = df['label'],y = df['aon'])"
   ]
  },
  {
   "cell_type": "code",
   "execution_count": 16,
   "metadata": {},
   "outputs": [
    {
     "data": {
      "text/plain": [
       "<matplotlib.axes._subplots.AxesSubplot at 0x7f37576abdd0>"
      ]
     },
     "execution_count": 16,
     "metadata": {},
     "output_type": "execute_result"
    },
    {
     "data": {
      "image/png": "[encoded data removed]",
      "text/plain": [
       "<Figure size 432x288 with 1 Axes>"
      ]
     },
     "metadata": {
      "needs_background": "light"
     },
     "output_type": "display_data"
    }
   ],
   "source": [
    "sns.barplot(y = 'daily_decr30',x = 'label', data = df)"
   ]
  },
  {
   "cell_type": "code",
   "execution_count": 17,
   "metadata": {},
   "outputs": [
    {
     "data": {
      "text/plain": [
       "<matplotlib.axes._subplots.AxesSubplot at 0x7f3757674910>"
      ]
     },
     "execution_count": 17,
     "metadata": {},
     "output_type": "execute_result"
    },
    {
     "data": {
      "image/png": "[encoded data removed]",
      "text/plain": [
       "<Figure size 432x288 with 1 Axes>"
      ]
     },
     "metadata": {
      "needs_background": "light"
     },
     "output_type": "display_data"
    }
   ],
   "source": [
    "sns.barplot(x = df['label'],y = df['daily_decr90']) # Similar to daily_decr30"
   ]
  },
  {
   "cell_type": "code",
   "execution_count": 18,
   "metadata": {},
   "outputs": [
    {
     "data": {
      "text/plain": [
       "<matplotlib.axes._subplots.AxesSubplot at 0x7f3756fbbc50>"
      ]
     },
     "execution_count": 18,
     "metadata": {},
     "output_type": "execute_result"
    },
    {
     "data": {
      "image/png": "[encoded data removed]",
      "text/plain": [
       "<Figure size 432x288 with 1 Axes>"
      ]
     },
     "metadata": {
      "needs_background": "light"
     },
     "output_type": "display_data"
    }
   ],
   "source": [
    "sns.barplot(x=df['label'],y = df['rental90']) "
   ]
  },
  {
   "cell_type": "code",
   "execution_count": 19,
   "metadata": {},
   "outputs": [
    {
     "data": {
      "text/plain": [
       "<matplotlib.axes._subplots.AxesSubplot at 0x7f3756f3ab10>"
      ]
     },
     "execution_count": 19,
     "metadata": {},
     "output_type": "execute_result"
    },
    {
     "data": {
      "image/png": "[encoded data removed]",
      "text/plain": [
       "<Figure size 432x288 with 1 Axes>"
      ]
     },
     "metadata": {
      "needs_background": "light"
     },
     "output_type": "display_data"
    }
   ],
   "source": [
    "sns.barplot(x = df['label'],y = df['rental30']) # similar to rental90"
   ]
  },
  {
   "cell_type": "code",
   "execution_count": 20,
   "metadata": {},
   "outputs": [
    {
     "data": {
      "text/plain": [
       "<matplotlib.axes._subplots.AxesSubplot at 0x7f3756f0c4d0>"
      ]
     },
     "execution_count": 20,
     "metadata": {},
     "output_type": "execute_result"
    },
    {
     "data": {
      "image/png": "[encoded data removed]",
      "text/plain": [
       "<Figure size 432x288 with 1 Axes>"
      ]
     },
     "metadata": {
      "needs_background": "light"
     },
     "output_type": "display_data"
    }
   ],
   "source": [
    "sns.barplot(x = df['label'],y = df['last_rech_date_ma'])"
   ]
  },
  {
   "cell_type": "code",
   "execution_count": 21,
   "metadata": {},
   "outputs": [
    {
     "data": {
      "text/plain": [
       "<matplotlib.axes._subplots.AxesSubplot at 0x7f3756e8ac10>"
      ]
     },
     "execution_count": 21,
     "metadata": {},
     "output_type": "execute_result"
    },
    {
     "data": {
      "image/png": "[encoded data removed]",
      "text/plain": [
       "<Figure size 432x288 with 1 Axes>"
      ]
     },
     "metadata": {
      "needs_background": "light"
     },
     "output_type": "display_data"
    }
   ],
   "source": [
    "sns.barplot(x = 'label',y = 'last_rech_date_da', data = df)"
   ]
  },
  {
   "cell_type": "code",
   "execution_count": 22,
   "metadata": {},
   "outputs": [
    {
     "data": {
      "text/plain": [
       "<matplotlib.axes._subplots.AxesSubplot at 0x7f3756e5c390>"
      ]
     },
     "execution_count": 22,
     "metadata": {},
     "output_type": "execute_result"
    },
    {
     "data": {
      "image/png": "[encoded data removed]",
      "text/plain": [
       "<Figure size 432x288 with 1 Axes>"
      ]
     },
     "metadata": {
      "needs_background": "light"
     },
     "output_type": "display_data"
    }
   ],
   "source": [
    "sns.barplot(x = 'label', y = 'last_rech_amt_ma', data = df)"
   ]
  },
  {
   "cell_type": "code",
   "execution_count": 23,
   "metadata": {},
   "outputs": [
    {
     "data": {
      "text/plain": [
       "<matplotlib.axes._subplots.AxesSubplot at 0x7f3784659990>"
      ]
     },
     "execution_count": 23,
     "metadata": {},
     "output_type": "execute_result"
    },
    {
     "data": {
      "image/png": "[encoded data removed]",
      "text/plain": [
       "<Figure size 432x288 with 1 Axes>"
      ]
     },
     "metadata": {
      "needs_background": "light"
     },
     "output_type": "display_data"
    }
   ],
   "source": [
    "sns.barplot(x = 'label',y = 'cnt_ma_rech30', data = df) # Useless"
   ]
  },
  {
   "cell_type": "code",
   "execution_count": 24,
   "metadata": {},
   "outputs": [
    {
     "data": {
      "text/plain": [
       "<matplotlib.axes._subplots.AxesSubplot at 0x7f3753688610>"
      ]
     },
     "execution_count": 24,
     "metadata": {},
     "output_type": "execute_result"
    },
    {
     "data": {
      "image/png": "[encoded data removed]",
      "text/plain": [
       "<Figure size 432x288 with 1 Axes>"
      ]
     },
     "metadata": {
      "needs_background": "light"
     },
     "output_type": "display_data"
    }
   ],
   "source": [
    "sns.barplot(x = 'label',y = 'cnt_ma_rech90', data = df) # similar to cnt_ma_rech30"
   ]
  },
  {
   "cell_type": "code",
   "execution_count": 25,
   "metadata": {},
   "outputs": [
    {
     "data": {
      "text/plain": [
       "<matplotlib.axes._subplots.AxesSubplot at 0x7f375365ef10>"
      ]
     },
     "execution_count": 25,
     "metadata": {},
     "output_type": "execute_result"
    },
    {
     "data": {
      "image/png": "[encoded data removed]",
      "text/plain": [
       "<Figure size 432x288 with 1 Axes>"
      ]
     },
     "metadata": {
      "needs_background": "light"
     },
     "output_type": "display_data"
    }
   ],
   "source": [
    "sns.barplot(x = 'label', y = 'fr_ma_rech30', data = df) "
   ]
  },
  {
   "cell_type": "code",
   "execution_count": 26,
   "metadata": {},
   "outputs": [
    {
     "data": {
      "text/plain": [
       "<matplotlib.axes._subplots.AxesSubplot at 0x7f37535c5a10>"
      ]
     },
     "execution_count": 26,
     "metadata": {},
     "output_type": "execute_result"
    },
    {
     "data": {
      "image/png": "[encoded data removed]",
      "text/plain": [
       "<Figure size 432x288 with 1 Axes>"
      ]
     },
     "metadata": {
      "needs_background": "light"
     },
     "output_type": "display_data"
    }
   ],
   "source": [
    "sns.barplot(x = 'label', y = 'fr_ma_rech90', data = df) # similar to fr_ma_rech30"
   ]
  },
  {
   "cell_type": "code",
   "execution_count": 27,
   "metadata": {},
   "outputs": [
    {
     "data": {
      "text/plain": [
       "<matplotlib.axes._subplots.AxesSubplot at 0x7f3753539050>"
      ]
     },
     "execution_count": 27,
     "metadata": {},
     "output_type": "execute_result"
    },
    {
     "data": {
      "image/png": "[encoded data removed]",
      "text/plain": [
       "<Figure size 432x288 with 1 Axes>"
      ]
     },
     "metadata": {
      "needs_background": "light"
     },
     "output_type": "display_data"
    }
   ],
   "source": [
    "sns.barplot(x = 'label',y = 'sumamnt_ma_rech30', data = df) "
   ]
  },
  {
   "cell_type": "code",
   "execution_count": 28,
   "metadata": {},
   "outputs": [
    {
     "data": {
      "text/plain": [
       "<matplotlib.axes._subplots.AxesSubplot at 0x7f3753522310>"
      ]
     },
     "execution_count": 28,
     "metadata": {},
     "output_type": "execute_result"
    },
    {
     "data": {
      "image/png": "[encoded data removed]",
      "text/plain": [
       "<Figure size 432x288 with 1 Axes>"
      ]
     },
     "metadata": {
      "needs_background": "light"
     },
     "output_type": "display_data"
    }
   ],
   "source": [
    "sns.barplot(x = 'label',y = 'sumamnt_ma_rech90', data = df) # similar to sumamnt_ma_rech30"
   ]
  },
  {
   "cell_type": "code",
   "execution_count": 29,
   "metadata": {},
   "outputs": [
    {
     "data": {
      "text/plain": [
       "<matplotlib.axes._subplots.AxesSubplot at 0x7f3753480e10>"
      ]
     },
     "execution_count": 29,
     "metadata": {},
     "output_type": "execute_result"
    },
    {
     "data": {
      "image/png": "[encoded data removed]",
      "text/plain": [
       "<Figure size 432x288 with 1 Axes>"
      ]
     },
     "metadata": {
      "needs_background": "light"
     },
     "output_type": "display_data"
    }
   ],
   "source": [
    "sns.barplot(x = 'label',y = 'medianamnt_ma_rech30', data = df) "
   ]
  },
  {
   "cell_type": "code",
   "execution_count": 30,
   "metadata": {},
   "outputs": [
    {
     "data": {
      "text/plain": [
       "<matplotlib.axes._subplots.AxesSubplot at 0x7f3753466790>"
      ]
     },
     "execution_count": 30,
     "metadata": {},
     "output_type": "execute_result"
    },
    {
     "data": {
      "image/png": "[encoded data removed]",
      "text/plain": [
       "<Figure size 432x288 with 1 Axes>"
      ]
     },
     "metadata": {
      "needs_background": "light"
     },
     "output_type": "display_data"
    }
   ],
   "source": [
    "sns.barplot(x = 'label',y = 'medianamnt_ma_rech90', data = df) # similar to medianamnt_ma_rech30"
   ]
  },
  {
   "cell_type": "code",
   "execution_count": 31,
   "metadata": {},
   "outputs": [
    {
     "data": {
      "text/plain": [
       "<matplotlib.axes._subplots.AxesSubplot at 0x7f37533cde50>"
      ]
     },
     "execution_count": 31,
     "metadata": {},
     "output_type": "execute_result"
    },
    {
     "data": {
      "image/png": "[encoded data removed]",
      "text/plain": [
       "<Figure size 432x288 with 1 Axes>"
      ]
     },
     "metadata": {
      "needs_background": "light"
     },
     "output_type": "display_data"
    }
   ],
   "source": [
    "sns.barplot(x = 'label',y = 'medianmarechprebal90', data = df)"
   ]
  },
  {
   "cell_type": "code",
   "execution_count": 32,
   "metadata": {},
   "outputs": [
    {
     "data": {
      "text/plain": [
       "<matplotlib.axes._subplots.AxesSubplot at 0x7f375333c3d0>"
      ]
     },
     "execution_count": 32,
     "metadata": {},
     "output_type": "execute_result"
    },
    {
     "data": {
      "image/png": "[encoded data removed]",
      "text/plain": [
       "<Figure size 432x288 with 1 Axes>"
      ]
     },
     "metadata": {
      "needs_background": "light"
     },
     "output_type": "display_data"
    }
   ],
   "source": [
    "sns.barplot(x = 'label', y = 'cnt_da_rech30', data = df) #Useless"
   ]
  },
  {
   "cell_type": "code",
   "execution_count": 33,
   "metadata": {},
   "outputs": [
    {
     "data": {
      "text/plain": [
       "<matplotlib.axes._subplots.AxesSubplot at 0x7f375330bd50>"
      ]
     },
     "execution_count": 33,
     "metadata": {},
     "output_type": "execute_result"
    },
    {
     "data": {
      "image/png": "[encoded data removed]",
      "text/plain": [
       "<Figure size 432x288 with 1 Axes>"
      ]
     },
     "metadata": {
      "needs_background": "light"
     },
     "output_type": "display_data"
    }
   ],
   "source": [
    "sns.barplot(x = 'label', y = 'cnt_da_rech90', data = df) # similar to cnt_da_rech30"
   ]
  },
  {
   "cell_type": "code",
   "execution_count": 34,
   "metadata": {},
   "outputs": [
    {
     "data": {
      "text/plain": [
       "<matplotlib.axes._subplots.AxesSubplot at 0x7f375327ce90>"
      ]
     },
     "execution_count": 34,
     "metadata": {},
     "output_type": "execute_result"
    },
    {
     "data": {
      "image/png": "[encoded data removed]",
      "text/plain": [
       "<Figure size 432x288 with 1 Axes>"
      ]
     },
     "metadata": {
      "needs_background": "light"
     },
     "output_type": "display_data"
    }
   ],
   "source": [
    "sns.barplot(x = 'label', y = 'amnt_loans30', data = df) "
   ]
  },
  {
   "cell_type": "code",
   "execution_count": 35,
   "metadata": {},
   "outputs": [
    {
     "data": {
      "text/plain": [
       "<matplotlib.axes._subplots.AxesSubplot at 0x7f3753266a90>"
      ]
     },
     "execution_count": 35,
     "metadata": {},
     "output_type": "execute_result"
    },
    {
     "data": {
      "image/png": "[encoded data removed]",
      "text/plain": [
       "<Figure size 432x288 with 1 Axes>"
      ]
     },
     "metadata": {
      "needs_background": "light"
     },
     "output_type": "display_data"
    }
   ],
   "source": [
    "sns.barplot(x = 'label', y = 'amnt_loans90', data = df) #similar to amnt_loans30"
   ]
  },
  {
   "cell_type": "code",
   "execution_count": 36,
   "metadata": {},
   "outputs": [
    {
     "data": {
      "text/plain": [
       "<matplotlib.axes._subplots.AxesSubplot at 0x7f37531ba390>"
      ]
     },
     "execution_count": 36,
     "metadata": {},
     "output_type": "execute_result"
    },
    {
     "data": {
      "image/png": "[encoded data removed]",
      "text/plain": [
       "<Figure size 432x288 with 1 Axes>"
      ]
     },
     "metadata": {
      "needs_background": "light"
     },
     "output_type": "display_data"
    }
   ],
   "source": [
    "sns.barplot(x = 'label', y = 'maxamnt_loans30', data = df)"
   ]
  },
  {
   "cell_type": "code",
   "execution_count": 37,
   "metadata": {},
   "outputs": [
    {
     "data": {
      "text/plain": [
       "<matplotlib.axes._subplots.AxesSubplot at 0x7f37531aa650>"
      ]
     },
     "execution_count": 37,
     "metadata": {},
     "output_type": "execute_result"
    },
    {
     "data": {
      "image/png": "[encoded data removed]",
      "text/plain": [
       "<Figure size 432x288 with 1 Axes>"
      ]
     },
     "metadata": {
      "needs_background": "light"
     },
     "output_type": "display_data"
    }
   ],
   "source": [
    "sns.barplot(x = 'label', y = 'maxamnt_loans90', data = df) # similar to maxamnt_loans30"
   ]
  },
  {
   "cell_type": "code",
   "execution_count": 38,
   "metadata": {},
   "outputs": [
    {
     "data": {
      "text/plain": [
       "<matplotlib.axes._subplots.AxesSubplot at 0x7f37531178d0>"
      ]
     },
     "execution_count": 38,
     "metadata": {},
     "output_type": "execute_result"
    },
    {
     "data": {
      "image/png": "[encoded data removed]",
      "text/plain": [
       "<Figure size 432x288 with 1 Axes>"
      ]
     },
     "metadata": {
      "needs_background": "light"
     },
     "output_type": "display_data"
    }
   ],
   "source": [
    "sns.barplot(x = 'label', y = 'medianamnt_loans30', data = df) "
   ]
  },
  {
   "cell_type": "code",
   "execution_count": 39,
   "metadata": {},
   "outputs": [
    {
     "data": {
      "text/plain": [
       "<matplotlib.axes._subplots.AxesSubplot at 0x7f3753196210>"
      ]
     },
     "execution_count": 39,
     "metadata": {},
     "output_type": "execute_result"
    },
    {
     "data": {
      "image/png": "[encoded data removed]",
      "text/plain": [
       "<Figure size 432x288 with 1 Axes>"
      ]
     },
     "metadata": {
      "needs_background": "light"
     },
     "output_type": "display_data"
    }
   ],
   "source": [
    "sns.barplot(x = 'label', y = 'medianamnt_loans90', data = df) # similar to medianamnt_loans30"
   ]
  },
  {
   "cell_type": "code",
   "execution_count": 40,
   "metadata": {},
   "outputs": [
    {
     "data": {
      "text/plain": [
       "<matplotlib.axes._subplots.AxesSubplot at 0x7f3753040a90>"
      ]
     },
     "execution_count": 40,
     "metadata": {},
     "output_type": "execute_result"
    },
    {
     "data": {
      "image/png": "[encoded data removed]",
      "text/plain": [
       "<Figure size 432x288 with 1 Axes>"
      ]
     },
     "metadata": {
      "needs_background": "light"
     },
     "output_type": "display_data"
    }
   ],
   "source": [
    "sns.barplot(x = 'label', y = 'payback30', data = df) "
   ]
  },
  {
   "cell_type": "code",
   "execution_count": 41,
   "metadata": {},
   "outputs": [
    {
     "data": {
      "text/plain": [
       "<matplotlib.axes._subplots.AxesSubplot at 0x7f37530202d0>"
      ]
     },
     "execution_count": 41,
     "metadata": {},
     "output_type": "execute_result"
    },
    {
     "data": {
      "image/png": "[encoded data removed]",
      "text/plain": [
       "<Figure size 432x288 with 1 Axes>"
      ]
     },
     "metadata": {
      "needs_background": "light"
     },
     "output_type": "display_data"
    }
   ],
   "source": [
    "sns.barplot(x = 'label', y = 'payback90', data = df) # similar to payback30"
   ]
  },
  {
   "cell_type": "markdown",
   "metadata": {},
   "source": [
    "**Conclusion:** By looking at the plots we can conclude that the data distribution for 30 days and 90 days are almost similar. So, we can either drop 30 days data or 90 days data and proceed."
   ]
  },
  {
   "cell_type": "code",
   "execution_count": 42,
   "metadata": {},
   "outputs": [
    {
     "data": {
      "text/plain": [
       "Index(['label', 'aon', 'daily_decr30', 'daily_decr90', 'rental30', 'rental90',\n",
       "       'last_rech_date_ma', 'last_rech_date_da', 'last_rech_amt_ma',\n",
       "       'cnt_ma_rech30', 'fr_ma_rech30', 'sumamnt_ma_rech30',\n",
       "       'medianamnt_ma_rech30', 'cnt_ma_rech90', 'fr_ma_rech90',\n",
       "       'sumamnt_ma_rech90', 'medianamnt_ma_rech90', 'medianmarechprebal90',\n",
       "       'cnt_da_rech30', 'fr_da_rech30', 'cnt_da_rech90', 'fr_da_rech90',\n",
       "       'cnt_loans30', 'amnt_loans30', 'maxamnt_loans30', 'medianamnt_loans30',\n",
       "       'cnt_loans90', 'amnt_loans90', 'maxamnt_loans90', 'medianamnt_loans90',\n",
       "       'payback30', 'payback90'],\n",
       "      dtype='object')"
      ]
     },
     "execution_count": 42,
     "metadata": {},
     "output_type": "execute_result"
    }
   ],
   "source": [
    "df.columns"
   ]
  },
  {
   "cell_type": "code",
   "execution_count": 43,
   "metadata": {},
   "outputs": [],
   "source": [
    "# Dropping Columns\n",
    "df.drop(['daily_decr90','rental30', 'cnt_ma_rech30','fr_ma_rech30','sumamnt_ma_rech30','medianamnt_ma_rech30','cnt_da_rech30',\n",
    "         'fr_da_rech30','cnt_loans30','amnt_loans30','maxamnt_loans30','medianamnt_loans30','payback30'],\n",
    "       axis = 1, inplace = True)"
   ]
  },
  {
   "cell_type": "code",
   "execution_count": 44,
   "metadata": {},
   "outputs": [
    {
     "data": {
      "text/html": [
       "<div>\n",
       "<style scoped>\n",
       "    .dataframe tbody tr th:only-of-type {\n",
       "        vertical-align: middle;\n",
       "    }\n",
       "\n",
       "    .dataframe tbody tr th {\n",
       "        vertical-align: top;\n",
       "    }\n",
       "\n",
       "    .dataframe thead th {\n",
       "        text-align: right;\n",
       "    }\n",
       "</style>\n",
       "<table border=\"1\" class=\"dataframe\">\n",
       "  <thead>\n",
       "    <tr style=\"text-align: right;\">\n",
       "      <th></th>\n",
       "      <th>label</th>\n",
       "      <th>aon</th>\n",
       "      <th>daily_decr30</th>\n",
       "      <th>rental90</th>\n",
       "      <th>last_rech_date_ma</th>\n",
       "      <th>last_rech_date_da</th>\n",
       "      <th>last_rech_amt_ma</th>\n",
       "      <th>cnt_ma_rech90</th>\n",
       "      <th>fr_ma_rech90</th>\n",
       "      <th>sumamnt_ma_rech90</th>\n",
       "      <th>medianamnt_ma_rech90</th>\n",
       "      <th>medianmarechprebal90</th>\n",
       "      <th>cnt_da_rech90</th>\n",
       "      <th>fr_da_rech90</th>\n",
       "      <th>cnt_loans90</th>\n",
       "      <th>amnt_loans90</th>\n",
       "      <th>maxamnt_loans90</th>\n",
       "      <th>medianamnt_loans90</th>\n",
       "      <th>payback90</th>\n",
       "    </tr>\n",
       "    <tr>\n",
       "      <th>Index</th>\n",
       "      <th></th>\n",
       "      <th></th>\n",
       "      <th></th>\n",
       "      <th></th>\n",
       "      <th></th>\n",
       "      <th></th>\n",
       "      <th></th>\n",
       "      <th></th>\n",
       "      <th></th>\n",
       "      <th></th>\n",
       "      <th></th>\n",
       "      <th></th>\n",
       "      <th></th>\n",
       "      <th></th>\n",
       "      <th></th>\n",
       "      <th></th>\n",
       "      <th></th>\n",
       "      <th></th>\n",
       "      <th></th>\n",
       "    </tr>\n",
       "  </thead>\n",
       "  <tbody>\n",
       "    <tr>\n",
       "      <th>2</th>\n",
       "      <td>1.0</td>\n",
       "      <td>712.0</td>\n",
       "      <td>12122.000000</td>\n",
       "      <td>3691.26</td>\n",
       "      <td>20.0</td>\n",
       "      <td>0.0</td>\n",
       "      <td>5787.0</td>\n",
       "      <td>1.0</td>\n",
       "      <td>0.0</td>\n",
       "      <td>5787.0</td>\n",
       "      <td>5787.0</td>\n",
       "      <td>61.04</td>\n",
       "      <td>0.0</td>\n",
       "      <td>0.0</td>\n",
       "      <td>1.0</td>\n",
       "      <td>12.0</td>\n",
       "      <td>12.0</td>\n",
       "      <td>0.0</td>\n",
       "      <td>0.000000</td>\n",
       "    </tr>\n",
       "    <tr>\n",
       "      <th>3</th>\n",
       "      <td>1.0</td>\n",
       "      <td>535.0</td>\n",
       "      <td>1398.000000</td>\n",
       "      <td>900.13</td>\n",
       "      <td>3.0</td>\n",
       "      <td>0.0</td>\n",
       "      <td>1539.0</td>\n",
       "      <td>1.0</td>\n",
       "      <td>0.0</td>\n",
       "      <td>1539.0</td>\n",
       "      <td>1539.0</td>\n",
       "      <td>66.32</td>\n",
       "      <td>0.0</td>\n",
       "      <td>0.0</td>\n",
       "      <td>1.0</td>\n",
       "      <td>6.0</td>\n",
       "      <td>6.0</td>\n",
       "      <td>0.0</td>\n",
       "      <td>0.000000</td>\n",
       "    </tr>\n",
       "    <tr>\n",
       "      <th>4</th>\n",
       "      <td>1.0</td>\n",
       "      <td>241.0</td>\n",
       "      <td>21.228000</td>\n",
       "      <td>159.42</td>\n",
       "      <td>41.0</td>\n",
       "      <td>0.0</td>\n",
       "      <td>947.0</td>\n",
       "      <td>1.0</td>\n",
       "      <td>0.0</td>\n",
       "      <td>947.0</td>\n",
       "      <td>947.0</td>\n",
       "      <td>2.50</td>\n",
       "      <td>0.0</td>\n",
       "      <td>0.0</td>\n",
       "      <td>2.0</td>\n",
       "      <td>12.0</td>\n",
       "      <td>6.0</td>\n",
       "      <td>0.0</td>\n",
       "      <td>0.000000</td>\n",
       "    </tr>\n",
       "    <tr>\n",
       "      <th>5</th>\n",
       "      <td>1.0</td>\n",
       "      <td>947.0</td>\n",
       "      <td>150.619333</td>\n",
       "      <td>1098.90</td>\n",
       "      <td>4.0</td>\n",
       "      <td>0.0</td>\n",
       "      <td>2309.0</td>\n",
       "      <td>8.0</td>\n",
       "      <td>2.0</td>\n",
       "      <td>23496.0</td>\n",
       "      <td>2888.0</td>\n",
       "      <td>35.00</td>\n",
       "      <td>0.0</td>\n",
       "      <td>0.0</td>\n",
       "      <td>7.0</td>\n",
       "      <td>42.0</td>\n",
       "      <td>6.0</td>\n",
       "      <td>0.0</td>\n",
       "      <td>2.333333</td>\n",
       "    </tr>\n",
       "    <tr>\n",
       "      <th>6</th>\n",
       "      <td>1.0</td>\n",
       "      <td>568.0</td>\n",
       "      <td>2257.362667</td>\n",
       "      <td>380.13</td>\n",
       "      <td>2.0</td>\n",
       "      <td>0.0</td>\n",
       "      <td>1539.0</td>\n",
       "      <td>8.0</td>\n",
       "      <td>0.0</td>\n",
       "      <td>11744.0</td>\n",
       "      <td>1539.0</td>\n",
       "      <td>55.90</td>\n",
       "      <td>0.0</td>\n",
       "      <td>0.0</td>\n",
       "      <td>3.0</td>\n",
       "      <td>18.0</td>\n",
       "      <td>6.0</td>\n",
       "      <td>0.0</td>\n",
       "      <td>8.333333</td>\n",
       "    </tr>\n",
       "  </tbody>\n",
       "</table>\n",
       "</div>"
      ],
      "text/plain": [
       "       label    aon  daily_decr30  rental90  last_rech_date_ma  \\\n",
       "Index                                                            \n",
       "2        1.0  712.0  12122.000000   3691.26               20.0   \n",
       "3        1.0  535.0   1398.000000    900.13                3.0   \n",
       "4        1.0  241.0     21.228000    159.42               41.0   \n",
       "5        1.0  947.0    150.619333   1098.90                4.0   \n",
       "6        1.0  568.0   2257.362667    380.13                2.0   \n",
       "\n",
       "       last_rech_date_da  last_rech_amt_ma  cnt_ma_rech90  fr_ma_rech90  \\\n",
       "Index                                                                     \n",
       "2                    0.0            5787.0            1.0           0.0   \n",
       "3                    0.0            1539.0            1.0           0.0   \n",
       "4                    0.0             947.0            1.0           0.0   \n",
       "5                    0.0            2309.0            8.0           2.0   \n",
       "6                    0.0            1539.0            8.0           0.0   \n",
       "\n",
       "       sumamnt_ma_rech90  medianamnt_ma_rech90  medianmarechprebal90  \\\n",
       "Index                                                                  \n",
       "2                 5787.0                5787.0                 61.04   \n",
       "3                 1539.0                1539.0                 66.32   \n",
       "4                  947.0                 947.0                  2.50   \n",
       "5                23496.0                2888.0                 35.00   \n",
       "6                11744.0                1539.0                 55.90   \n",
       "\n",
       "       cnt_da_rech90  fr_da_rech90  cnt_loans90  amnt_loans90  \\\n",
       "Index                                                           \n",
       "2                0.0           0.0          1.0          12.0   \n",
       "3                0.0           0.0          1.0           6.0   \n",
       "4                0.0           0.0          2.0          12.0   \n",
       "5                0.0           0.0          7.0          42.0   \n",
       "6                0.0           0.0          3.0          18.0   \n",
       "\n",
       "       maxamnt_loans90  medianamnt_loans90  payback90  \n",
       "Index                                                  \n",
       "2                 12.0                 0.0   0.000000  \n",
       "3                  6.0                 0.0   0.000000  \n",
       "4                  6.0                 0.0   0.000000  \n",
       "5                  6.0                 0.0   2.333333  \n",
       "6                  6.0                 0.0   8.333333  "
      ]
     },
     "execution_count": 44,
     "metadata": {},
     "output_type": "execute_result"
    }
   ],
   "source": [
    "df.head()"
   ]
  },
  {
   "cell_type": "code",
   "execution_count": 45,
   "metadata": {},
   "outputs": [
    {
     "data": {
      "text/plain": [
       "(329451, 19)"
      ]
     },
     "execution_count": 45,
     "metadata": {},
     "output_type": "execute_result"
    }
   ],
   "source": [
    "df.shape"
   ]
  },
  {
   "cell_type": "code",
   "execution_count": 46,
   "metadata": {},
   "outputs": [
    {
     "name": "stdout",
     "output_type": "stream",
     "text": [
      "Index\n",
      "2         False\n",
      "3          True\n",
      "4          True\n",
      "5          True\n",
      "6          True\n",
      "          ...  \n",
      "189995    False\n",
      "189996     True\n",
      "189997     True\n",
      "190000     True\n",
      "190001    False\n",
      "Name: maxamnt_loans90, Length: 329451, dtype: bool\n"
     ]
    }
   ],
   "source": [
    "# For categorical data\n",
    "print(df['maxamnt_loans90'] == 6)"
   ]
  },
  {
   "cell_type": "code",
   "execution_count": 47,
   "metadata": {},
   "outputs": [
    {
     "name": "stdout",
     "output_type": "stream",
     "text": [
      "Index\n",
      "3         1.0\n",
      "4         1.0\n",
      "5         1.0\n",
      "6         1.0\n",
      "7         1.0\n",
      "         ... \n",
      "189992    1.0\n",
      "189994    1.0\n",
      "189996    0.0\n",
      "189997    0.0\n",
      "190000    0.0\n",
      "Name: label, Length: 288360, dtype: float64\n",
      "1.0    248266\n",
      "0.0     40094\n",
      "Name: label, dtype: int64\n"
     ]
    }
   ],
   "source": [
    "print(df['label'][df['maxamnt_loans90']==6])\n",
    "print(df['label'][df['maxamnt_loans90']==6].value_counts())"
   ]
  },
  {
   "cell_type": "code",
   "execution_count": 48,
   "metadata": {},
   "outputs": [
    {
     "name": "stdout",
     "output_type": "stream",
     "text": [
      "1.0    248266\n",
      "0.0     40094\n",
      "Name: label, dtype: int64\n",
      "1.0    0.860959\n",
      "0.0    0.139041\n",
      "Name: label, dtype: float64\n"
     ]
    }
   ],
   "source": [
    "print(df['label'][df['maxamnt_loans90']==6].value_counts())\n",
    "print(df['label'][df['maxamnt_loans90']==6].value_counts(normalize = True))"
   ]
  },
  {
   "cell_type": "code",
   "execution_count": 49,
   "metadata": {},
   "outputs": [
    {
     "name": "stdout",
     "output_type": "stream",
     "text": [
      "Percentage of users(took loan of Rs.6), paid their loan:  86.09585240671383 %\n",
      "Percentage of users(took loan of Rs.12) paid their loan:  96.0007347731388 %\n"
     ]
    }
   ],
   "source": [
    "print('Percentage of users(took loan of Rs.6), paid their loan: ',df['label'][df['maxamnt_loans90']==6].value_counts(normalize = True)[1]*100,'%')\n",
    "print('Percentage of users(took loan of Rs.12) paid their loan: ',df['label'][df['maxamnt_loans90']==12].value_counts(normalize = True)[1]*100,'%')"
   ]
  },
  {
   "cell_type": "code",
   "execution_count": 50,
   "metadata": {},
   "outputs": [
    {
     "data": {
      "text/html": [
       "<div>\n",
       "<style scoped>\n",
       "    .dataframe tbody tr th:only-of-type {\n",
       "        vertical-align: middle;\n",
       "    }\n",
       "\n",
       "    .dataframe tbody tr th {\n",
       "        vertical-align: top;\n",
       "    }\n",
       "\n",
       "    .dataframe thead th {\n",
       "        text-align: right;\n",
       "    }\n",
       "</style>\n",
       "<table border=\"1\" class=\"dataframe\">\n",
       "  <thead>\n",
       "    <tr style=\"text-align: right;\">\n",
       "      <th></th>\n",
       "      <th>label</th>\n",
       "      <th>aon</th>\n",
       "      <th>daily_decr30</th>\n",
       "      <th>rental90</th>\n",
       "      <th>last_rech_date_ma</th>\n",
       "      <th>last_rech_date_da</th>\n",
       "      <th>last_rech_amt_ma</th>\n",
       "      <th>cnt_ma_rech90</th>\n",
       "      <th>fr_ma_rech90</th>\n",
       "      <th>sumamnt_ma_rech90</th>\n",
       "      <th>medianamnt_ma_rech90</th>\n",
       "      <th>medianmarechprebal90</th>\n",
       "      <th>cnt_da_rech90</th>\n",
       "      <th>fr_da_rech90</th>\n",
       "      <th>cnt_loans90</th>\n",
       "      <th>amnt_loans90</th>\n",
       "      <th>maxamnt_loans90</th>\n",
       "      <th>medianamnt_loans90</th>\n",
       "      <th>payback90</th>\n",
       "    </tr>\n",
       "  </thead>\n",
       "  <tbody>\n",
       "    <tr>\n",
       "      <th>count</th>\n",
       "      <td>329451.000000</td>\n",
       "      <td>329451.000000</td>\n",
       "      <td>329451.000000</td>\n",
       "      <td>329451.000000</td>\n",
       "      <td>329451.000000</td>\n",
       "      <td>329451.000000</td>\n",
       "      <td>329451.000000</td>\n",
       "      <td>329451.000000</td>\n",
       "      <td>329451.000000</td>\n",
       "      <td>329451.000000</td>\n",
       "      <td>329451.000000</td>\n",
       "      <td>329451.000000</td>\n",
       "      <td>329451.000000</td>\n",
       "      <td>329451.000000</td>\n",
       "      <td>329451.000000</td>\n",
       "      <td>329451.000000</td>\n",
       "      <td>329451.000000</td>\n",
       "      <td>329451.000000</td>\n",
       "      <td>329451.000000</td>\n",
       "    </tr>\n",
       "    <tr>\n",
       "      <th>mean</th>\n",
       "      <td>0.873675</td>\n",
       "      <td>651.000835</td>\n",
       "      <td>4618.771961</td>\n",
       "      <td>2980.312087</td>\n",
       "      <td>5.955617</td>\n",
       "      <td>0.841212</td>\n",
       "      <td>1975.261584</td>\n",
       "      <td>6.024765</td>\n",
       "      <td>7.526348</td>\n",
       "      <td>11133.950988</td>\n",
       "      <td>1778.721819</td>\n",
       "      <td>70.026801</td>\n",
       "      <td>0.022028</td>\n",
       "      <td>0.000358</td>\n",
       "      <td>3.588807</td>\n",
       "      <td>22.766345</td>\n",
       "      <td>6.639664</td>\n",
       "      <td>0.042900</td>\n",
       "      <td>3.150558</td>\n",
       "    </tr>\n",
       "    <tr>\n",
       "      <th>std</th>\n",
       "      <td>0.332216</td>\n",
       "      <td>499.756713</td>\n",
       "      <td>7060.672251</td>\n",
       "      <td>4398.136627</td>\n",
       "      <td>9.491131</td>\n",
       "      <td>6.812485</td>\n",
       "      <td>2152.203146</td>\n",
       "      <td>6.319953</td>\n",
       "      <td>12.038613</td>\n",
       "      <td>12669.753693</td>\n",
       "      <td>1892.465961</td>\n",
       "      <td>107.621555</td>\n",
       "      <td>0.154589</td>\n",
       "      <td>0.029047</td>\n",
       "      <td>3.675946</td>\n",
       "      <td>23.653125</td>\n",
       "      <td>2.020140</td>\n",
       "      <td>0.185741</td>\n",
       "      <td>4.872537</td>\n",
       "    </tr>\n",
       "    <tr>\n",
       "      <th>min</th>\n",
       "      <td>0.000000</td>\n",
       "      <td>-48.000000</td>\n",
       "      <td>-46.215000</td>\n",
       "      <td>-7786.750000</td>\n",
       "      <td>-29.000000</td>\n",
       "      <td>-29.000000</td>\n",
       "      <td>0.000000</td>\n",
       "      <td>0.000000</td>\n",
       "      <td>0.000000</td>\n",
       "      <td>0.000000</td>\n",
       "      <td>0.000000</td>\n",
       "      <td>-200.000000</td>\n",
       "      <td>0.000000</td>\n",
       "      <td>0.000000</td>\n",
       "      <td>0.000000</td>\n",
       "      <td>0.000000</td>\n",
       "      <td>0.000000</td>\n",
       "      <td>0.000000</td>\n",
       "      <td>0.000000</td>\n",
       "    </tr>\n",
       "    <tr>\n",
       "      <th>25%</th>\n",
       "      <td>1.000000</td>\n",
       "      <td>240.000000</td>\n",
       "      <td>37.436833</td>\n",
       "      <td>283.730000</td>\n",
       "      <td>1.000000</td>\n",
       "      <td>0.000000</td>\n",
       "      <td>770.000000</td>\n",
       "      <td>2.000000</td>\n",
       "      <td>0.000000</td>\n",
       "      <td>2312.000000</td>\n",
       "      <td>773.000000</td>\n",
       "      <td>14.000000</td>\n",
       "      <td>0.000000</td>\n",
       "      <td>0.000000</td>\n",
       "      <td>1.000000</td>\n",
       "      <td>6.000000</td>\n",
       "      <td>6.000000</td>\n",
       "      <td>0.000000</td>\n",
       "      <td>0.000000</td>\n",
       "    </tr>\n",
       "    <tr>\n",
       "      <th>50%</th>\n",
       "      <td>1.000000</td>\n",
       "      <td>515.000000</td>\n",
       "      <td>1200.000000</td>\n",
       "      <td>1225.920000</td>\n",
       "      <td>3.000000</td>\n",
       "      <td>0.000000</td>\n",
       "      <td>1539.000000</td>\n",
       "      <td>4.000000</td>\n",
       "      <td>2.000000</td>\n",
       "      <td>7029.000000</td>\n",
       "      <td>1539.000000</td>\n",
       "      <td>34.900000</td>\n",
       "      <td>0.000000</td>\n",
       "      <td>0.000000</td>\n",
       "      <td>2.000000</td>\n",
       "      <td>12.000000</td>\n",
       "      <td>6.000000</td>\n",
       "      <td>0.000000</td>\n",
       "      <td>1.500000</td>\n",
       "    </tr>\n",
       "    <tr>\n",
       "      <th>75%</th>\n",
       "      <td>1.000000</td>\n",
       "      <td>953.000000</td>\n",
       "      <td>6613.762000</td>\n",
       "      <td>3791.560000</td>\n",
       "      <td>7.000000</td>\n",
       "      <td>0.000000</td>\n",
       "      <td>2309.000000</td>\n",
       "      <td>8.000000</td>\n",
       "      <td>8.000000</td>\n",
       "      <td>15414.000000</td>\n",
       "      <td>1731.500000</td>\n",
       "      <td>76.800000</td>\n",
       "      <td>0.000000</td>\n",
       "      <td>0.000000</td>\n",
       "      <td>5.000000</td>\n",
       "      <td>30.000000</td>\n",
       "      <td>6.000000</td>\n",
       "      <td>0.000000</td>\n",
       "      <td>4.333333</td>\n",
       "    </tr>\n",
       "    <tr>\n",
       "      <th>max</th>\n",
       "      <td>1.000000</td>\n",
       "      <td>2883.000000</td>\n",
       "      <td>42763.317000</td>\n",
       "      <td>27679.870000</td>\n",
       "      <td>113.000000</td>\n",
       "      <td>115.000000</td>\n",
       "      <td>16000.000000</td>\n",
       "      <td>51.000000</td>\n",
       "      <td>63.000000</td>\n",
       "      <td>98644.000000</td>\n",
       "      <td>14250.000000</td>\n",
       "      <td>778.210000</td>\n",
       "      <td>2.000000</td>\n",
       "      <td>3.000000</td>\n",
       "      <td>31.000000</td>\n",
       "      <td>186.000000</td>\n",
       "      <td>12.000000</td>\n",
       "      <td>1.500000</td>\n",
       "      <td>35.000000</td>\n",
       "    </tr>\n",
       "  </tbody>\n",
       "</table>\n",
       "</div>"
      ],
      "text/plain": [
       "               label            aon   daily_decr30       rental90  \\\n",
       "count  329451.000000  329451.000000  329451.000000  329451.000000   \n",
       "mean        0.873675     651.000835    4618.771961    2980.312087   \n",
       "std         0.332216     499.756713    7060.672251    4398.136627   \n",
       "min         0.000000     -48.000000     -46.215000   -7786.750000   \n",
       "25%         1.000000     240.000000      37.436833     283.730000   \n",
       "50%         1.000000     515.000000    1200.000000    1225.920000   \n",
       "75%         1.000000     953.000000    6613.762000    3791.560000   \n",
       "max         1.000000    2883.000000   42763.317000   27679.870000   \n",
       "\n",
       "       last_rech_date_ma  last_rech_date_da  last_rech_amt_ma  cnt_ma_rech90  \\\n",
       "count      329451.000000      329451.000000     329451.000000  329451.000000   \n",
       "mean            5.955617           0.841212       1975.261584       6.024765   \n",
       "std             9.491131           6.812485       2152.203146       6.319953   \n",
       "min           -29.000000         -29.000000          0.000000       0.000000   \n",
       "25%             1.000000           0.000000        770.000000       2.000000   \n",
       "50%             3.000000           0.000000       1539.000000       4.000000   \n",
       "75%             7.000000           0.000000       2309.000000       8.000000   \n",
       "max           113.000000         115.000000      16000.000000      51.000000   \n",
       "\n",
       "        fr_ma_rech90  sumamnt_ma_rech90  medianamnt_ma_rech90  \\\n",
       "count  329451.000000      329451.000000         329451.000000   \n",
       "mean        7.526348       11133.950988           1778.721819   \n",
       "std        12.038613       12669.753693           1892.465961   \n",
       "min         0.000000           0.000000              0.000000   \n",
       "25%         0.000000        2312.000000            773.000000   \n",
       "50%         2.000000        7029.000000           1539.000000   \n",
       "75%         8.000000       15414.000000           1731.500000   \n",
       "max        63.000000       98644.000000          14250.000000   \n",
       "\n",
       "       medianmarechprebal90  cnt_da_rech90   fr_da_rech90    cnt_loans90  \\\n",
       "count         329451.000000  329451.000000  329451.000000  329451.000000   \n",
       "mean              70.026801       0.022028       0.000358       3.588807   \n",
       "std              107.621555       0.154589       0.029047       3.675946   \n",
       "min             -200.000000       0.000000       0.000000       0.000000   \n",
       "25%               14.000000       0.000000       0.000000       1.000000   \n",
       "50%               34.900000       0.000000       0.000000       2.000000   \n",
       "75%               76.800000       0.000000       0.000000       5.000000   \n",
       "max              778.210000       2.000000       3.000000      31.000000   \n",
       "\n",
       "        amnt_loans90  maxamnt_loans90  medianamnt_loans90      payback90  \n",
       "count  329451.000000    329451.000000       329451.000000  329451.000000  \n",
       "mean       22.766345         6.639664            0.042900       3.150558  \n",
       "std        23.653125         2.020140            0.185741       4.872537  \n",
       "min         0.000000         0.000000            0.000000       0.000000  \n",
       "25%         6.000000         6.000000            0.000000       0.000000  \n",
       "50%        12.000000         6.000000            0.000000       1.500000  \n",
       "75%        30.000000         6.000000            0.000000       4.333333  \n",
       "max       186.000000        12.000000            1.500000      35.000000  "
      ]
     },
     "execution_count": 50,
     "metadata": {},
     "output_type": "execute_result"
    }
   ],
   "source": [
    "df.describe(include = 'all')"
   ]
  },
  {
   "cell_type": "markdown",
   "metadata": {},
   "source": [
    "- From above description: We have negative values in our dataset? but how is it possible, because according to our dataset nothing can be negative. Therefore, all those values are also trash which we will clean now."
   ]
  },
  {
   "cell_type": "code",
   "execution_count": 51,
   "metadata": {},
   "outputs": [],
   "source": [
    "# Replacing negative values with NaN\n",
    "for i in df:\n",
    "    df[i] = df[i].apply(lambda x: np.nan if x<0 else x)"
   ]
  },
  {
   "cell_type": "code",
   "execution_count": 52,
   "metadata": {},
   "outputs": [],
   "source": [
    "# Removing NaN values\n",
    "df.dropna(axis = 0,how = 'any',inplace = True)"
   ]
  },
  {
   "cell_type": "code",
   "execution_count": 53,
   "metadata": {},
   "outputs": [
    {
     "data": {
      "text/html": [
       "<div>\n",
       "<style scoped>\n",
       "    .dataframe tbody tr th:only-of-type {\n",
       "        vertical-align: middle;\n",
       "    }\n",
       "\n",
       "    .dataframe tbody tr th {\n",
       "        vertical-align: top;\n",
       "    }\n",
       "\n",
       "    .dataframe thead th {\n",
       "        text-align: right;\n",
       "    }\n",
       "</style>\n",
       "<table border=\"1\" class=\"dataframe\">\n",
       "  <thead>\n",
       "    <tr style=\"text-align: right;\">\n",
       "      <th></th>\n",
       "      <th>label</th>\n",
       "      <th>aon</th>\n",
       "      <th>daily_decr30</th>\n",
       "      <th>rental90</th>\n",
       "      <th>last_rech_date_ma</th>\n",
       "      <th>last_rech_date_da</th>\n",
       "      <th>last_rech_amt_ma</th>\n",
       "      <th>cnt_ma_rech90</th>\n",
       "      <th>fr_ma_rech90</th>\n",
       "      <th>sumamnt_ma_rech90</th>\n",
       "      <th>medianamnt_ma_rech90</th>\n",
       "      <th>medianmarechprebal90</th>\n",
       "      <th>cnt_da_rech90</th>\n",
       "      <th>fr_da_rech90</th>\n",
       "      <th>cnt_loans90</th>\n",
       "      <th>amnt_loans90</th>\n",
       "      <th>maxamnt_loans90</th>\n",
       "      <th>medianamnt_loans90</th>\n",
       "      <th>payback90</th>\n",
       "    </tr>\n",
       "  </thead>\n",
       "  <tbody>\n",
       "    <tr>\n",
       "      <th>count</th>\n",
       "      <td>310017.000000</td>\n",
       "      <td>310017.000000</td>\n",
       "      <td>310017.000000</td>\n",
       "      <td>310017.000000</td>\n",
       "      <td>310017.000000</td>\n",
       "      <td>310017.000000</td>\n",
       "      <td>310017.000000</td>\n",
       "      <td>310017.000000</td>\n",
       "      <td>310017.000000</td>\n",
       "      <td>310017.000000</td>\n",
       "      <td>310017.000000</td>\n",
       "      <td>310017.000000</td>\n",
       "      <td>310017.000000</td>\n",
       "      <td>310017.000000</td>\n",
       "      <td>310017.000000</td>\n",
       "      <td>310017.000000</td>\n",
       "      <td>310017.000000</td>\n",
       "      <td>310017.00000</td>\n",
       "      <td>310017.000000</td>\n",
       "    </tr>\n",
       "    <tr>\n",
       "      <th>mean</th>\n",
       "      <td>0.880994</td>\n",
       "      <td>652.821087</td>\n",
       "      <td>4832.962227</td>\n",
       "      <td>3133.023055</td>\n",
       "      <td>6.099066</td>\n",
       "      <td>0.875571</td>\n",
       "      <td>1931.107162</td>\n",
       "      <td>6.222491</td>\n",
       "      <td>7.499656</td>\n",
       "      <td>11301.425222</td>\n",
       "      <td>1733.592205</td>\n",
       "      <td>71.930203</td>\n",
       "      <td>0.022583</td>\n",
       "      <td>0.000381</td>\n",
       "      <td>3.690807</td>\n",
       "      <td>23.439377</td>\n",
       "      <td>6.667841</td>\n",
       "      <td>0.04237</td>\n",
       "      <td>3.244834</td>\n",
       "    </tr>\n",
       "    <tr>\n",
       "      <th>std</th>\n",
       "      <td>0.323797</td>\n",
       "      <td>496.041319</td>\n",
       "      <td>7177.147046</td>\n",
       "      <td>4453.899243</td>\n",
       "      <td>9.110418</td>\n",
       "      <td>6.957336</td>\n",
       "      <td>2064.736320</td>\n",
       "      <td>6.404492</td>\n",
       "      <td>11.934443</td>\n",
       "      <td>12711.228177</td>\n",
       "      <td>1798.602418</td>\n",
       "      <td>105.321513</td>\n",
       "      <td>0.156478</td>\n",
       "      <td>0.029943</td>\n",
       "      <td>3.735020</td>\n",
       "      <td>24.039823</td>\n",
       "      <td>2.059271</td>\n",
       "      <td>0.18434</td>\n",
       "      <td>4.913048</td>\n",
       "    </tr>\n",
       "    <tr>\n",
       "      <th>min</th>\n",
       "      <td>0.000000</td>\n",
       "      <td>1.000000</td>\n",
       "      <td>0.000000</td>\n",
       "      <td>0.000000</td>\n",
       "      <td>0.000000</td>\n",
       "      <td>0.000000</td>\n",
       "      <td>0.000000</td>\n",
       "      <td>0.000000</td>\n",
       "      <td>0.000000</td>\n",
       "      <td>0.000000</td>\n",
       "      <td>0.000000</td>\n",
       "      <td>0.000000</td>\n",
       "      <td>0.000000</td>\n",
       "      <td>0.000000</td>\n",
       "      <td>0.000000</td>\n",
       "      <td>0.000000</td>\n",
       "      <td>0.000000</td>\n",
       "      <td>0.00000</td>\n",
       "      <td>0.000000</td>\n",
       "    </tr>\n",
       "    <tr>\n",
       "      <th>25%</th>\n",
       "      <td>1.000000</td>\n",
       "      <td>244.000000</td>\n",
       "      <td>41.310000</td>\n",
       "      <td>349.230000</td>\n",
       "      <td>1.000000</td>\n",
       "      <td>0.000000</td>\n",
       "      <td>770.000000</td>\n",
       "      <td>2.000000</td>\n",
       "      <td>0.000000</td>\n",
       "      <td>2319.000000</td>\n",
       "      <td>773.000000</td>\n",
       "      <td>15.500000</td>\n",
       "      <td>0.000000</td>\n",
       "      <td>0.000000</td>\n",
       "      <td>1.000000</td>\n",
       "      <td>6.000000</td>\n",
       "      <td>6.000000</td>\n",
       "      <td>0.00000</td>\n",
       "      <td>0.000000</td>\n",
       "    </tr>\n",
       "    <tr>\n",
       "      <th>50%</th>\n",
       "      <td>1.000000</td>\n",
       "      <td>516.000000</td>\n",
       "      <td>1480.254000</td>\n",
       "      <td>1349.100000</td>\n",
       "      <td>3.000000</td>\n",
       "      <td>0.000000</td>\n",
       "      <td>1539.000000</td>\n",
       "      <td>4.000000</td>\n",
       "      <td>2.000000</td>\n",
       "      <td>7134.000000</td>\n",
       "      <td>1539.000000</td>\n",
       "      <td>36.250000</td>\n",
       "      <td>0.000000</td>\n",
       "      <td>0.000000</td>\n",
       "      <td>2.000000</td>\n",
       "      <td>12.000000</td>\n",
       "      <td>6.000000</td>\n",
       "      <td>0.00000</td>\n",
       "      <td>1.750000</td>\n",
       "    </tr>\n",
       "    <tr>\n",
       "      <th>75%</th>\n",
       "      <td>1.000000</td>\n",
       "      <td>951.000000</td>\n",
       "      <td>7002.780000</td>\n",
       "      <td>3999.100000</td>\n",
       "      <td>7.000000</td>\n",
       "      <td>0.000000</td>\n",
       "      <td>2309.000000</td>\n",
       "      <td>9.000000</td>\n",
       "      <td>8.000000</td>\n",
       "      <td>15577.000000</td>\n",
       "      <td>1633.500000</td>\n",
       "      <td>77.450000</td>\n",
       "      <td>0.000000</td>\n",
       "      <td>0.000000</td>\n",
       "      <td>5.000000</td>\n",
       "      <td>30.000000</td>\n",
       "      <td>6.000000</td>\n",
       "      <td>0.00000</td>\n",
       "      <td>4.428571</td>\n",
       "    </tr>\n",
       "    <tr>\n",
       "      <th>max</th>\n",
       "      <td>1.000000</td>\n",
       "      <td>2883.000000</td>\n",
       "      <td>42763.317000</td>\n",
       "      <td>27679.870000</td>\n",
       "      <td>113.000000</td>\n",
       "      <td>115.000000</td>\n",
       "      <td>16000.000000</td>\n",
       "      <td>51.000000</td>\n",
       "      <td>63.000000</td>\n",
       "      <td>98644.000000</td>\n",
       "      <td>14250.000000</td>\n",
       "      <td>778.210000</td>\n",
       "      <td>2.000000</td>\n",
       "      <td>3.000000</td>\n",
       "      <td>31.000000</td>\n",
       "      <td>186.000000</td>\n",
       "      <td>12.000000</td>\n",
       "      <td>1.50000</td>\n",
       "      <td>35.000000</td>\n",
       "    </tr>\n",
       "  </tbody>\n",
       "</table>\n",
       "</div>"
      ],
      "text/plain": [
       "               label            aon   daily_decr30       rental90  \\\n",
       "count  310017.000000  310017.000000  310017.000000  310017.000000   \n",
       "mean        0.880994     652.821087    4832.962227    3133.023055   \n",
       "std         0.323797     496.041319    7177.147046    4453.899243   \n",
       "min         0.000000       1.000000       0.000000       0.000000   \n",
       "25%         1.000000     244.000000      41.310000     349.230000   \n",
       "50%         1.000000     516.000000    1480.254000    1349.100000   \n",
       "75%         1.000000     951.000000    7002.780000    3999.100000   \n",
       "max         1.000000    2883.000000   42763.317000   27679.870000   \n",
       "\n",
       "       last_rech_date_ma  last_rech_date_da  last_rech_amt_ma  cnt_ma_rech90  \\\n",
       "count      310017.000000      310017.000000     310017.000000  310017.000000   \n",
       "mean            6.099066           0.875571       1931.107162       6.222491   \n",
       "std             9.110418           6.957336       2064.736320       6.404492   \n",
       "min             0.000000           0.000000          0.000000       0.000000   \n",
       "25%             1.000000           0.000000        770.000000       2.000000   \n",
       "50%             3.000000           0.000000       1539.000000       4.000000   \n",
       "75%             7.000000           0.000000       2309.000000       9.000000   \n",
       "max           113.000000         115.000000      16000.000000      51.000000   \n",
       "\n",
       "        fr_ma_rech90  sumamnt_ma_rech90  medianamnt_ma_rech90  \\\n",
       "count  310017.000000      310017.000000         310017.000000   \n",
       "mean        7.499656       11301.425222           1733.592205   \n",
       "std        11.934443       12711.228177           1798.602418   \n",
       "min         0.000000           0.000000              0.000000   \n",
       "25%         0.000000        2319.000000            773.000000   \n",
       "50%         2.000000        7134.000000           1539.000000   \n",
       "75%         8.000000       15577.000000           1633.500000   \n",
       "max        63.000000       98644.000000          14250.000000   \n",
       "\n",
       "       medianmarechprebal90  cnt_da_rech90   fr_da_rech90    cnt_loans90  \\\n",
       "count         310017.000000  310017.000000  310017.000000  310017.000000   \n",
       "mean              71.930203       0.022583       0.000381       3.690807   \n",
       "std              105.321513       0.156478       0.029943       3.735020   \n",
       "min                0.000000       0.000000       0.000000       0.000000   \n",
       "25%               15.500000       0.000000       0.000000       1.000000   \n",
       "50%               36.250000       0.000000       0.000000       2.000000   \n",
       "75%               77.450000       0.000000       0.000000       5.000000   \n",
       "max              778.210000       2.000000       3.000000      31.000000   \n",
       "\n",
       "        amnt_loans90  maxamnt_loans90  medianamnt_loans90      payback90  \n",
       "count  310017.000000    310017.000000        310017.00000  310017.000000  \n",
       "mean       23.439377         6.667841             0.04237       3.244834  \n",
       "std        24.039823         2.059271             0.18434       4.913048  \n",
       "min         0.000000         0.000000             0.00000       0.000000  \n",
       "25%         6.000000         6.000000             0.00000       0.000000  \n",
       "50%        12.000000         6.000000             0.00000       1.750000  \n",
       "75%        30.000000         6.000000             0.00000       4.428571  \n",
       "max       186.000000        12.000000             1.50000      35.000000  "
      ]
     },
     "execution_count": 53,
     "metadata": {},
     "output_type": "execute_result"
    }
   ],
   "source": [
    "df.describe(include='all')"
   ]
  },
  {
   "cell_type": "markdown",
   "metadata": {},
   "source": [
    "> Cleaning of data is done. Now, we will start convert these Continuous values to categorical values. So that we can use it in our Machine Learning models"
   ]
  },
  {
   "cell_type": "code",
   "execution_count": 54,
   "metadata": {},
   "outputs": [],
   "source": [
    "# Let us start working\n",
    "\n",
    "bins = [-1,50,250,400,650,700,850,np.inf]\n",
    "labels = [1, 2, 3, 4, 5, 6, 7]\n",
    "df['AgeOnNetwork'] = pd.cut(df['aon'],bins, labels = labels)"
   ]
  },
  {
   "cell_type": "code",
   "execution_count": 55,
   "metadata": {
    "scrolled": true
   },
   "outputs": [
    {
     "data": {
      "text/plain": [
       "<matplotlib.axes._subplots.AxesSubplot at 0x7f3752f94450>"
      ]
     },
     "execution_count": 55,
     "metadata": {},
     "output_type": "execute_result"
    },
    {
     "data": {
      "image/png": "[encoded data removed]",
      "text/plain": [
       "<Figure size 720x576 with 1 Axes>"
      ]
     },
     "metadata": {
      "needs_background": "light"
     },
     "output_type": "display_data"
    }
   ],
   "source": [
    "figsize = (10,8)\n",
    "fig, ax = plt.subplots(figsize = figsize)\n",
    "sns.barplot(x = 'AgeOnNetwork', y = 'label',data = df, ax = ax)"
   ]
  },
  {
   "cell_type": "code",
   "execution_count": 56,
   "metadata": {},
   "outputs": [],
   "source": [
    "bins_2 = [-1,500,1000,2000,3500,5000,np.inf]\n",
    "labels_2 = [1, 2,3,4,5,6]\n",
    "df['DailyAmountSpent'] = pd.cut(df['daily_decr30'], bins = bins_2, labels = labels_2)"
   ]
  },
  {
   "cell_type": "code",
   "execution_count": 57,
   "metadata": {
    "scrolled": true
   },
   "outputs": [
    {
     "data": {
      "text/plain": [
       "<matplotlib.axes._subplots.AxesSubplot at 0x7f3752ea2ed0>"
      ]
     },
     "execution_count": 57,
     "metadata": {},
     "output_type": "execute_result"
    },
    {
     "data": {
      "image/png": "[encoded data removed]",
      "text/plain": [
       "<Figure size 720x576 with 1 Axes>"
      ]
     },
     "metadata": {
      "needs_background": "light"
     },
     "output_type": "display_data"
    }
   ],
   "source": [
    "figsize = (10,8)\n",
    "fig, ax = plt.subplots(figsize = figsize)\n",
    "sns.barplot(x = 'DailyAmountSpent', y = 'label',data = df, ax = ax)"
   ]
  },
  {
   "cell_type": "code",
   "execution_count": 58,
   "metadata": {},
   "outputs": [],
   "source": [
    "bins_3 = [-1,200,400,650,900,1500,np.inf]\n",
    "labels_3 = [1,2,3,4,5,6]\n",
    "df['AverageMainBalance'] = pd.cut(df['rental90'],bins = bins_3,labels = labels_3)"
   ]
  },
  {
   "cell_type": "code",
   "execution_count": 59,
   "metadata": {
    "scrolled": true
   },
   "outputs": [
    {
     "data": {
      "text/plain": [
       "<matplotlib.axes._subplots.AxesSubplot at 0x7f37466022d0>"
      ]
     },
     "execution_count": 59,
     "metadata": {},
     "output_type": "execute_result"
    },
    {
     "data": {
      "image/png": "[encoded data removed]",
      "text/plain": [
       "<Figure size 720x576 with 1 Axes>"
      ]
     },
     "metadata": {
      "needs_background": "light"
     },
     "output_type": "display_data"
    }
   ],
   "source": [
    "figsize = (10,8)\n",
    "fig, ax = plt.subplots(figsize = figsize)\n",
    "sns.barplot(x = 'AverageMainBalance', y = 'label',data = df, ax = ax)"
   ]
  },
  {
   "cell_type": "code",
   "execution_count": 60,
   "metadata": {},
   "outputs": [],
   "source": [
    "bins_4 = [-1,2,4,10,np.inf]\n",
    "labels_4 = [1,2,3,4]\n",
    "df['DaysTillLastRecharge'] = pd.cut(df['last_rech_date_ma'],bins = bins_4,labels = labels_4)"
   ]
  },
  {
   "cell_type": "code",
   "execution_count": 61,
   "metadata": {},
   "outputs": [
    {
     "data": {
      "text/plain": [
       "<matplotlib.axes._subplots.AxesSubplot at 0x7f3746575350>"
      ]
     },
     "execution_count": 61,
     "metadata": {},
     "output_type": "execute_result"
    },
    {
     "data": {
      "image/png": "[encoded data removed]",
      "text/plain": [
       "<Figure size 720x576 with 1 Axes>"
      ]
     },
     "metadata": {
      "needs_background": "light"
     },
     "output_type": "display_data"
    }
   ],
   "source": [
    "figsize = (10,8)\n",
    "fig, ax = plt.subplots(figsize = figsize)\n",
    "sns.barplot(x = 'DaysTillLastRecharge', y = 'label',data = df, ax = ax)"
   ]
  },
  {
   "cell_type": "code",
   "execution_count": 62,
   "metadata": {},
   "outputs": [],
   "source": [
    "df.drop(['last_rech_date_da','cnt_da_rech90','fr_da_rech90'],axis = 1,inplace = True) # dropping these because they\n",
    "# donot effect our result."
   ]
  },
  {
   "cell_type": "code",
   "execution_count": 63,
   "metadata": {},
   "outputs": [
    {
     "data": {
      "text/html": [
       "<div>\n",
       "<style scoped>\n",
       "    .dataframe tbody tr th:only-of-type {\n",
       "        vertical-align: middle;\n",
       "    }\n",
       "\n",
       "    .dataframe tbody tr th {\n",
       "        vertical-align: top;\n",
       "    }\n",
       "\n",
       "    .dataframe thead th {\n",
       "        text-align: right;\n",
       "    }\n",
       "</style>\n",
       "<table border=\"1\" class=\"dataframe\">\n",
       "  <thead>\n",
       "    <tr style=\"text-align: right;\">\n",
       "      <th></th>\n",
       "      <th>label</th>\n",
       "      <th>aon</th>\n",
       "      <th>daily_decr30</th>\n",
       "      <th>rental90</th>\n",
       "      <th>last_rech_date_ma</th>\n",
       "      <th>last_rech_amt_ma</th>\n",
       "      <th>cnt_ma_rech90</th>\n",
       "      <th>fr_ma_rech90</th>\n",
       "      <th>sumamnt_ma_rech90</th>\n",
       "      <th>medianamnt_ma_rech90</th>\n",
       "      <th>medianmarechprebal90</th>\n",
       "      <th>cnt_loans90</th>\n",
       "      <th>amnt_loans90</th>\n",
       "      <th>maxamnt_loans90</th>\n",
       "      <th>medianamnt_loans90</th>\n",
       "      <th>payback90</th>\n",
       "    </tr>\n",
       "  </thead>\n",
       "  <tbody>\n",
       "    <tr>\n",
       "      <th>count</th>\n",
       "      <td>310017.000000</td>\n",
       "      <td>310017.000000</td>\n",
       "      <td>310017.000000</td>\n",
       "      <td>310017.000000</td>\n",
       "      <td>310017.000000</td>\n",
       "      <td>310017.000000</td>\n",
       "      <td>310017.000000</td>\n",
       "      <td>310017.000000</td>\n",
       "      <td>310017.000000</td>\n",
       "      <td>310017.000000</td>\n",
       "      <td>310017.000000</td>\n",
       "      <td>310017.000000</td>\n",
       "      <td>310017.000000</td>\n",
       "      <td>310017.000000</td>\n",
       "      <td>310017.00000</td>\n",
       "      <td>310017.000000</td>\n",
       "    </tr>\n",
       "    <tr>\n",
       "      <th>mean</th>\n",
       "      <td>0.880994</td>\n",
       "      <td>652.821087</td>\n",
       "      <td>4832.962227</td>\n",
       "      <td>3133.023055</td>\n",
       "      <td>6.099066</td>\n",
       "      <td>1931.107162</td>\n",
       "      <td>6.222491</td>\n",
       "      <td>7.499656</td>\n",
       "      <td>11301.425222</td>\n",
       "      <td>1733.592205</td>\n",
       "      <td>71.930203</td>\n",
       "      <td>3.690807</td>\n",
       "      <td>23.439377</td>\n",
       "      <td>6.667841</td>\n",
       "      <td>0.04237</td>\n",
       "      <td>3.244834</td>\n",
       "    </tr>\n",
       "    <tr>\n",
       "      <th>std</th>\n",
       "      <td>0.323797</td>\n",
       "      <td>496.041319</td>\n",
       "      <td>7177.147046</td>\n",
       "      <td>4453.899243</td>\n",
       "      <td>9.110418</td>\n",
       "      <td>2064.736320</td>\n",
       "      <td>6.404492</td>\n",
       "      <td>11.934443</td>\n",
       "      <td>12711.228177</td>\n",
       "      <td>1798.602418</td>\n",
       "      <td>105.321513</td>\n",
       "      <td>3.735020</td>\n",
       "      <td>24.039823</td>\n",
       "      <td>2.059271</td>\n",
       "      <td>0.18434</td>\n",
       "      <td>4.913048</td>\n",
       "    </tr>\n",
       "    <tr>\n",
       "      <th>min</th>\n",
       "      <td>0.000000</td>\n",
       "      <td>1.000000</td>\n",
       "      <td>0.000000</td>\n",
       "      <td>0.000000</td>\n",
       "      <td>0.000000</td>\n",
       "      <td>0.000000</td>\n",
       "      <td>0.000000</td>\n",
       "      <td>0.000000</td>\n",
       "      <td>0.000000</td>\n",
       "      <td>0.000000</td>\n",
       "      <td>0.000000</td>\n",
       "      <td>0.000000</td>\n",
       "      <td>0.000000</td>\n",
       "      <td>0.000000</td>\n",
       "      <td>0.00000</td>\n",
       "      <td>0.000000</td>\n",
       "    </tr>\n",
       "    <tr>\n",
       "      <th>25%</th>\n",
       "      <td>1.000000</td>\n",
       "      <td>244.000000</td>\n",
       "      <td>41.310000</td>\n",
       "      <td>349.230000</td>\n",
       "      <td>1.000000</td>\n",
       "      <td>770.000000</td>\n",
       "      <td>2.000000</td>\n",
       "      <td>0.000000</td>\n",
       "      <td>2319.000000</td>\n",
       "      <td>773.000000</td>\n",
       "      <td>15.500000</td>\n",
       "      <td>1.000000</td>\n",
       "      <td>6.000000</td>\n",
       "      <td>6.000000</td>\n",
       "      <td>0.00000</td>\n",
       "      <td>0.000000</td>\n",
       "    </tr>\n",
       "    <tr>\n",
       "      <th>50%</th>\n",
       "      <td>1.000000</td>\n",
       "      <td>516.000000</td>\n",
       "      <td>1480.254000</td>\n",
       "      <td>1349.100000</td>\n",
       "      <td>3.000000</td>\n",
       "      <td>1539.000000</td>\n",
       "      <td>4.000000</td>\n",
       "      <td>2.000000</td>\n",
       "      <td>7134.000000</td>\n",
       "      <td>1539.000000</td>\n",
       "      <td>36.250000</td>\n",
       "      <td>2.000000</td>\n",
       "      <td>12.000000</td>\n",
       "      <td>6.000000</td>\n",
       "      <td>0.00000</td>\n",
       "      <td>1.750000</td>\n",
       "    </tr>\n",
       "    <tr>\n",
       "      <th>75%</th>\n",
       "      <td>1.000000</td>\n",
       "      <td>951.000000</td>\n",
       "      <td>7002.780000</td>\n",
       "      <td>3999.100000</td>\n",
       "      <td>7.000000</td>\n",
       "      <td>2309.000000</td>\n",
       "      <td>9.000000</td>\n",
       "      <td>8.000000</td>\n",
       "      <td>15577.000000</td>\n",
       "      <td>1633.500000</td>\n",
       "      <td>77.450000</td>\n",
       "      <td>5.000000</td>\n",
       "      <td>30.000000</td>\n",
       "      <td>6.000000</td>\n",
       "      <td>0.00000</td>\n",
       "      <td>4.428571</td>\n",
       "    </tr>\n",
       "    <tr>\n",
       "      <th>max</th>\n",
       "      <td>1.000000</td>\n",
       "      <td>2883.000000</td>\n",
       "      <td>42763.317000</td>\n",
       "      <td>27679.870000</td>\n",
       "      <td>113.000000</td>\n",
       "      <td>16000.000000</td>\n",
       "      <td>51.000000</td>\n",
       "      <td>63.000000</td>\n",
       "      <td>98644.000000</td>\n",
       "      <td>14250.000000</td>\n",
       "      <td>778.210000</td>\n",
       "      <td>31.000000</td>\n",
       "      <td>186.000000</td>\n",
       "      <td>12.000000</td>\n",
       "      <td>1.50000</td>\n",
       "      <td>35.000000</td>\n",
       "    </tr>\n",
       "  </tbody>\n",
       "</table>\n",
       "</div>"
      ],
      "text/plain": [
       "               label            aon   daily_decr30       rental90  \\\n",
       "count  310017.000000  310017.000000  310017.000000  310017.000000   \n",
       "mean        0.880994     652.821087    4832.962227    3133.023055   \n",
       "std         0.323797     496.041319    7177.147046    4453.899243   \n",
       "min         0.000000       1.000000       0.000000       0.000000   \n",
       "25%         1.000000     244.000000      41.310000     349.230000   \n",
       "50%         1.000000     516.000000    1480.254000    1349.100000   \n",
       "75%         1.000000     951.000000    7002.780000    3999.100000   \n",
       "max         1.000000    2883.000000   42763.317000   27679.870000   \n",
       "\n",
       "       last_rech_date_ma  last_rech_amt_ma  cnt_ma_rech90   fr_ma_rech90  \\\n",
       "count      310017.000000     310017.000000  310017.000000  310017.000000   \n",
       "mean            6.099066       1931.107162       6.222491       7.499656   \n",
       "std             9.110418       2064.736320       6.404492      11.934443   \n",
       "min             0.000000          0.000000       0.000000       0.000000   \n",
       "25%             1.000000        770.000000       2.000000       0.000000   \n",
       "50%             3.000000       1539.000000       4.000000       2.000000   \n",
       "75%             7.000000       2309.000000       9.000000       8.000000   \n",
       "max           113.000000      16000.000000      51.000000      63.000000   \n",
       "\n",
       "       sumamnt_ma_rech90  medianamnt_ma_rech90  medianmarechprebal90  \\\n",
       "count      310017.000000         310017.000000         310017.000000   \n",
       "mean        11301.425222           1733.592205             71.930203   \n",
       "std         12711.228177           1798.602418            105.321513   \n",
       "min             0.000000              0.000000              0.000000   \n",
       "25%          2319.000000            773.000000             15.500000   \n",
       "50%          7134.000000           1539.000000             36.250000   \n",
       "75%         15577.000000           1633.500000             77.450000   \n",
       "max         98644.000000          14250.000000            778.210000   \n",
       "\n",
       "         cnt_loans90   amnt_loans90  maxamnt_loans90  medianamnt_loans90  \\\n",
       "count  310017.000000  310017.000000    310017.000000        310017.00000   \n",
       "mean        3.690807      23.439377         6.667841             0.04237   \n",
       "std         3.735020      24.039823         2.059271             0.18434   \n",
       "min         0.000000       0.000000         0.000000             0.00000   \n",
       "25%         1.000000       6.000000         6.000000             0.00000   \n",
       "50%         2.000000      12.000000         6.000000             0.00000   \n",
       "75%         5.000000      30.000000         6.000000             0.00000   \n",
       "max        31.000000     186.000000        12.000000             1.50000   \n",
       "\n",
       "           payback90  \n",
       "count  310017.000000  \n",
       "mean        3.244834  \n",
       "std         4.913048  \n",
       "min         0.000000  \n",
       "25%         0.000000  \n",
       "50%         1.750000  \n",
       "75%         4.428571  \n",
       "max        35.000000  "
      ]
     },
     "execution_count": 63,
     "metadata": {},
     "output_type": "execute_result"
    }
   ],
   "source": [
    "df.describe()"
   ]
  },
  {
   "cell_type": "code",
   "execution_count": 64,
   "metadata": {},
   "outputs": [],
   "source": [
    "bins_5 = [-1,200,800,1500,2000,np.inf]\n",
    "labels_5 = [1,2,3,4,5]\n",
    "df['AmountLastRecharge'] = pd.cut(df['last_rech_amt_ma'],bins = bins_5,labels = labels_5)"
   ]
  },
  {
   "cell_type": "code",
   "execution_count": 65,
   "metadata": {},
   "outputs": [
    {
     "data": {
      "text/plain": [
       "<matplotlib.axes._subplots.AxesSubplot at 0x7f37464f9dd0>"
      ]
     },
     "execution_count": 65,
     "metadata": {},
     "output_type": "execute_result"
    },
    {
     "data": {
      "image/png": "[encoded data removed]",
      "text/plain": [
       "<Figure size 720x576 with 1 Axes>"
      ]
     },
     "metadata": {
      "needs_background": "light"
     },
     "output_type": "display_data"
    }
   ],
   "source": [
    "figsize = (10,8)\n",
    "fig, ax = plt.subplots(figsize = figsize)\n",
    "sns.barplot(x = 'AmountLastRecharge', y = 'label',data = df, ax = ax)"
   ]
  },
  {
   "cell_type": "code",
   "execution_count": 66,
   "metadata": {},
   "outputs": [],
   "source": [
    "bins_6 = [-1,2,4,6,8,np.inf]\n",
    "labels_6 = [1,2,3,4,5]\n",
    "df['AccountRechargedTimes'] = pd.cut(df['cnt_ma_rech90'],bins = bins_6,labels = labels_6)"
   ]
  },
  {
   "cell_type": "code",
   "execution_count": 67,
   "metadata": {},
   "outputs": [
    {
     "data": {
      "text/plain": [
       "<matplotlib.axes._subplots.AxesSubplot at 0x7f37464624d0>"
      ]
     },
     "execution_count": 67,
     "metadata": {},
     "output_type": "execute_result"
    },
    {
     "data": {
      "image/png": "[encoded data removed]",
      "text/plain": [
       "<Figure size 720x576 with 1 Axes>"
      ]
     },
     "metadata": {
      "needs_background": "light"
     },
     "output_type": "display_data"
    }
   ],
   "source": [
    "figsize = (10,8)\n",
    "fig, ax = plt.subplots(figsize = figsize)\n",
    "sns.barplot(x = 'AccountRechargedTimes', y = 'label',data = df, ax = ax)"
   ]
  },
  {
   "cell_type": "code",
   "execution_count": 68,
   "metadata": {},
   "outputs": [],
   "source": [
    "bins_7 = [-5,2,4,6,8,np.inf]\n",
    "labels_7 = [1,2,3,4,5]\n",
    "df['AccountRechargedFrequency'] = pd.cut(df['fr_ma_rech90'],bins = bins_7,labels = labels_7)"
   ]
  },
  {
   "cell_type": "code",
   "execution_count": 69,
   "metadata": {},
   "outputs": [
    {
     "data": {
      "text/plain": [
       "<matplotlib.axes._subplots.AxesSubplot at 0x7f37465da290>"
      ]
     },
     "execution_count": 69,
     "metadata": {},
     "output_type": "execute_result"
    },
    {
     "data": {
      "image/png": "[encoded data removed]",
      "text/plain": [
       "<Figure size 720x576 with 1 Axes>"
      ]
     },
     "metadata": {
      "needs_background": "light"
     },
     "output_type": "display_data"
    }
   ],
   "source": [
    "figsize = (10,8)\n",
    "fig, ax = plt.subplots(figsize = figsize)\n",
    "sns.barplot(x = 'AccountRechargedFrequency', y = 'label',data = df, ax = ax)"
   ]
  },
  {
   "cell_type": "code",
   "execution_count": 70,
   "metadata": {},
   "outputs": [],
   "source": [
    "bins_8 = [-1,200,450,800,1500,2000,np.inf]\n",
    "labels_8 = [1,2,3,4,5, 6]\n",
    "df['TotalBalance'] = pd.cut(df['sumamnt_ma_rech90'],bins = bins_8,labels = labels_8)"
   ]
  },
  {
   "cell_type": "code",
   "execution_count": 71,
   "metadata": {},
   "outputs": [
    {
     "data": {
      "text/plain": [
       "<matplotlib.axes._subplots.AxesSubplot at 0x7f373c3caad0>"
      ]
     },
     "execution_count": 71,
     "metadata": {},
     "output_type": "execute_result"
    },
    {
     "data": {
      "image/png": "[encoded data removed]",
      "text/plain": [
       "<Figure size 720x576 with 1 Axes>"
      ]
     },
     "metadata": {
      "needs_background": "light"
     },
     "output_type": "display_data"
    }
   ],
   "source": [
    "figsize = (10,8)\n",
    "fig, ax = plt.subplots(figsize = figsize)\n",
    "sns.barplot(x = 'TotalBalance', y = 'label',data = df, ax = ax)"
   ]
  },
  {
   "cell_type": "code",
   "execution_count": 72,
   "metadata": {},
   "outputs": [],
   "source": [
    "bins_9 = [-1,200,900,1800,2500,np.inf]\n",
    "labels_9 = [1,2,3,4,5]\n",
    "df['MedianBalance'] = pd.cut(df['medianamnt_ma_rech90'],bins = bins_9,labels = labels_9)"
   ]
  },
  {
   "cell_type": "code",
   "execution_count": 73,
   "metadata": {},
   "outputs": [
    {
     "data": {
      "text/plain": [
       "<matplotlib.axes._subplots.AxesSubplot at 0x7f373c349ad0>"
      ]
     },
     "execution_count": 73,
     "metadata": {},
     "output_type": "execute_result"
    },
    {
     "data": {
      "image/png": "[encoded data removed]",
      "text/plain": [
       "<Figure size 720x576 with 1 Axes>"
      ]
     },
     "metadata": {
      "needs_background": "light"
     },
     "output_type": "display_data"
    }
   ],
   "source": [
    "figsize = (10,8)\n",
    "fig, ax = plt.subplots(figsize = figsize)\n",
    "sns.barplot(x = 'MedianBalance', y = 'label',data = df, ax = ax)"
   ]
  },
  {
   "cell_type": "code",
   "execution_count": 74,
   "metadata": {},
   "outputs": [],
   "source": [
    "bins_10 = [-1,20,60,100,150,np.inf]\n",
    "labels_10 = [1,2,3,4,5]\n",
    "df['MedianPreBalance'] = pd.cut(df['medianmarechprebal90'],bins = bins_10,labels = labels_10)"
   ]
  },
  {
   "cell_type": "code",
   "execution_count": 75,
   "metadata": {},
   "outputs": [
    {
     "data": {
      "text/plain": [
       "<matplotlib.axes._subplots.AxesSubplot at 0x7f373c2bd850>"
      ]
     },
     "execution_count": 75,
     "metadata": {},
     "output_type": "execute_result"
    },
    {
     "data": {
      "image/png": "[encoded data removed]",
      "text/plain": [
       "<Figure size 720x576 with 1 Axes>"
      ]
     },
     "metadata": {
      "needs_background": "light"
     },
     "output_type": "display_data"
    }
   ],
   "source": [
    "figsize = (10,8)\n",
    "fig, ax = plt.subplots(figsize = figsize)\n",
    "sns.barplot(x = 'MedianPreBalance', y = 'label',data = df, ax = ax)"
   ]
  },
  {
   "cell_type": "code",
   "execution_count": 76,
   "metadata": {},
   "outputs": [],
   "source": [
    "bins_11 = [-1,1,2,4,np.inf]\n",
    "labels_11 = [1,2,3,4]\n",
    "df['CountLoan'] = pd.cut(df['cnt_loans90'],bins = bins_11,labels = labels_11)"
   ]
  },
  {
   "cell_type": "code",
   "execution_count": 77,
   "metadata": {},
   "outputs": [
    {
     "data": {
      "text/plain": [
       "<matplotlib.axes._subplots.AxesSubplot at 0x7f373c23e7d0>"
      ]
     },
     "execution_count": 77,
     "metadata": {},
     "output_type": "execute_result"
    },
    {
     "data": {
      "image/png": "[encoded data removed]",
      "text/plain": [
       "<Figure size 720x576 with 1 Axes>"
      ]
     },
     "metadata": {
      "needs_background": "light"
     },
     "output_type": "display_data"
    }
   ],
   "source": [
    "figsize = (10,8)\n",
    "fig, ax = plt.subplots(figsize = figsize)\n",
    "sns.barplot(x = 'CountLoan', y = 'label',data = df, ax = ax)"
   ]
  },
  {
   "cell_type": "code",
   "execution_count": 78,
   "metadata": {},
   "outputs": [],
   "source": [
    "bins_12 = [-1,5,10,15,20,25,np.inf]\n",
    "labels_12 = [1,2,3,4,5,6]\n",
    "df['Loan Amount'] = pd.cut(df['amnt_loans90'],bins = bins_12,labels = labels_12)"
   ]
  },
  {
   "cell_type": "code",
   "execution_count": 79,
   "metadata": {},
   "outputs": [
    {
     "data": {
      "text/plain": [
       "<matplotlib.axes._subplots.AxesSubplot at 0x7f373c21d410>"
      ]
     },
     "execution_count": 79,
     "metadata": {},
     "output_type": "execute_result"
    },
    {
     "data": {
      "image/png": "[encoded data removed]",
      "text/plain": [
       "<Figure size 720x576 with 1 Axes>"
      ]
     },
     "metadata": {
      "needs_background": "light"
     },
     "output_type": "display_data"
    }
   ],
   "source": [
    "figsize = (10,8)\n",
    "fig, ax = plt.subplots(figsize = figsize)\n",
    "sns.barplot(x = 'CountLoan', y = 'label',data = df, ax = ax)"
   ]
  },
  {
   "cell_type": "code",
   "execution_count": 80,
   "metadata": {},
   "outputs": [],
   "source": [
    "df.drop('medianamnt_loans90',axis = 1,inplace = True) # Dropping this column because it is of no use"
   ]
  },
  {
   "cell_type": "code",
   "execution_count": 81,
   "metadata": {},
   "outputs": [],
   "source": [
    "bins_13 = [-1,2,4,6,8,np.inf]\n",
    "labels_13 = [1,2,3,4,5]\n",
    "df['Pay back'] = pd.cut(df['payback90'],bins = bins_13,labels = labels_13)"
   ]
  },
  {
   "cell_type": "code",
   "execution_count": 82,
   "metadata": {},
   "outputs": [
    {
     "data": {
      "text/plain": [
       "<matplotlib.axes._subplots.AxesSubplot at 0x7f373c199e50>"
      ]
     },
     "execution_count": 82,
     "metadata": {},
     "output_type": "execute_result"
    },
    {
     "data": {
      "image/png": "[encoded data removed]",
      "text/plain": [
       "<Figure size 720x576 with 1 Axes>"
      ]
     },
     "metadata": {
      "needs_background": "light"
     },
     "output_type": "display_data"
    }
   ],
   "source": [
    "figsize = (10,8)\n",
    "fig, ax = plt.subplots(figsize = figsize)\n",
    "sns.barplot(x = 'CountLoan', y = 'label',data = df, ax = ax)"
   ]
  },
  {
   "cell_type": "code",
   "execution_count": 83,
   "metadata": {},
   "outputs": [],
   "source": [
    "bins_14 = [-1,6,12]\n",
    "labels_14 = [1,2]\n",
    "df['MaxAmountLoan'] = pd.cut(df['maxamnt_loans90'],bins = bins_14,labels=labels_14)"
   ]
  },
  {
   "cell_type": "code",
   "execution_count": 84,
   "metadata": {},
   "outputs": [
    {
     "data": {
      "text/plain": [
       "<matplotlib.axes._subplots.AxesSubplot at 0x7f3739df7610>"
      ]
     },
     "execution_count": 84,
     "metadata": {},
     "output_type": "execute_result"
    },
    {
     "data": {
      "image/png": "[encoded data removed]",
      "text/plain": [
       "<Figure size 720x576 with 1 Axes>"
      ]
     },
     "metadata": {
      "needs_background": "light"
     },
     "output_type": "display_data"
    }
   ],
   "source": [
    "figsize = (10,8)\n",
    "fig, ax = plt.subplots(figsize = figsize)\n",
    "sns.barplot(x = 'MaxAmountLoan', y = 'label',data = df, ax = ax)"
   ]
  },
  {
   "cell_type": "code",
   "execution_count": 85,
   "metadata": {},
   "outputs": [
    {
     "data": {
      "text/html": [
       "<div>\n",
       "<style scoped>\n",
       "    .dataframe tbody tr th:only-of-type {\n",
       "        vertical-align: middle;\n",
       "    }\n",
       "\n",
       "    .dataframe tbody tr th {\n",
       "        vertical-align: top;\n",
       "    }\n",
       "\n",
       "    .dataframe thead th {\n",
       "        text-align: right;\n",
       "    }\n",
       "</style>\n",
       "<table border=\"1\" class=\"dataframe\">\n",
       "  <thead>\n",
       "    <tr style=\"text-align: right;\">\n",
       "      <th></th>\n",
       "      <th>label</th>\n",
       "      <th>aon</th>\n",
       "      <th>daily_decr30</th>\n",
       "      <th>rental90</th>\n",
       "      <th>last_rech_date_ma</th>\n",
       "      <th>last_rech_amt_ma</th>\n",
       "      <th>cnt_ma_rech90</th>\n",
       "      <th>fr_ma_rech90</th>\n",
       "      <th>sumamnt_ma_rech90</th>\n",
       "      <th>medianamnt_ma_rech90</th>\n",
       "      <th>...</th>\n",
       "      <th>AmountLastRecharge</th>\n",
       "      <th>AccountRechargedTimes</th>\n",
       "      <th>AccountRechargedFrequency</th>\n",
       "      <th>TotalBalance</th>\n",
       "      <th>MedianBalance</th>\n",
       "      <th>MedianPreBalance</th>\n",
       "      <th>CountLoan</th>\n",
       "      <th>Loan Amount</th>\n",
       "      <th>Pay back</th>\n",
       "      <th>MaxAmountLoan</th>\n",
       "    </tr>\n",
       "    <tr>\n",
       "      <th>Index</th>\n",
       "      <th></th>\n",
       "      <th></th>\n",
       "      <th></th>\n",
       "      <th></th>\n",
       "      <th></th>\n",
       "      <th></th>\n",
       "      <th></th>\n",
       "      <th></th>\n",
       "      <th></th>\n",
       "      <th></th>\n",
       "      <th></th>\n",
       "      <th></th>\n",
       "      <th></th>\n",
       "      <th></th>\n",
       "      <th></th>\n",
       "      <th></th>\n",
       "      <th></th>\n",
       "      <th></th>\n",
       "      <th></th>\n",
       "      <th></th>\n",
       "      <th></th>\n",
       "    </tr>\n",
       "  </thead>\n",
       "  <tbody>\n",
       "    <tr>\n",
       "      <th>2</th>\n",
       "      <td>1.0</td>\n",
       "      <td>712.0</td>\n",
       "      <td>12122.000000</td>\n",
       "      <td>3691.26</td>\n",
       "      <td>20.0</td>\n",
       "      <td>5787.0</td>\n",
       "      <td>1.0</td>\n",
       "      <td>0.0</td>\n",
       "      <td>5787.0</td>\n",
       "      <td>5787.0</td>\n",
       "      <td>...</td>\n",
       "      <td>5</td>\n",
       "      <td>1</td>\n",
       "      <td>1</td>\n",
       "      <td>6</td>\n",
       "      <td>5</td>\n",
       "      <td>3</td>\n",
       "      <td>1</td>\n",
       "      <td>3</td>\n",
       "      <td>1</td>\n",
       "      <td>2</td>\n",
       "    </tr>\n",
       "    <tr>\n",
       "      <th>3</th>\n",
       "      <td>1.0</td>\n",
       "      <td>535.0</td>\n",
       "      <td>1398.000000</td>\n",
       "      <td>900.13</td>\n",
       "      <td>3.0</td>\n",
       "      <td>1539.0</td>\n",
       "      <td>1.0</td>\n",
       "      <td>0.0</td>\n",
       "      <td>1539.0</td>\n",
       "      <td>1539.0</td>\n",
       "      <td>...</td>\n",
       "      <td>4</td>\n",
       "      <td>1</td>\n",
       "      <td>1</td>\n",
       "      <td>5</td>\n",
       "      <td>3</td>\n",
       "      <td>3</td>\n",
       "      <td>1</td>\n",
       "      <td>2</td>\n",
       "      <td>1</td>\n",
       "      <td>1</td>\n",
       "    </tr>\n",
       "    <tr>\n",
       "      <th>4</th>\n",
       "      <td>1.0</td>\n",
       "      <td>241.0</td>\n",
       "      <td>21.228000</td>\n",
       "      <td>159.42</td>\n",
       "      <td>41.0</td>\n",
       "      <td>947.0</td>\n",
       "      <td>1.0</td>\n",
       "      <td>0.0</td>\n",
       "      <td>947.0</td>\n",
       "      <td>947.0</td>\n",
       "      <td>...</td>\n",
       "      <td>3</td>\n",
       "      <td>1</td>\n",
       "      <td>1</td>\n",
       "      <td>4</td>\n",
       "      <td>3</td>\n",
       "      <td>1</td>\n",
       "      <td>2</td>\n",
       "      <td>3</td>\n",
       "      <td>1</td>\n",
       "      <td>1</td>\n",
       "    </tr>\n",
       "    <tr>\n",
       "      <th>5</th>\n",
       "      <td>1.0</td>\n",
       "      <td>947.0</td>\n",
       "      <td>150.619333</td>\n",
       "      <td>1098.90</td>\n",
       "      <td>4.0</td>\n",
       "      <td>2309.0</td>\n",
       "      <td>8.0</td>\n",
       "      <td>2.0</td>\n",
       "      <td>23496.0</td>\n",
       "      <td>2888.0</td>\n",
       "      <td>...</td>\n",
       "      <td>5</td>\n",
       "      <td>4</td>\n",
       "      <td>1</td>\n",
       "      <td>6</td>\n",
       "      <td>5</td>\n",
       "      <td>2</td>\n",
       "      <td>4</td>\n",
       "      <td>6</td>\n",
       "      <td>2</td>\n",
       "      <td>1</td>\n",
       "    </tr>\n",
       "    <tr>\n",
       "      <th>6</th>\n",
       "      <td>1.0</td>\n",
       "      <td>568.0</td>\n",
       "      <td>2257.362667</td>\n",
       "      <td>380.13</td>\n",
       "      <td>2.0</td>\n",
       "      <td>1539.0</td>\n",
       "      <td>8.0</td>\n",
       "      <td>0.0</td>\n",
       "      <td>11744.0</td>\n",
       "      <td>1539.0</td>\n",
       "      <td>...</td>\n",
       "      <td>4</td>\n",
       "      <td>4</td>\n",
       "      <td>1</td>\n",
       "      <td>6</td>\n",
       "      <td>3</td>\n",
       "      <td>2</td>\n",
       "      <td>3</td>\n",
       "      <td>4</td>\n",
       "      <td>5</td>\n",
       "      <td>1</td>\n",
       "    </tr>\n",
       "  </tbody>\n",
       "</table>\n",
       "<p>5 rows × 29 columns</p>\n",
       "</div>"
      ],
      "text/plain": [
       "       label    aon  daily_decr30  rental90  last_rech_date_ma  \\\n",
       "Index                                                            \n",
       "2        1.0  712.0  12122.000000   3691.26               20.0   \n",
       "3        1.0  535.0   1398.000000    900.13                3.0   \n",
       "4        1.0  241.0     21.228000    159.42               41.0   \n",
       "5        1.0  947.0    150.619333   1098.90                4.0   \n",
       "6        1.0  568.0   2257.362667    380.13                2.0   \n",
       "\n",
       "       last_rech_amt_ma  cnt_ma_rech90  fr_ma_rech90  sumamnt_ma_rech90  \\\n",
       "Index                                                                     \n",
       "2                5787.0            1.0           0.0             5787.0   \n",
       "3                1539.0            1.0           0.0             1539.0   \n",
       "4                 947.0            1.0           0.0              947.0   \n",
       "5                2309.0            8.0           2.0            23496.0   \n",
       "6                1539.0            8.0           0.0            11744.0   \n",
       "\n",
       "       medianamnt_ma_rech90  ...  AmountLastRecharge  AccountRechargedTimes  \\\n",
       "Index                        ...                                              \n",
       "2                    5787.0  ...                   5                      1   \n",
       "3                    1539.0  ...                   4                      1   \n",
       "4                     947.0  ...                   3                      1   \n",
       "5                    2888.0  ...                   5                      4   \n",
       "6                    1539.0  ...                   4                      4   \n",
       "\n",
       "       AccountRechargedFrequency  TotalBalance  MedianBalance  \\\n",
       "Index                                                           \n",
       "2                              1             6              5   \n",
       "3                              1             5              3   \n",
       "4                              1             4              3   \n",
       "5                              1             6              5   \n",
       "6                              1             6              3   \n",
       "\n",
       "      MedianPreBalance CountLoan Loan Amount Pay back MaxAmountLoan  \n",
       "Index                                                                \n",
       "2                    3         1           3        1             2  \n",
       "3                    3         1           2        1             1  \n",
       "4                    1         2           3        1             1  \n",
       "5                    2         4           6        2             1  \n",
       "6                    2         3           4        5             1  \n",
       "\n",
       "[5 rows x 29 columns]"
      ]
     },
     "execution_count": 85,
     "metadata": {},
     "output_type": "execute_result"
    }
   ],
   "source": [
    "df.head()"
   ]
  },
  {
   "cell_type": "code",
   "execution_count": 86,
   "metadata": {},
   "outputs": [
    {
     "data": {
      "text/plain": [
       "Index(['label', 'aon', 'daily_decr30', 'rental90', 'last_rech_date_ma',\n",
       "       'last_rech_amt_ma', 'cnt_ma_rech90', 'fr_ma_rech90',\n",
       "       'sumamnt_ma_rech90', 'medianamnt_ma_rech90', 'medianmarechprebal90',\n",
       "       'cnt_loans90', 'amnt_loans90', 'maxamnt_loans90', 'payback90',\n",
       "       'AgeOnNetwork', 'DailyAmountSpent', 'AverageMainBalance',\n",
       "       'DaysTillLastRecharge', 'AmountLastRecharge', 'AccountRechargedTimes',\n",
       "       'AccountRechargedFrequency', 'TotalBalance', 'MedianBalance',\n",
       "       'MedianPreBalance', 'CountLoan', 'Loan Amount', 'Pay back',\n",
       "       'MaxAmountLoan'],\n",
       "      dtype='object')"
      ]
     },
     "execution_count": 86,
     "metadata": {},
     "output_type": "execute_result"
    }
   ],
   "source": [
    "df.columns"
   ]
  },
  {
   "cell_type": "code",
   "execution_count": 87,
   "metadata": {},
   "outputs": [],
   "source": [
    "# dropping all the previous values of dataset\n",
    "df.drop(['aon', 'daily_decr30', 'rental90', 'last_rech_date_ma',\n",
    "       'last_rech_amt_ma', 'cnt_ma_rech90', 'fr_ma_rech90',\n",
    "       'sumamnt_ma_rech90', 'medianamnt_ma_rech90', 'medianmarechprebal90',\n",
    "       'cnt_loans90', 'amnt_loans90', 'maxamnt_loans90', 'payback90'], axis = 1, inplace = True)"
   ]
  },
  {
   "cell_type": "code",
   "execution_count": 88,
   "metadata": {},
   "outputs": [
    {
     "data": {
      "text/html": [
       "<div>\n",
       "<style scoped>\n",
       "    .dataframe tbody tr th:only-of-type {\n",
       "        vertical-align: middle;\n",
       "    }\n",
       "\n",
       "    .dataframe tbody tr th {\n",
       "        vertical-align: top;\n",
       "    }\n",
       "\n",
       "    .dataframe thead th {\n",
       "        text-align: right;\n",
       "    }\n",
       "</style>\n",
       "<table border=\"1\" class=\"dataframe\">\n",
       "  <thead>\n",
       "    <tr style=\"text-align: right;\">\n",
       "      <th></th>\n",
       "      <th>label</th>\n",
       "      <th>AgeOnNetwork</th>\n",
       "      <th>DailyAmountSpent</th>\n",
       "      <th>AverageMainBalance</th>\n",
       "      <th>DaysTillLastRecharge</th>\n",
       "      <th>AmountLastRecharge</th>\n",
       "      <th>AccountRechargedTimes</th>\n",
       "      <th>AccountRechargedFrequency</th>\n",
       "      <th>TotalBalance</th>\n",
       "      <th>MedianBalance</th>\n",
       "      <th>MedianPreBalance</th>\n",
       "      <th>CountLoan</th>\n",
       "      <th>Loan Amount</th>\n",
       "      <th>Pay back</th>\n",
       "      <th>MaxAmountLoan</th>\n",
       "    </tr>\n",
       "    <tr>\n",
       "      <th>Index</th>\n",
       "      <th></th>\n",
       "      <th></th>\n",
       "      <th></th>\n",
       "      <th></th>\n",
       "      <th></th>\n",
       "      <th></th>\n",
       "      <th></th>\n",
       "      <th></th>\n",
       "      <th></th>\n",
       "      <th></th>\n",
       "      <th></th>\n",
       "      <th></th>\n",
       "      <th></th>\n",
       "      <th></th>\n",
       "      <th></th>\n",
       "    </tr>\n",
       "  </thead>\n",
       "  <tbody>\n",
       "    <tr>\n",
       "      <th>2</th>\n",
       "      <td>1.0</td>\n",
       "      <td>6</td>\n",
       "      <td>6</td>\n",
       "      <td>6</td>\n",
       "      <td>4</td>\n",
       "      <td>5</td>\n",
       "      <td>1</td>\n",
       "      <td>1</td>\n",
       "      <td>6</td>\n",
       "      <td>5</td>\n",
       "      <td>3</td>\n",
       "      <td>1</td>\n",
       "      <td>3</td>\n",
       "      <td>1</td>\n",
       "      <td>2</td>\n",
       "    </tr>\n",
       "    <tr>\n",
       "      <th>3</th>\n",
       "      <td>1.0</td>\n",
       "      <td>4</td>\n",
       "      <td>3</td>\n",
       "      <td>5</td>\n",
       "      <td>2</td>\n",
       "      <td>4</td>\n",
       "      <td>1</td>\n",
       "      <td>1</td>\n",
       "      <td>5</td>\n",
       "      <td>3</td>\n",
       "      <td>3</td>\n",
       "      <td>1</td>\n",
       "      <td>2</td>\n",
       "      <td>1</td>\n",
       "      <td>1</td>\n",
       "    </tr>\n",
       "    <tr>\n",
       "      <th>4</th>\n",
       "      <td>1.0</td>\n",
       "      <td>2</td>\n",
       "      <td>1</td>\n",
       "      <td>1</td>\n",
       "      <td>4</td>\n",
       "      <td>3</td>\n",
       "      <td>1</td>\n",
       "      <td>1</td>\n",
       "      <td>4</td>\n",
       "      <td>3</td>\n",
       "      <td>1</td>\n",
       "      <td>2</td>\n",
       "      <td>3</td>\n",
       "      <td>1</td>\n",
       "      <td>1</td>\n",
       "    </tr>\n",
       "    <tr>\n",
       "      <th>5</th>\n",
       "      <td>1.0</td>\n",
       "      <td>7</td>\n",
       "      <td>1</td>\n",
       "      <td>5</td>\n",
       "      <td>2</td>\n",
       "      <td>5</td>\n",
       "      <td>4</td>\n",
       "      <td>1</td>\n",
       "      <td>6</td>\n",
       "      <td>5</td>\n",
       "      <td>2</td>\n",
       "      <td>4</td>\n",
       "      <td>6</td>\n",
       "      <td>2</td>\n",
       "      <td>1</td>\n",
       "    </tr>\n",
       "    <tr>\n",
       "      <th>6</th>\n",
       "      <td>1.0</td>\n",
       "      <td>4</td>\n",
       "      <td>4</td>\n",
       "      <td>2</td>\n",
       "      <td>1</td>\n",
       "      <td>4</td>\n",
       "      <td>4</td>\n",
       "      <td>1</td>\n",
       "      <td>6</td>\n",
       "      <td>3</td>\n",
       "      <td>2</td>\n",
       "      <td>3</td>\n",
       "      <td>4</td>\n",
       "      <td>5</td>\n",
       "      <td>1</td>\n",
       "    </tr>\n",
       "  </tbody>\n",
       "</table>\n",
       "</div>"
      ],
      "text/plain": [
       "       label AgeOnNetwork DailyAmountSpent AverageMainBalance  \\\n",
       "Index                                                           \n",
       "2        1.0            6                6                  6   \n",
       "3        1.0            4                3                  5   \n",
       "4        1.0            2                1                  1   \n",
       "5        1.0            7                1                  5   \n",
       "6        1.0            4                4                  2   \n",
       "\n",
       "      DaysTillLastRecharge AmountLastRecharge AccountRechargedTimes  \\\n",
       "Index                                                                 \n",
       "2                        4                  5                     1   \n",
       "3                        2                  4                     1   \n",
       "4                        4                  3                     1   \n",
       "5                        2                  5                     4   \n",
       "6                        1                  4                     4   \n",
       "\n",
       "      AccountRechargedFrequency TotalBalance MedianBalance MedianPreBalance  \\\n",
       "Index                                                                         \n",
       "2                             1            6             5                3   \n",
       "3                             1            5             3                3   \n",
       "4                             1            4             3                1   \n",
       "5                             1            6             5                2   \n",
       "6                             1            6             3                2   \n",
       "\n",
       "      CountLoan Loan Amount Pay back MaxAmountLoan  \n",
       "Index                                               \n",
       "2             1           3        1             2  \n",
       "3             1           2        1             1  \n",
       "4             2           3        1             1  \n",
       "5             4           6        2             1  \n",
       "6             3           4        5             1  "
      ]
     },
     "execution_count": 88,
     "metadata": {},
     "output_type": "execute_result"
    }
   ],
   "source": [
    "df.head()"
   ]
  },
  {
   "cell_type": "code",
   "execution_count": 89,
   "metadata": {},
   "outputs": [
    {
     "name": "stdout",
     "output_type": "stream",
     "text": [
      "(310017, 15)\n",
      "0\n"
     ]
    }
   ],
   "source": [
    "print(df.shape)\n",
    "print((df.isnull().sum()).sum())"
   ]
  },
  {
   "cell_type": "code",
   "execution_count": 90,
   "metadata": {},
   "outputs": [],
   "source": [
    "# Separate the Input and output features\n",
    "X = df.drop(['label'],axis = 1)\n",
    "y = df['label']"
   ]
  },
  {
   "cell_type": "code",
   "execution_count": 91,
   "metadata": {},
   "outputs": [],
   "source": [
    "# Split the dataset into training and testing set\n",
    "from sklearn.model_selection import train_test_split\n",
    "X_train, X_test, y_train, y_test = train_test_split(X,y,test_size = 0.01, random_state=7)"
   ]
  },
  {
   "cell_type": "code",
   "execution_count": 92,
   "metadata": {},
   "outputs": [
    {
     "name": "stdout",
     "output_type": "stream",
     "text": [
      "X_train:  (306916, 14)\n",
      "X_test:  (3101, 14)\n",
      "y_train:  (306916,)\n",
      "y_test:  (3101,)\n"
     ]
    }
   ],
   "source": [
    "print('X_train: ',X_train.shape)\n",
    "print('X_test: ',X_test.shape)\n",
    "print('y_train: ',y_train.shape)\n",
    "print('y_test: ',y_test.shape)"
   ]
  },
  {
   "cell_type": "markdown",
   "metadata": {},
   "source": [
    "- Now import different models and see who gives the best accuracy "
   ]
  },
  {
   "cell_type": "code",
   "execution_count": 93,
   "metadata": {},
   "outputs": [
    {
     "name": "stdout",
     "output_type": "stream",
     "text": [
      "MODEL-1: Accuracy of LogisticRegression :  87.78\n"
     ]
    }
   ],
   "source": [
    "from sklearn.metrics import accuracy_score\n",
    "from sklearn.linear_model import LogisticRegression\n",
    "\n",
    "logreg = LogisticRegression()\n",
    "logreg.fit(X_train,y_train)\n",
    "y_pred = logreg.predict(X_test)\n",
    "acc_logreg = round(accuracy_score(y_pred, y_test)*100,2)\n",
    "print( \"MODEL-1: Accuracy of LogisticRegression : \", acc_logreg  )"
   ]
  },
  {
   "cell_type": "code",
   "execution_count": 94,
   "metadata": {},
   "outputs": [
    {
     "data": {
      "text/plain": [
       "87.78"
      ]
     },
     "execution_count": 94,
     "metadata": {},
     "output_type": "execute_result"
    }
   ],
   "source": [
    "acc_logreg"
   ]
  },
  {
   "cell_type": "code",
   "execution_count": 95,
   "metadata": {},
   "outputs": [
    {
     "name": "stdout",
     "output_type": "stream",
     "text": [
      "MODEL-2: Accuracy of GaussianNB :  78.78\n"
     ]
    }
   ],
   "source": [
    "from sklearn.naive_bayes import GaussianNB\n",
    "\n",
    "gauss = GaussianNB()\n",
    "gauss.fit(X_train,y_train)\n",
    "y_gauss_pred = gauss.predict(X_test)\n",
    "acc_gauss = round(accuracy_score(y_gauss_pred,y_test)*100,2)\n",
    "print( \"MODEL-2: Accuracy of GaussianNB : \", acc_gauss  )"
   ]
  },
  {
   "cell_type": "code",
   "execution_count": 96,
   "metadata": {},
   "outputs": [
    {
     "name": "stdout",
     "output_type": "stream",
     "text": [
      "MODEL-3: Accuracy of LinearSVC :  87.17\n"
     ]
    },
    {
     "name": "stderr",
     "output_type": "stream",
     "text": [
      "/home/bhweshgaur1/anaconda3/lib/python3.7/site-packages/sklearn/svm/_base.py:947: ConvergenceWarning: Liblinear failed to converge, increase the number of iterations.\n",
      "  \"the number of iterations.\", ConvergenceWarning)\n"
     ]
    }
   ],
   "source": [
    "from sklearn.svm import LinearSVC\n",
    "\n",
    "linear_svc = LinearSVC()\n",
    "linear_svc.fit(X_train,y_train)\n",
    "y_lsvc_pred = linear_svc.predict(X_test)\n",
    "acc_lsvc = round(accuracy_score(y_lsvc_pred,y_test)*100,2)\n",
    "print( \"MODEL-3: Accuracy of LinearSVC : \", acc_lsvc  )"
   ]
  },
  {
   "cell_type": "code",
   "execution_count": 97,
   "metadata": {},
   "outputs": [
    {
     "name": "stdout",
     "output_type": "stream",
     "text": [
      "MODEL-4: Accuracy of Perceptron :  87.13\n"
     ]
    }
   ],
   "source": [
    "from sklearn.linear_model import Perceptron\n",
    "\n",
    "percep = Perceptron()\n",
    "percep.fit(X_train,y_train)\n",
    "y_percep_pred = percep.predict(X_test)\n",
    "acc_percep = round(accuracy_score(y_percep_pred,y_test)*100,2)\n",
    "print( \"MODEL-4: Accuracy of Perceptron : \", acc_percep  )"
   ]
  },
  {
   "cell_type": "code",
   "execution_count": 98,
   "metadata": {},
   "outputs": [
    {
     "name": "stdout",
     "output_type": "stream",
     "text": [
      "MODEL-5: Accuracy of DecisionTreeClassifier :  92.03\n"
     ]
    }
   ],
   "source": [
    "from sklearn.tree import DecisionTreeClassifier\n",
    "\n",
    "decisiontree = DecisionTreeClassifier()\n",
    "decisiontree.fit(X_train, y_train)\n",
    "y_dt_pred = decisiontree.predict(X_test)\n",
    "acc_decisiontree = round(accuracy_score(y_dt_pred, y_test) * 100, 2)\n",
    "print( \"MODEL-5: Accuracy of DecisionTreeClassifier : \", acc_decisiontree  )"
   ]
  },
  {
   "cell_type": "code",
   "execution_count": 99,
   "metadata": {},
   "outputs": [
    {
     "name": "stdout",
     "output_type": "stream",
     "text": [
      "MODEL-6: Accuracy of RandomForestClassifier :  92.16\n"
     ]
    }
   ],
   "source": [
    "from sklearn.ensemble import RandomForestClassifier\n",
    "\n",
    "randomforest = RandomForestClassifier()\n",
    "randomforest.fit(X_train, y_train)\n",
    "y_pred = randomforest.predict(X_test)\n",
    "acc_randomforest = round(accuracy_score(y_pred, y_test) * 100, 2)\n",
    "print( \"MODEL-6: Accuracy of RandomForestClassifier : \",acc_randomforest  )"
   ]
  },
  {
   "cell_type": "code",
   "execution_count": 100,
   "metadata": {},
   "outputs": [
    {
     "name": "stdout",
     "output_type": "stream",
     "text": [
      "MODEL-7: Accuracy of k-Nearest Neighbors :  88.94\n"
     ]
    }
   ],
   "source": [
    "from sklearn.neighbors import KNeighborsClassifier\n",
    "\n",
    "knn = KNeighborsClassifier()\n",
    "knn.fit(X_train, y_train)\n",
    "y_pred = knn.predict(X_test)\n",
    "acc_knn = round(accuracy_score(y_pred, y_test) * 100, 2)\n",
    "print( \"MODEL-7: Accuracy of k-Nearest Neighbors : \",acc_knn  )"
   ]
  },
  {
   "cell_type": "code",
   "execution_count": 101,
   "metadata": {},
   "outputs": [
    {
     "name": "stdout",
     "output_type": "stream",
     "text": [
      "MODEL-8: Accuracy of Stochastic Gradient Descent :  87.2\n"
     ]
    }
   ],
   "source": [
    "from sklearn.linear_model import SGDClassifier\n",
    "\n",
    "sgd = SGDClassifier()\n",
    "sgd.fit(X_train, y_train)\n",
    "y_pred = sgd.predict(X_test)\n",
    "acc_sgd = round(accuracy_score(y_pred, y_test) * 100, 2)\n",
    "print( \"MODEL-8: Accuracy of Stochastic Gradient Descent : \",acc_sgd )"
   ]
  },
  {
   "cell_type": "code",
   "execution_count": 102,
   "metadata": {},
   "outputs": [
    {
     "name": "stdout",
     "output_type": "stream",
     "text": [
      "MODEL-9: Accuracy of GradientBoostingClassifier :  88.46\n"
     ]
    }
   ],
   "source": [
    "from sklearn.ensemble import GradientBoostingClassifier\n",
    "\n",
    "gbk = GradientBoostingClassifier()\n",
    "gbk.fit(X_train, y_train)\n",
    "y_pred = gbk.predict(X_test)\n",
    "acc_gbk = round(accuracy_score(y_pred, y_test) * 100, 2)\n",
    "print( \"MODEL-9: Accuracy of GradientBoostingClassifier : \",acc_gbk )"
   ]
  },
  {
   "cell_type": "code",
   "execution_count": 103,
   "metadata": {},
   "outputs": [
    {
     "name": "stdout",
     "output_type": "stream",
     "text": [
      "Models:\n"
     ]
    },
    {
     "data": {
      "text/html": [
       "<div>\n",
       "<style scoped>\n",
       "    .dataframe tbody tr th:only-of-type {\n",
       "        vertical-align: middle;\n",
       "    }\n",
       "\n",
       "    .dataframe tbody tr th {\n",
       "        vertical-align: top;\n",
       "    }\n",
       "\n",
       "    .dataframe thead th {\n",
       "        text-align: right;\n",
       "    }\n",
       "</style>\n",
       "<table border=\"1\" class=\"dataframe\">\n",
       "  <thead>\n",
       "    <tr style=\"text-align: right;\">\n",
       "      <th></th>\n",
       "      <th>Model</th>\n",
       "      <th>Score</th>\n",
       "    </tr>\n",
       "  </thead>\n",
       "  <tbody>\n",
       "    <tr>\n",
       "      <th>5</th>\n",
       "      <td>Random Forest</td>\n",
       "      <td>92.16</td>\n",
       "    </tr>\n",
       "    <tr>\n",
       "      <th>4</th>\n",
       "      <td>Decision Tree</td>\n",
       "      <td>92.03</td>\n",
       "    </tr>\n",
       "    <tr>\n",
       "      <th>6</th>\n",
       "      <td>KNN</td>\n",
       "      <td>88.94</td>\n",
       "    </tr>\n",
       "    <tr>\n",
       "      <th>8</th>\n",
       "      <td>Gradient Boosting Classifier</td>\n",
       "      <td>88.46</td>\n",
       "    </tr>\n",
       "    <tr>\n",
       "      <th>0</th>\n",
       "      <td>Logistic Regression</td>\n",
       "      <td>87.78</td>\n",
       "    </tr>\n",
       "    <tr>\n",
       "      <th>7</th>\n",
       "      <td>Stochastic Gradient Descent</td>\n",
       "      <td>87.20</td>\n",
       "    </tr>\n",
       "    <tr>\n",
       "      <th>2</th>\n",
       "      <td>Linear SVC</td>\n",
       "      <td>87.17</td>\n",
       "    </tr>\n",
       "    <tr>\n",
       "      <th>3</th>\n",
       "      <td>Perceptron</td>\n",
       "      <td>87.13</td>\n",
       "    </tr>\n",
       "    <tr>\n",
       "      <th>1</th>\n",
       "      <td>Gaussian Naive Bayes</td>\n",
       "      <td>78.78</td>\n",
       "    </tr>\n",
       "  </tbody>\n",
       "</table>\n",
       "</div>"
      ],
      "text/plain": [
       "                          Model  Score\n",
       "5                 Random Forest  92.16\n",
       "4                 Decision Tree  92.03\n",
       "6                           KNN  88.94\n",
       "8  Gradient Boosting Classifier  88.46\n",
       "0           Logistic Regression  87.78\n",
       "7   Stochastic Gradient Descent  87.20\n",
       "2                    Linear SVC  87.17\n",
       "3                    Perceptron  87.13\n",
       "1          Gaussian Naive Bayes  78.78"
      ]
     },
     "execution_count": 103,
     "metadata": {},
     "output_type": "execute_result"
    }
   ],
   "source": [
    "models = pd.DataFrame({\n",
    "    'Model': ['Logistic Regression','Gaussian Naive Bayes',\n",
    "              'Linear SVC', 'Perceptron',  'Decision Tree',\n",
    "              'Random Forest', 'KNN','Stochastic Gradient Descent',\n",
    "              'Gradient Boosting Classifier'],\n",
    "    'Score': [acc_logreg, acc_gauss, acc_lsvc, acc_percep,  acc_decisiontree,\n",
    "              acc_randomforest,  acc_knn,  acc_sgd, acc_gbk]\n",
    "                    })\n",
    "\n",
    "\n",
    "print('Models:')\n",
    "models.sort_values(by='Score', ascending=False)"
   ]
  },
  {
   "cell_type": "code",
   "execution_count": null,
   "metadata": {},
   "outputs": [],
   "source": []
  }
 ],
 "metadata": {
  "kernelspec": {
   "display_name": "Python 3",
   "language": "python",
   "name": "python3"
  },
  "language_info": {
   "codemirror_mode": {
    "name": "ipython",
    "version": 3
   },
   "file_extension": ".py",
   "mimetype": "text/x-python",
   "name": "python",
   "nbconvert_exporter": "python",
   "pygments_lexer": "ipython3",
   "version": "3.7.6"
  }
 },
 "nbformat": 4,
 "nbformat_minor": 4
}
