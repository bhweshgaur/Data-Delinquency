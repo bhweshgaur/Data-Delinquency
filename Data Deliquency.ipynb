{
 "cells": [
  {
   "cell_type": "markdown",
   "metadata": {},
   "source": [
    "# Project: Data Delinquency"
   ]
  },
  {
   "cell_type": "code",
   "execution_count": 1,
   "metadata": {},
   "outputs": [],
   "source": [
    "# Importing Libraries\n",
    "import numpy as np\n",
    "import pandas as pd\n",
    "\n",
    "import matplotlib.pyplot as plt\n",
    "import seaborn as sns"
   ]
  },
  {
   "cell_type": "code",
   "execution_count": 2,
   "metadata": {},
   "outputs": [],
   "source": [
    "# Read CSV file\n",
    "df = pd.read_csv('train.csv',low_memory = False)\n",
    "df = df.iloc[:,:37] #Extra columns are removed"
   ]
  },
  {
   "cell_type": "code",
   "execution_count": 3,
   "metadata": {},
   "outputs": [
    {
     "name": "stdout",
     "output_type": "stream",
     "text": [
      "<class 'pandas.core.frame.DataFrame'>\n",
      "RangeIndex: 379849 entries, 0 to 379848\n",
      "Data columns (total 37 columns):\n",
      " #   Column                Non-Null Count   Dtype \n",
      "---  ------                --------------   ----- \n",
      " 0   Unnamed: 0            379849 non-null  object\n",
      " 1   label                 379848 non-null  object\n",
      " 2   msisdn                379848 non-null  object\n",
      " 3   aon                   379846 non-null  object\n",
      " 4   daily_decr30          379846 non-null  object\n",
      " 5   daily_decr90          379844 non-null  object\n",
      " 6   rental30              379843 non-null  object\n",
      " 7   rental90              379843 non-null  object\n",
      " 8   last_rech_date_ma     379841 non-null  object\n",
      " 9   last_rech_date_da     379843 non-null  object\n",
      " 10  last_rech_amt_ma      379843 non-null  object\n",
      " 11  cnt_ma_rech30         379843 non-null  object\n",
      " 12  fr_ma_rech30          379841 non-null  object\n",
      " 13  sumamnt_ma_rech30     379840 non-null  object\n",
      " 14  medianamnt_ma_rech30  379838 non-null  object\n",
      " 15  medianmarechprebal30  379838 non-null  object\n",
      " 16  cnt_ma_rech90         379837 non-null  object\n",
      " 17  fr_ma_rech90          379837 non-null  object\n",
      " 18  sumamnt_ma_rech90     379836 non-null  object\n",
      " 19  medianamnt_ma_rech90  379832 non-null  object\n",
      " 20  medianmarechprebal90  379829 non-null  object\n",
      " 21  cnt_da_rech30         379826 non-null  object\n",
      " 22  fr_da_rech30          379823 non-null  object\n",
      " 23  cnt_da_rech90         379820 non-null  object\n",
      " 24  fr_da_rech90          379818 non-null  object\n",
      " 25  cnt_loans30           379816 non-null  object\n",
      " 26  amnt_loans30          379813 non-null  object\n",
      " 27  maxamnt_loans30       379809 non-null  object\n",
      " 28  medianamnt_loans30    379804 non-null  object\n",
      " 29  cnt_loans90           379802 non-null  object\n",
      " 30  amnt_loans90          379796 non-null  object\n",
      " 31  maxamnt_loans90       379794 non-null  object\n",
      " 32  medianamnt_loans90    379789 non-null  object\n",
      " 33  payback30             379787 non-null  object\n",
      " 34  payback90             379777 non-null  object\n",
      " 35  pcircle               379770 non-null  object\n",
      " 36  pdate                 379764 non-null  object\n",
      "dtypes: object(37)\n",
      "memory usage: 107.2+ MB\n"
     ]
    }
   ],
   "source": [
    "# Information about the data\n",
    "df.info()"
   ]
  },
  {
   "cell_type": "code",
   "execution_count": 4,
   "metadata": {},
   "outputs": [
    {
     "data": {
      "text/html": [
       "<div>\n",
       "<style scoped>\n",
       "    .dataframe tbody tr th:only-of-type {\n",
       "        vertical-align: middle;\n",
       "    }\n",
       "\n",
       "    .dataframe tbody tr th {\n",
       "        vertical-align: top;\n",
       "    }\n",
       "\n",
       "    .dataframe thead th {\n",
       "        text-align: right;\n",
       "    }\n",
       "</style>\n",
       "<table border=\"1\" class=\"dataframe\">\n",
       "  <thead>\n",
       "    <tr style=\"text-align: right;\">\n",
       "      <th></th>\n",
       "      <th>Unnamed: 0</th>\n",
       "      <th>label</th>\n",
       "      <th>msisdn</th>\n",
       "      <th>aon</th>\n",
       "      <th>daily_decr30</th>\n",
       "      <th>daily_decr90</th>\n",
       "      <th>rental30</th>\n",
       "      <th>rental90</th>\n",
       "      <th>last_rech_date_ma</th>\n",
       "      <th>last_rech_date_da</th>\n",
       "      <th>...</th>\n",
       "      <th>maxamnt_loans30</th>\n",
       "      <th>medianamnt_loans30</th>\n",
       "      <th>cnt_loans90</th>\n",
       "      <th>amnt_loans90</th>\n",
       "      <th>maxamnt_loans90</th>\n",
       "      <th>medianamnt_loans90</th>\n",
       "      <th>payback30</th>\n",
       "      <th>payback90</th>\n",
       "      <th>pcircle</th>\n",
       "      <th>pdate</th>\n",
       "    </tr>\n",
       "  </thead>\n",
       "  <tbody>\n",
       "    <tr>\n",
       "      <th>count</th>\n",
       "      <td>379849</td>\n",
       "      <td>379848</td>\n",
       "      <td>379848</td>\n",
       "      <td>379846</td>\n",
       "      <td>379846</td>\n",
       "      <td>379844</td>\n",
       "      <td>379843</td>\n",
       "      <td>379843</td>\n",
       "      <td>379841</td>\n",
       "      <td>379843</td>\n",
       "      <td>...</td>\n",
       "      <td>379809</td>\n",
       "      <td>379804</td>\n",
       "      <td>379802</td>\n",
       "      <td>379796</td>\n",
       "      <td>379794</td>\n",
       "      <td>379789</td>\n",
       "      <td>379787</td>\n",
       "      <td>379777</td>\n",
       "      <td>379770</td>\n",
       "      <td>379764</td>\n",
       "    </tr>\n",
       "    <tr>\n",
       "      <th>unique</th>\n",
       "      <td>190011</td>\n",
       "      <td>14</td>\n",
       "      <td>170642</td>\n",
       "      <td>4329</td>\n",
       "      <td>134608</td>\n",
       "      <td>142636</td>\n",
       "      <td>121385</td>\n",
       "      <td>128225</td>\n",
       "      <td>1130</td>\n",
       "      <td>1117</td>\n",
       "      <td>...</td>\n",
       "      <td>994</td>\n",
       "      <td>43</td>\n",
       "      <td>1033</td>\n",
       "      <td>104</td>\n",
       "      <td>48</td>\n",
       "      <td>42</td>\n",
       "      <td>1343</td>\n",
       "      <td>2319</td>\n",
       "      <td>36</td>\n",
       "      <td>127</td>\n",
       "    </tr>\n",
       "    <tr>\n",
       "      <th>top</th>\n",
       "      <td>38241</td>\n",
       "      <td>1</td>\n",
       "      <td>04581I85330</td>\n",
       "      <td>95</td>\n",
       "      <td>0</td>\n",
       "      <td>0</td>\n",
       "      <td>0</td>\n",
       "      <td>0</td>\n",
       "      <td>1</td>\n",
       "      <td>0</td>\n",
       "      <td>...</td>\n",
       "      <td>6</td>\n",
       "      <td>0</td>\n",
       "      <td>1</td>\n",
       "      <td>6</td>\n",
       "      <td>6</td>\n",
       "      <td>0</td>\n",
       "      <td>0</td>\n",
       "      <td>0</td>\n",
       "      <td>UPW</td>\n",
       "      <td>7/4/2016</td>\n",
       "    </tr>\n",
       "    <tr>\n",
       "      <th>freq</th>\n",
       "      <td>3</td>\n",
       "      <td>332378</td>\n",
       "      <td>14</td>\n",
       "      <td>713</td>\n",
       "      <td>7488</td>\n",
       "      <td>7345</td>\n",
       "      <td>13612</td>\n",
       "      <td>12467</td>\n",
       "      <td>85771</td>\n",
       "      <td>367503</td>\n",
       "      <td>...</td>\n",
       "      <td>324739</td>\n",
       "      <td>354034</td>\n",
       "      <td>133878</td>\n",
       "      <td>125312</td>\n",
       "      <td>327885</td>\n",
       "      <td>357552</td>\n",
       "      <td>193527</td>\n",
       "      <td>173552</td>\n",
       "      <td>379678</td>\n",
       "      <td>5710</td>\n",
       "    </tr>\n",
       "  </tbody>\n",
       "</table>\n",
       "<p>4 rows × 37 columns</p>\n",
       "</div>"
      ],
      "text/plain": [
       "       Unnamed: 0   label       msisdn     aon daily_decr30 daily_decr90  \\\n",
       "count      379849  379848       379848  379846       379846       379844   \n",
       "unique     190011      14       170642    4329       134608       142636   \n",
       "top         38241       1  04581I85330      95            0            0   \n",
       "freq            3  332378           14     713         7488         7345   \n",
       "\n",
       "       rental30 rental90 last_rech_date_ma last_rech_date_da  ...  \\\n",
       "count    379843   379843            379841            379843  ...   \n",
       "unique   121385   128225              1130              1117  ...   \n",
       "top           0        0                 1                 0  ...   \n",
       "freq      13612    12467             85771            367503  ...   \n",
       "\n",
       "       maxamnt_loans30 medianamnt_loans30 cnt_loans90 amnt_loans90  \\\n",
       "count           379809             379804      379802       379796   \n",
       "unique             994                 43        1033          104   \n",
       "top                  6                  0           1            6   \n",
       "freq            324739             354034      133878       125312   \n",
       "\n",
       "       maxamnt_loans90 medianamnt_loans90 payback30 payback90 pcircle  \\\n",
       "count           379794             379789    379787    379777  379770   \n",
       "unique              48                 42      1343      2319      36   \n",
       "top                  6                  0         0         0     UPW   \n",
       "freq            327885             357552    193527    173552  379678   \n",
       "\n",
       "           pdate  \n",
       "count     379764  \n",
       "unique       127  \n",
       "top     7/4/2016  \n",
       "freq        5710  \n",
       "\n",
       "[4 rows x 37 columns]"
      ]
     },
     "execution_count": 4,
     "metadata": {},
     "output_type": "execute_result"
    }
   ],
   "source": [
    "# Details of data\n",
    "# Here every column we have is of numeric type(continuous) except 'maxamnt_loans90', which is categorical(6 & 12)\n",
    "df.describe(include='all')"
   ]
  },
  {
   "cell_type": "code",
   "execution_count": 5,
   "metadata": {},
   "outputs": [
    {
     "data": {
      "text/html": [
       "<div>\n",
       "<style scoped>\n",
       "    .dataframe tbody tr th:only-of-type {\n",
       "        vertical-align: middle;\n",
       "    }\n",
       "\n",
       "    .dataframe tbody tr th {\n",
       "        vertical-align: top;\n",
       "    }\n",
       "\n",
       "    .dataframe thead th {\n",
       "        text-align: right;\n",
       "    }\n",
       "</style>\n",
       "<table border=\"1\" class=\"dataframe\">\n",
       "  <thead>\n",
       "    <tr style=\"text-align: right;\">\n",
       "      <th></th>\n",
       "      <th>Unnamed: 0</th>\n",
       "      <th>label</th>\n",
       "      <th>msisdn</th>\n",
       "      <th>aon</th>\n",
       "      <th>daily_decr30</th>\n",
       "      <th>daily_decr90</th>\n",
       "      <th>rental30</th>\n",
       "      <th>rental90</th>\n",
       "      <th>last_rech_date_ma</th>\n",
       "      <th>last_rech_date_da</th>\n",
       "      <th>...</th>\n",
       "      <th>maxamnt_loans30</th>\n",
       "      <th>medianamnt_loans30</th>\n",
       "      <th>cnt_loans90</th>\n",
       "      <th>amnt_loans90</th>\n",
       "      <th>maxamnt_loans90</th>\n",
       "      <th>medianamnt_loans90</th>\n",
       "      <th>payback30</th>\n",
       "      <th>payback90</th>\n",
       "      <th>pcircle</th>\n",
       "      <th>pdate</th>\n",
       "    </tr>\n",
       "  </thead>\n",
       "  <tbody>\n",
       "    <tr>\n",
       "      <th>0</th>\n",
       "      <td>1</td>\n",
       "      <td>0</td>\n",
       "      <td>21408I70789</td>\n",
       "      <td>272</td>\n",
       "      <td>3055.05</td>\n",
       "      <td>3065.15</td>\n",
       "      <td>220.13</td>\n",
       "      <td>260.13</td>\n",
       "      <td>2</td>\n",
       "      <td>0</td>\n",
       "      <td>...</td>\n",
       "      <td>6</td>\n",
       "      <td>0</td>\n",
       "      <td>2</td>\n",
       "      <td>12</td>\n",
       "      <td>6</td>\n",
       "      <td>0</td>\n",
       "      <td>29</td>\n",
       "      <td>29</td>\n",
       "      <td>UPW</td>\n",
       "      <td>7/20/2016</td>\n",
       "    </tr>\n",
       "    <tr>\n",
       "      <th>1</th>\n",
       "      <td>2</td>\n",
       "      <td>1</td>\n",
       "      <td>76462I70374</td>\n",
       "      <td>712</td>\n",
       "      <td>12122</td>\n",
       "      <td>12124.75</td>\n",
       "      <td>3691.26</td>\n",
       "      <td>3691.26</td>\n",
       "      <td>20</td>\n",
       "      <td>0</td>\n",
       "      <td>...</td>\n",
       "      <td>12</td>\n",
       "      <td>0</td>\n",
       "      <td>1</td>\n",
       "      <td>12</td>\n",
       "      <td>12</td>\n",
       "      <td>0</td>\n",
       "      <td>0</td>\n",
       "      <td>0</td>\n",
       "      <td>UPW</td>\n",
       "      <td>8/10/2016</td>\n",
       "    </tr>\n",
       "    <tr>\n",
       "      <th>2</th>\n",
       "      <td>3</td>\n",
       "      <td>1</td>\n",
       "      <td>17943I70372</td>\n",
       "      <td>535</td>\n",
       "      <td>1398</td>\n",
       "      <td>1398</td>\n",
       "      <td>900.13</td>\n",
       "      <td>900.13</td>\n",
       "      <td>3</td>\n",
       "      <td>0</td>\n",
       "      <td>...</td>\n",
       "      <td>6</td>\n",
       "      <td>0</td>\n",
       "      <td>1</td>\n",
       "      <td>6</td>\n",
       "      <td>6</td>\n",
       "      <td>0</td>\n",
       "      <td>0</td>\n",
       "      <td>0</td>\n",
       "      <td>UPW</td>\n",
       "      <td>8/19/2016</td>\n",
       "    </tr>\n",
       "    <tr>\n",
       "      <th>3</th>\n",
       "      <td>4</td>\n",
       "      <td>1</td>\n",
       "      <td>55773I70781</td>\n",
       "      <td>241</td>\n",
       "      <td>21.228</td>\n",
       "      <td>21.228</td>\n",
       "      <td>159.42</td>\n",
       "      <td>159.42</td>\n",
       "      <td>41</td>\n",
       "      <td>0</td>\n",
       "      <td>...</td>\n",
       "      <td>6</td>\n",
       "      <td>0</td>\n",
       "      <td>2</td>\n",
       "      <td>12</td>\n",
       "      <td>6</td>\n",
       "      <td>0</td>\n",
       "      <td>0</td>\n",
       "      <td>0</td>\n",
       "      <td>UPW</td>\n",
       "      <td>6/6/2016</td>\n",
       "    </tr>\n",
       "    <tr>\n",
       "      <th>4</th>\n",
       "      <td>5</td>\n",
       "      <td>1</td>\n",
       "      <td>03813I82730</td>\n",
       "      <td>947</td>\n",
       "      <td>150.6193333</td>\n",
       "      <td>150.6193333</td>\n",
       "      <td>1098.9</td>\n",
       "      <td>1098.9</td>\n",
       "      <td>4</td>\n",
       "      <td>0</td>\n",
       "      <td>...</td>\n",
       "      <td>6</td>\n",
       "      <td>0</td>\n",
       "      <td>7</td>\n",
       "      <td>42</td>\n",
       "      <td>6</td>\n",
       "      <td>0</td>\n",
       "      <td>2.333333333</td>\n",
       "      <td>2.333333333</td>\n",
       "      <td>UPW</td>\n",
       "      <td>6/22/2016</td>\n",
       "    </tr>\n",
       "  </tbody>\n",
       "</table>\n",
       "<p>5 rows × 37 columns</p>\n",
       "</div>"
      ],
      "text/plain": [
       "  Unnamed: 0 label       msisdn  aon daily_decr30 daily_decr90 rental30  \\\n",
       "0          1     0  21408I70789  272      3055.05      3065.15   220.13   \n",
       "1          2     1  76462I70374  712        12122     12124.75  3691.26   \n",
       "2          3     1  17943I70372  535         1398         1398   900.13   \n",
       "3          4     1  55773I70781  241       21.228       21.228   159.42   \n",
       "4          5     1  03813I82730  947  150.6193333  150.6193333   1098.9   \n",
       "\n",
       "  rental90 last_rech_date_ma last_rech_date_da  ... maxamnt_loans30  \\\n",
       "0   260.13                 2                 0  ...               6   \n",
       "1  3691.26                20                 0  ...              12   \n",
       "2   900.13                 3                 0  ...               6   \n",
       "3   159.42                41                 0  ...               6   \n",
       "4   1098.9                 4                 0  ...               6   \n",
       "\n",
       "  medianamnt_loans30 cnt_loans90 amnt_loans90 maxamnt_loans90  \\\n",
       "0                  0           2           12               6   \n",
       "1                  0           1           12              12   \n",
       "2                  0           1            6               6   \n",
       "3                  0           2           12               6   \n",
       "4                  0           7           42               6   \n",
       "\n",
       "  medianamnt_loans90    payback30    payback90 pcircle      pdate  \n",
       "0                  0           29           29     UPW  7/20/2016  \n",
       "1                  0            0            0     UPW  8/10/2016  \n",
       "2                  0            0            0     UPW  8/19/2016  \n",
       "3                  0            0            0     UPW   6/6/2016  \n",
       "4                  0  2.333333333  2.333333333     UPW  6/22/2016  \n",
       "\n",
       "[5 rows x 37 columns]"
      ]
     },
     "execution_count": 5,
     "metadata": {},
     "output_type": "execute_result"
    }
   ],
   "source": [
    "df.head()"
   ]
  },
  {
   "cell_type": "code",
   "execution_count": 6,
   "metadata": {},
   "outputs": [],
   "source": [
    "# Drop useless columns which donot effect your result\n",
    "\n",
    "df.drop(columns = ['pcircle','msisdn','medianmarechprebal30','pdate'],axis = 1,inplace=True)"
   ]
  },
  {
   "cell_type": "code",
   "execution_count": 7,
   "metadata": {},
   "outputs": [],
   "source": [
    "df.rename(columns={'Unnamed: 0':'Index'},inplace = True)\n",
    "df.set_index('Index',inplace = True)"
   ]
  },
  {
   "cell_type": "code",
   "execution_count": 8,
   "metadata": {
    "scrolled": true
   },
   "outputs": [
    {
     "data": {
      "text/html": [
       "<div>\n",
       "<style scoped>\n",
       "    .dataframe tbody tr th:only-of-type {\n",
       "        vertical-align: middle;\n",
       "    }\n",
       "\n",
       "    .dataframe tbody tr th {\n",
       "        vertical-align: top;\n",
       "    }\n",
       "\n",
       "    .dataframe thead th {\n",
       "        text-align: right;\n",
       "    }\n",
       "</style>\n",
       "<table border=\"1\" class=\"dataframe\">\n",
       "  <thead>\n",
       "    <tr style=\"text-align: right;\">\n",
       "      <th></th>\n",
       "      <th>label</th>\n",
       "      <th>aon</th>\n",
       "      <th>daily_decr30</th>\n",
       "      <th>daily_decr90</th>\n",
       "      <th>rental30</th>\n",
       "      <th>rental90</th>\n",
       "      <th>last_rech_date_ma</th>\n",
       "      <th>last_rech_date_da</th>\n",
       "      <th>last_rech_amt_ma</th>\n",
       "      <th>cnt_ma_rech30</th>\n",
       "      <th>...</th>\n",
       "      <th>cnt_loans30</th>\n",
       "      <th>amnt_loans30</th>\n",
       "      <th>maxamnt_loans30</th>\n",
       "      <th>medianamnt_loans30</th>\n",
       "      <th>cnt_loans90</th>\n",
       "      <th>amnt_loans90</th>\n",
       "      <th>maxamnt_loans90</th>\n",
       "      <th>medianamnt_loans90</th>\n",
       "      <th>payback30</th>\n",
       "      <th>payback90</th>\n",
       "    </tr>\n",
       "    <tr>\n",
       "      <th>Index</th>\n",
       "      <th></th>\n",
       "      <th></th>\n",
       "      <th></th>\n",
       "      <th></th>\n",
       "      <th></th>\n",
       "      <th></th>\n",
       "      <th></th>\n",
       "      <th></th>\n",
       "      <th></th>\n",
       "      <th></th>\n",
       "      <th></th>\n",
       "      <th></th>\n",
       "      <th></th>\n",
       "      <th></th>\n",
       "      <th></th>\n",
       "      <th></th>\n",
       "      <th></th>\n",
       "      <th></th>\n",
       "      <th></th>\n",
       "      <th></th>\n",
       "      <th></th>\n",
       "    </tr>\n",
       "  </thead>\n",
       "  <tbody>\n",
       "    <tr>\n",
       "      <th>1</th>\n",
       "      <td>0</td>\n",
       "      <td>272</td>\n",
       "      <td>3055.05</td>\n",
       "      <td>3065.15</td>\n",
       "      <td>220.13</td>\n",
       "      <td>260.13</td>\n",
       "      <td>2</td>\n",
       "      <td>0</td>\n",
       "      <td>1539</td>\n",
       "      <td>2</td>\n",
       "      <td>...</td>\n",
       "      <td>2</td>\n",
       "      <td>12</td>\n",
       "      <td>6</td>\n",
       "      <td>0</td>\n",
       "      <td>2</td>\n",
       "      <td>12</td>\n",
       "      <td>6</td>\n",
       "      <td>0</td>\n",
       "      <td>29</td>\n",
       "      <td>29</td>\n",
       "    </tr>\n",
       "    <tr>\n",
       "      <th>2</th>\n",
       "      <td>1</td>\n",
       "      <td>712</td>\n",
       "      <td>12122</td>\n",
       "      <td>12124.75</td>\n",
       "      <td>3691.26</td>\n",
       "      <td>3691.26</td>\n",
       "      <td>20</td>\n",
       "      <td>0</td>\n",
       "      <td>5787</td>\n",
       "      <td>1</td>\n",
       "      <td>...</td>\n",
       "      <td>1</td>\n",
       "      <td>12</td>\n",
       "      <td>12</td>\n",
       "      <td>0</td>\n",
       "      <td>1</td>\n",
       "      <td>12</td>\n",
       "      <td>12</td>\n",
       "      <td>0</td>\n",
       "      <td>0</td>\n",
       "      <td>0</td>\n",
       "    </tr>\n",
       "    <tr>\n",
       "      <th>3</th>\n",
       "      <td>1</td>\n",
       "      <td>535</td>\n",
       "      <td>1398</td>\n",
       "      <td>1398</td>\n",
       "      <td>900.13</td>\n",
       "      <td>900.13</td>\n",
       "      <td>3</td>\n",
       "      <td>0</td>\n",
       "      <td>1539</td>\n",
       "      <td>1</td>\n",
       "      <td>...</td>\n",
       "      <td>1</td>\n",
       "      <td>6</td>\n",
       "      <td>6</td>\n",
       "      <td>0</td>\n",
       "      <td>1</td>\n",
       "      <td>6</td>\n",
       "      <td>6</td>\n",
       "      <td>0</td>\n",
       "      <td>0</td>\n",
       "      <td>0</td>\n",
       "    </tr>\n",
       "    <tr>\n",
       "      <th>4</th>\n",
       "      <td>1</td>\n",
       "      <td>241</td>\n",
       "      <td>21.228</td>\n",
       "      <td>21.228</td>\n",
       "      <td>159.42</td>\n",
       "      <td>159.42</td>\n",
       "      <td>41</td>\n",
       "      <td>0</td>\n",
       "      <td>947</td>\n",
       "      <td>0</td>\n",
       "      <td>...</td>\n",
       "      <td>2</td>\n",
       "      <td>12</td>\n",
       "      <td>6</td>\n",
       "      <td>0</td>\n",
       "      <td>2</td>\n",
       "      <td>12</td>\n",
       "      <td>6</td>\n",
       "      <td>0</td>\n",
       "      <td>0</td>\n",
       "      <td>0</td>\n",
       "    </tr>\n",
       "    <tr>\n",
       "      <th>5</th>\n",
       "      <td>1</td>\n",
       "      <td>947</td>\n",
       "      <td>150.6193333</td>\n",
       "      <td>150.6193333</td>\n",
       "      <td>1098.9</td>\n",
       "      <td>1098.9</td>\n",
       "      <td>4</td>\n",
       "      <td>0</td>\n",
       "      <td>2309</td>\n",
       "      <td>7</td>\n",
       "      <td>...</td>\n",
       "      <td>7</td>\n",
       "      <td>42</td>\n",
       "      <td>6</td>\n",
       "      <td>0</td>\n",
       "      <td>7</td>\n",
       "      <td>42</td>\n",
       "      <td>6</td>\n",
       "      <td>0</td>\n",
       "      <td>2.333333333</td>\n",
       "      <td>2.333333333</td>\n",
       "    </tr>\n",
       "  </tbody>\n",
       "</table>\n",
       "<p>5 rows × 32 columns</p>\n",
       "</div>"
      ],
      "text/plain": [
       "      label  aon daily_decr30 daily_decr90 rental30 rental90  \\\n",
       "Index                                                          \n",
       "1         0  272      3055.05      3065.15   220.13   260.13   \n",
       "2         1  712        12122     12124.75  3691.26  3691.26   \n",
       "3         1  535         1398         1398   900.13   900.13   \n",
       "4         1  241       21.228       21.228   159.42   159.42   \n",
       "5         1  947  150.6193333  150.6193333   1098.9   1098.9   \n",
       "\n",
       "      last_rech_date_ma last_rech_date_da last_rech_amt_ma cnt_ma_rech30  ...  \\\n",
       "Index                                                                     ...   \n",
       "1                     2                 0             1539             2  ...   \n",
       "2                    20                 0             5787             1  ...   \n",
       "3                     3                 0             1539             1  ...   \n",
       "4                    41                 0              947             0  ...   \n",
       "5                     4                 0             2309             7  ...   \n",
       "\n",
       "      cnt_loans30 amnt_loans30 maxamnt_loans30 medianamnt_loans30 cnt_loans90  \\\n",
       "Index                                                                           \n",
       "1               2           12               6                  0           2   \n",
       "2               1           12              12                  0           1   \n",
       "3               1            6               6                  0           1   \n",
       "4               2           12               6                  0           2   \n",
       "5               7           42               6                  0           7   \n",
       "\n",
       "      amnt_loans90 maxamnt_loans90 medianamnt_loans90    payback30  \\\n",
       "Index                                                                \n",
       "1               12               6                  0           29   \n",
       "2               12              12                  0            0   \n",
       "3                6               6                  0            0   \n",
       "4               12               6                  0            0   \n",
       "5               42               6                  0  2.333333333   \n",
       "\n",
       "         payback90  \n",
       "Index               \n",
       "1               29  \n",
       "2                0  \n",
       "3                0  \n",
       "4                0  \n",
       "5      2.333333333  \n",
       "\n",
       "[5 rows x 32 columns]"
      ]
     },
     "execution_count": 8,
     "metadata": {},
     "output_type": "execute_result"
    }
   ],
   "source": [
    "df.head()"
   ]
  },
  {
   "cell_type": "code",
   "execution_count": 9,
   "metadata": {},
   "outputs": [],
   "source": [
    "# convert all str data to float for prediction\n",
    "\n",
    "def string_to_integer(value):\n",
    "    try:\n",
    "        return float(value)\n",
    "    except:\n",
    "        return np.nan\n",
    "    \n",
    "for i in df:\n",
    "    df[i] = df[i].apply(lambda x: string_to_integer(x))"
   ]
  },
  {
   "cell_type": "code",
   "execution_count": 10,
   "metadata": {},
   "outputs": [
    {
     "data": {
      "text/plain": [
       "0"
      ]
     },
     "execution_count": 10,
     "metadata": {},
     "output_type": "execute_result"
    }
   ],
   "source": [
    "# drop NaN values and their corresponding rows\n",
    "df.dropna(axis = 0,how = 'any',inplace = True)\n",
    "np.sum(df.isnull().sum())"
   ]
  },
  {
   "cell_type": "code",
   "execution_count": 11,
   "metadata": {
    "scrolled": true
   },
   "outputs": [
    {
     "name": "stdout",
     "output_type": "stream",
     "text": [
      "label : 1.0\n",
      "aon : 999520.6094\n",
      "daily_decr30 : 265926.0\n",
      "daily_decr90 : 269333333.0\n",
      "rental30 : 71900844.0\n",
      "rental90 : 669399.5\n",
      "last_rech_date_ma : 997717.8096\n",
      "last_rech_date_da : 999171.8094\n",
      "last_rech_amt_ma : 55000.0\n",
      "cnt_ma_rech30 : 7109.57\n",
      "fr_ma_rech30 : 999606.3681\n",
      "sumamnt_ma_rech30 : 810096.0\n",
      "medianamnt_ma_rech30 : 55000.0\n",
      "cnt_ma_rech90 : 11929.0\n",
      "fr_ma_rech90 : 9239.0\n",
      "sumamnt_ma_rech90 : 953036.0\n",
      "medianamnt_ma_rech90 : 791423.3321\n",
      "medianmarechprebal90 : 833251.4139\n",
      "cnt_da_rech30 : 99842.33633\n",
      "fr_da_rech30 : 999809.2401\n",
      "cnt_da_rech90 : 24000.0\n",
      "fr_da_rech90 : 72579.0\n",
      "cnt_loans30 : 47023.0\n",
      "amnt_loans30 : 5787.0\n",
      "maxamnt_loans30 : 784312.497\n",
      "medianamnt_loans30 : 102588.0\n",
      "cnt_loans90 : 11079.0\n",
      "amnt_loans90 : 11547.0\n",
      "maxamnt_loans90 : 6933.0\n",
      "medianamnt_loans90 : 61909.0\n",
      "payback30 : 54960.0\n",
      "payback90 : 16893.0\n"
     ]
    }
   ],
   "source": [
    "# The very large value in the dataset is nothing but trash. We need to remove all these values either by replacing\n",
    "# it with some other value or by just dropping those rows\n",
    "for i in df:\n",
    "    print(i,':', max(df[i]))"
   ]
  },
  {
   "cell_type": "code",
   "execution_count": 12,
   "metadata": {},
   "outputs": [],
   "source": [
    "# Removing trash by dropping rows in dataset.\n",
    "''' Considering any threshold value and comparing with each data. The data larger than the threshold value will be\n",
    "considered as trash.'''\n",
    "\n",
    "def remove_trash(value, threshold):\n",
    "    if value > threshold:\n",
    "        return np.nan\n",
    "    else:\n",
    "        return value"
   ]
  },
  {
   "cell_type": "code",
   "execution_count": 13,
   "metadata": {},
   "outputs": [],
   "source": [
    "for i in df:\n",
    "    threshold = 8*np.mean(df[i])\n",
    "    df[i] = df[i].apply(lambda x:remove_trash(x, threshold))"
   ]
  },
  {
   "cell_type": "code",
   "execution_count": 14,
   "metadata": {},
   "outputs": [
    {
     "data": {
      "text/plain": [
       "0"
      ]
     },
     "execution_count": 14,
     "metadata": {},
     "output_type": "execute_result"
    }
   ],
   "source": [
    "# Dropping all NaN value rows\n",
    "df.dropna(axis = 0,how = 'any',inplace = True)\n",
    "np.sum(df.isnull().sum())"
   ]
  },
  {
   "cell_type": "markdown",
   "metadata": {},
   "source": [
    "> **Let us now check how result is affected by every columns and we will remove every unnecessary column from our dataset**"
   ]
  },
  {
   "cell_type": "markdown",
   "metadata": {},
   "source": [
    "*We will check this using histogram plot by seaborn library*"
   ]
  },
  {
   "cell_type": "code",
   "execution_count": 15,
   "metadata": {},
   "outputs": [
    {
     "data": {
      "text/plain": [
       "<matplotlib.axes._subplots.AxesSubplot at 0x7f3757c2fb90>"
      ]
     },
     "execution_count": 15,
     "metadata": {},
     "output_type": "execute_result"
    },
    {
     "data": {
      "image/png": "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\n",
      "text/plain": [
       "<Figure size 432x288 with 1 Axes>"
      ]
     },
     "metadata": {
      "needs_background": "light"
     },
     "output_type": "display_data"
    }
   ],
   "source": [
    "sns.barplot(x = df['label'],y = df['aon'])"
   ]
  },
  {
   "cell_type": "code",
   "execution_count": 16,
   "metadata": {},
   "outputs": [
    {
     "data": {
      "text/plain": [
       "<matplotlib.axes._subplots.AxesSubplot at 0x7f37576abdd0>"
      ]
     },
     "execution_count": 16,
     "metadata": {},
     "output_type": "execute_result"
    },
    {
     "data": {
      "image/png": "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\n",
      "text/plain": [
       "<Figure size 432x288 with 1 Axes>"
      ]
     },
     "metadata": {
      "needs_background": "light"
     },
     "output_type": "display_data"
    }
   ],
   "source": [
    "sns.barplot(y = 'daily_decr30',x = 'label', data = df)"
   ]
  },
  {
   "cell_type": "code",
   "execution_count": 17,
   "metadata": {},
   "outputs": [
    {
     "data": {
      "text/plain": [
       "<matplotlib.axes._subplots.AxesSubplot at 0x7f3757674910>"
      ]
     },
     "execution_count": 17,
     "metadata": {},
     "output_type": "execute_result"
    },
    {
     "data": {
      "image/png": "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\n",
      "text/plain": [
       "<Figure size 432x288 with 1 Axes>"
      ]
     },
     "metadata": {
      "needs_background": "light"
     },
     "output_type": "display_data"
    }
   ],
   "source": [
    "sns.barplot(x = df['label'],y = df['daily_decr90']) # Similar to daily_decr30"
   ]
  },
  {
   "cell_type": "code",
   "execution_count": 18,
   "metadata": {},
   "outputs": [
    {
     "data": {
      "text/plain": [
       "<matplotlib.axes._subplots.AxesSubplot at 0x7f3756fbbc50>"
      ]
     },
     "execution_count": 18,
     "metadata": {},
     "output_type": "execute_result"
    },
    {
     "data": {
      "image/png": "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\n",
      "text/plain": [
       "<Figure size 432x288 with 1 Axes>"
      ]
     },
     "metadata": {
      "needs_background": "light"
     },
     "output_type": "display_data"
    }
   ],
   "source": [
    "sns.barplot(x=df['label'],y = df['rental90']) "
   ]
  },
  {
   "cell_type": "code",
   "execution_count": 19,
   "metadata": {},
   "outputs": [
    {
     "data": {
      "text/plain": [
       "<matplotlib.axes._subplots.AxesSubplot at 0x7f3756f3ab10>"
      ]
     },
     "execution_count": 19,
     "metadata": {},
     "output_type": "execute_result"
    },
    {
     "data": {
      "image/png": "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\n",
      "text/plain": [
       "<Figure size 432x288 with 1 Axes>"
      ]
     },
     "metadata": {
      "needs_background": "light"
     },
     "output_type": "display_data"
    }
   ],
   "source": [
    "sns.barplot(x = df['label'],y = df['rental30']) # similar to rental90"
   ]
  },
  {
   "cell_type": "code",
   "execution_count": 20,
   "metadata": {},
   "outputs": [
    {
     "data": {
      "text/plain": [
       "<matplotlib.axes._subplots.AxesSubplot at 0x7f3756f0c4d0>"
      ]
     },
     "execution_count": 20,
     "metadata": {},
     "output_type": "execute_result"
    },
    {
     "data": {
      "image/png": "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\n",
      "text/plain": [
       "<Figure size 432x288 with 1 Axes>"
      ]
     },
     "metadata": {
      "needs_background": "light"
     },
     "output_type": "display_data"
    }
   ],
   "source": [
    "sns.barplot(x = df['label'],y = df['last_rech_date_ma'])"
   ]
  },
  {
   "cell_type": "code",
   "execution_count": 21,
   "metadata": {},
   "outputs": [
    {
     "data": {
      "text/plain": [
       "<matplotlib.axes._subplots.AxesSubplot at 0x7f3756e8ac10>"
      ]
     },
     "execution_count": 21,
     "metadata": {},
     "output_type": "execute_result"
    },
    {
     "data": {
      "image/png": "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\n",
      "text/plain": [
       "<Figure size 432x288 with 1 Axes>"
      ]
     },
     "metadata": {
      "needs_background": "light"
     },
     "output_type": "display_data"
    }
   ],
   "source": [
    "sns.barplot(x = 'label',y = 'last_rech_date_da', data = df)"
   ]
  },
  {
   "cell_type": "code",
   "execution_count": 22,
   "metadata": {},
   "outputs": [
    {
     "data": {
      "text/plain": [
       "<matplotlib.axes._subplots.AxesSubplot at 0x7f3756e5c390>"
      ]
     },
     "execution_count": 22,
     "metadata": {},
     "output_type": "execute_result"
    },
    {
     "data": {
      "image/png": "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\n",
      "text/plain": [
       "<Figure size 432x288 with 1 Axes>"
      ]
     },
     "metadata": {
      "needs_background": "light"
     },
     "output_type": "display_data"
    }
   ],
   "source": [
    "sns.barplot(x = 'label', y = 'last_rech_amt_ma', data = df)"
   ]
  },
  {
   "cell_type": "code",
   "execution_count": 23,
   "metadata": {},
   "outputs": [
    {
     "data": {
      "text/plain": [
       "<matplotlib.axes._subplots.AxesSubplot at 0x7f3784659990>"
      ]
     },
     "execution_count": 23,
     "metadata": {},
     "output_type": "execute_result"
    },
    {
     "data": {
      "image/png": "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\n",
      "text/plain": [
       "<Figure size 432x288 with 1 Axes>"
      ]
     },
     "metadata": {
      "needs_background": "light"
     },
     "output_type": "display_data"
    }
   ],
   "source": [
    "sns.barplot(x = 'label',y = 'cnt_ma_rech30', data = df) # Useless"
   ]
  },
  {
   "cell_type": "code",
   "execution_count": 24,
   "metadata": {},
   "outputs": [
    {
     "data": {
      "text/plain": [
       "<matplotlib.axes._subplots.AxesSubplot at 0x7f3753688610>"
      ]
     },
     "execution_count": 24,
     "metadata": {},
     "output_type": "execute_result"
    },
    {
     "data": {
      "image/png": "iVBORw0KGgoAAAANSUhEUgAAAXkAAAEGCAYAAACAd+UpAAAABHNCSVQICAgIfAhkiAAAAAlwSFlzAAALEgAACxIB0t1+/AAAADh0RVh0U29mdHdhcmUAbWF0cGxvdGxpYiB2ZXJzaW9uMy4xLjMsIGh0dHA6Ly9tYXRwbG90bGliLm9yZy+AADFEAAAPmklEQVR4nO3de6zkZX3H8feH3UW8oLjdU5eCuBioDV6qcGJrbUzFxqK2klraiG3xQtym3jBWV22jpCbaitW2Ng1mqxS84QW12RqLGi8YL6BnZYvgSkQrsurKQQUWbIWFb/+YWTng7p757ZnfzNnnvF/JZGZ+t+ebzeSzz3nmmeeXqkKS1KZDpl2AJKk/hrwkNcyQl6SGGfKS1DBDXpIatnraBSy0bt262rBhw7TLkKSDytatW2+oqpm97VtWIb9hwwbm5uamXYYkHVSSXLuvfQ7XSFLDDHlJapghL0kNM+QlqWGGvCQ1zJCXpIYZ8pLUMENekhq2rH4MJWll2LRpEzt37mT9+vWcc8450y6naYa8NEHffd0jp13CsrDj62v54f+uZvePr/XfBDjmtV/r7doO10hSw+zJS5q4dYfdCewePqtPhrykiXv5o26cdgkrhsM1ktQwQ16SGmbIS1LDDHlJapghL0kNM+QlqWGGvCQ1zJCXpIYZ8pLUMENekhpmyEtSwwx5SWqYIS9JDes95JMckeSiJN9Isj3J4/puU5I0MImlhv8ZuLiqTktyKHCfCbQpSaLnkE9yf+AJwHMAquo24LY+25Qk3aXv4ZqHAvPAvye5PMnbk9x34QFJNiaZSzI3Pz/fczmStLL0HfKrgROBc6vqMcCtwKsWHlBVm6tqtqpmZ2Zmei5HklaWvkN+B7Cjqi4bvr+IQehLkiag15Cvqp3AdUkeNtz0JODrfbYpSbrLJGbXvBh4z3BmzbeB506gTUkSEwj5qtoGzPbdjiTpF/mLV0lqmCEvSQ0z5CWpYYa8JDXMkJekhhnyktQwQ16SGmbIS1LDDHlJapghL0kNM+QlqWGGvCQ1zJCXpIYZ8pLUMENekhpmyEtSwwx5SWqYIS9JDTPkJalhhrwkNcyQl6SGGfKS1LDVfTeQ5DvALuAOYHdVzfbdpiRpoPeQH3piVd0wobYkSUMO10hSwyYR8gV8IsnWJBvvuTPJxiRzSebm5+cnUI4krRyTCPnHV9WJwFOAFyZ5wsKdVbW5qmaranZmZmYC5UjSytF7yFfV94fP1wMfAR7bd5uSpIFeQz7JfZMcvuc18GTgyj7blCTdpe/ZNQ8CPpJkT1vvraqLe25TkjTUa8hX1beBX++zDUnSvjmFUpIaZshLUsMMeUlqmCEvSQ0z5CWpYYa8JDVspCmUSX4NOBU4isFaNN8HtlTV9h5rkyQt0aI9+SSvBN4HBPgy8JXh6wuTvKrf8iRJSzFKT/5M4OFVdfvCjUneAlwF/H0fhUmSlm6UMfk7gV/Zy/Yjh/skScvUKD35lwKfSvJN4LrhtmOA44AX9VWYJGnpFg35qro4ya8yWCL4KAbj8TuAr1TVHT3XJ0lagpFm11TVnUm+BfwM2A38jwEvScvfoiGf5ATgrcAGBsM0lwO/nOQS4KyquqnXCiVJB2yUL17PA15YVccBvw18o6qOBb4AvKPP4iRJSzNKyN+7qq4GqKovA48cvv434IQea5MkLdEoY/LfSvIa4FPAM4BtAEnWjHi+JGlKRunJPw84HPhrBl+8njXcfh/gjJ7qkiSNwShTKG8ENu1l+03ApX0UJUkaj5GHW4Zz5V/OYJbNz8+rqpPHX5YkaRy6jKl/EHgb8HbAOfKSdBDoEvK7q+rc3iqRJI3dKEsNr02yFvjPJC9IcuSebcPti0qyKsnlST665IolSSMbpSe/lcGNQjJ8/4oF+wp46AjXOAvYDty/U3WSpCUZZXbNsUtpIMnRwNOA1wMvW8q1JEndjHyP1yQvTHLEgvcPTPKCEU79JwZTMF17XpImrMuNvJ8/nDMPQFX9BHj+/k5I8vvA9VW1dT/HbEwyl2Rufn6+QzmSpMV0CflDkuwZlyfJKuDQRc55PPD0JN9hcJ/Yk5O8e+EBVbW5qmaranZmZqZDOZKkxXQJ+Y8DH0jypCQnAxcCF+/vhKp6dVUdXVUbgGcCn66qPzvgaiVJnXSZJ/9K4C+Av2Qw0+YTDH4YJUlapkYO+eHdoc5n0Bu/umtDVfVZ4LNdz5MkHbgus2uezmCZ4YuH7x+dZEtfhUmSlq7LmPzZDG7mfSNAVW1jsFiZJGmZ6hLyu72fqyQdXLp88XplkmcBq5IcD7wE+GI/ZUmSxqFLT/7FwMMZ3B3qvcBNwEv7KEqSNB4j9eSHP3z626p6BfA3/ZYkSRqXkXryVXUHcFLPtUiSxqzLmPzlwymTHwRu3bOxqj489qokSWPRJeTXAj8CFt7TtQBDXpKWqS6/eH3u/vYneXVV/d3SS5IkjUuX2TWL+eMxXkuSNAbjDPksfogkaZLGGfI1xmtJksbAnrwkNWycIf/BMV5LkjQGI8+uSXIYcCaDpQ0O27O9qp43fH7D2KuTJC1Jl578u4D1wO8BlwBHA7v6KEqSNB5dQv64qnoNcGtVXQA8DXhkP2VJksahS8jfPny+MckjgAfgTUMkaVnrsqzB5iQPBF4DbAHuB7y2l6okSWPRZVmDtw9fXgI8tJ9yJEnj1GV2zRHAGQyGaH5+XlW9ZPxlSZLGoctwzceAS4GvAXeOcsJw2uXngHsN27qoqs7uWqQk6cB0CfnDquplHa//M+DkqrolyRrg80n+q6ou7XgdSdIB6DRPPsnzkxyZZO2ex/5OqIFbhm/XDB+ucSNJE9Il5G8D3gR8Cdg6fMwtdlKSVUm2AdcDn6yqyw6kUElSd12Ga17G4AdRN3RpYHh/2EcPv7j9SJJHVNWVe/Yn2QhsBDjmmGO6XFqStIguPfmrgJ8eaENVdSPwWeCUe2zfXFWzVTU7MzNzoJeXJO1Fl578HcC2JJ9h8IUqsP8plElmgNur6sYk9wZ+F3jjgRYrSeqmS8j/x/DRxZHABUlWMfir4QNV9dGO15AkHaAuv3i9YH/7k3yoqv7oHudcATzmAGuTJC3ROG8a4lIHkrTMeI9XSWrYOENekrTMeCNvSWrYyCGf5KxFtr1yLBVJksamS0/+2XvZ9pw9L6rqE0uuRpI0VotOoUxyOvAs4NgkWxbsOhz4UV+FSZKWbpR58l8EfgCsA968YPsu4Io+ipIkjceiIV9V1wLXAo/rvxxJ0jh1+eL1GUm+meSmJDcn2ZXk5j6LkyQtTZe1a84B/qCqtvdVjCRpvLrMrvmhAS9JB5cuPfm5JO9nsBLlwqWGPzz2qiRJY9El5O/P4KYhT16wrQBDXpKWqS4hfwhw1vAOTyR5IHefUilJWma6jMk/ak/AA1TVT3CteEla1rqE/CHD3jsASdbS7S8BSdKEdQnpNwNfTHIRg7H4PwFe30tVkqSx6HL7v3cmmQNOZrCs8DOq6uu9VSZJWrJOwy3DUDfYJekg4Z2hJKlhhrwkNazXkE/y4CSfSbI9yVV7u7uUJKk/fU+B3A38VVV9NcnhwNYkn/QLW0majF578lX1g6r66vD1LmA7cFSfbUqS7jKxMfkkGxj8QvaySbUpSSvdREI+yf2ADwEvraqb77FvY5K5JHPz8/OTKEeSVozeQz7JGgYB/569LUtcVZuraraqZmdmZvouR5JWlL5n1wR4B7C9qt7SZ1uSpF/Ud0/+8cCfAycn2TZ8PLXnNiVJQ71OoayqzzNY50aSNAUuFdyoTZs2sXPnTtavX88555wz7XIkTYkh36idO3fyve99b9plSJqy5kL+pFe8c9olLAuH37CLVcB3b9jlvwmw9U1nTLsEaSqaC3kN3Hnofe/2LGllMuQbdevxT552CZKWAZcalqSGGfKS1DBDXpIaZshLUsMMeUlqmCEvSQ0z5CWpYYa8JDXMkJekhhnyktQwQ16SGmbIS1LDDHlJapghL0kNM+QlqWGGvCQ1zJCXpIYZ8pLUsF5DPsl5Sa5PcmWf7UiS9q7vnvz5wCk9tyFJ2odeQ76qPgf8uM82JEn7NvUx+SQbk8wlmZufn592OZLUlKmHfFVtrqrZqpqdmZmZdjmS1JSph7wkqT+GvCQ1rO8plBcCXwIelmRHkjP7bE+SdHer+7x4VZ3e5/UlSfvncI0kNcyQl6SGGfKS1DBDXpIaZshLUsMMeUlqmCEvSQ0z5CWpYYa8JDXMkJekhhnyktQwQ16SGmbIS1LDDHlJapghL0kNM+QlqWGGvCQ1zJCXpIYZ8pLUMENekhpmyEtSwwx5SWpY7yGf5JQkVye5Jsmr+m5PknSXXkM+ySrgX4GnACcApyc5oc82JUl36bsn/1jgmqr6dlXdBrwPOLXnNiVJQ6t7vv5RwHUL3u8AfmPhAUk2AhuHb29JcnXPNa0k64Abpl3EcpB/ePa0S9Av8vO5x9lZ6hUesq8dfYf83iqvu72p2gxs7rmOFSnJXFXNTrsOaW/8fE5G38M1O4AHL3h/NPD9ntuUJA31HfJfAY5PcmySQ4FnAlt6blOSNNTrcE1V7U7yIuDjwCrgvKq6qs82dTcOg2k58/M5AamqxY+SJB2U/MWrJDXMkJekhhnyDVhs6Ygk90ry/uH+y5JsmHyVWomSnJfk+iRX7mN/krx1+Nm8IsmJk66xdYb8QW7EpSPOBH5SVccB/wi8cbJVagU7HzhlP/ufAhw/fGwEzp1ATSuKIX/wG2XpiFOBC4avLwKelGTJP7GTFlNVnwN+vJ9DTgXeWQOXAkckOXIy1a0MhvzBb29LRxy1r2OqajdwE/BLE6lO2r9RPr9aAkP+4Lfo0hEjHiNNg5/NnhnyB79Rlo74+TFJVgMPYP9/QkuT4tInPTPkD36jLB2xBdizDONpwKfLX8FpedgCnDGcZfObwE1V9YNpF9WSvlehVM/2tXREktcBc1W1BXgH8K4k1zDowT9zehVrJUlyIfA7wLokO4CzgTUAVfU24GPAU4FrgJ8Cz51Ope1yWQNJapjDNZLUMENekhpmyEtSwwx5SWqYIS9JDTPktaIluWWR/Rv2tYLifs45P8lpS6tMGg9DXpIaZshLQJL7JflUkq8m+VqShSt5rk5ywXC984uS3Gd4zklJLkmyNcnHXT1Ry5EhLw38H/CHVXUi8ETgzQuWY34YsLmqHgXcDLwgyRrgX4DTquok4Dzg9VOoW9ovlzWQBgK8IckTgDsZLHf7oOG+66rqC8PX7wZeAlwMPAL45PD/glWAa65o2THkpYE/BWaAk6rq9iTfAQ4b7rvn2h/F4D+Fq6rqcZMrUerO4Rpp4AHA9cOAfyLwkAX7jkmyJ8xPBz4PXA3M7NmeZE2Sh0+0YmkEhrw08B5gNskcg179Nxbs2w48O8kVwFrg3OGtFk8D3pjkv4FtwG9NuGZpUa5CKUkNsycvSQ0z5CWpYYa8JDXMkJekhhnyktQwQ16SGmbIS1LD/h94PKi3mFkJmQAAAABJRU5ErkJggg==\n",
      "text/plain": [
       "<Figure size 432x288 with 1 Axes>"
      ]
     },
     "metadata": {
      "needs_background": "light"
     },
     "output_type": "display_data"
    }
   ],
   "source": [
    "sns.barplot(x = 'label',y = 'cnt_ma_rech90', data = df) # similar to cnt_ma_rech30"
   ]
  },
  {
   "cell_type": "code",
   "execution_count": 25,
   "metadata": {},
   "outputs": [
    {
     "data": {
      "text/plain": [
       "<matplotlib.axes._subplots.AxesSubplot at 0x7f375365ef10>"
      ]
     },
     "execution_count": 25,
     "metadata": {},
     "output_type": "execute_result"
    },
    {
     "data": {
      "image/png": "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\n",
      "text/plain": [
       "<Figure size 432x288 with 1 Axes>"
      ]
     },
     "metadata": {
      "needs_background": "light"
     },
     "output_type": "display_data"
    }
   ],
   "source": [
    "sns.barplot(x = 'label', y = 'fr_ma_rech30', data = df) "
   ]
  },
  {
   "cell_type": "code",
   "execution_count": 26,
   "metadata": {},
   "outputs": [
    {
     "data": {
      "text/plain": [
       "<matplotlib.axes._subplots.AxesSubplot at 0x7f37535c5a10>"
      ]
     },
     "execution_count": 26,
     "metadata": {},
     "output_type": "execute_result"
    },
    {
     "data": {
      "image/png": "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\n",
      "text/plain": [
       "<Figure size 432x288 with 1 Axes>"
      ]
     },
     "metadata": {
      "needs_background": "light"
     },
     "output_type": "display_data"
    }
   ],
   "source": [
    "sns.barplot(x = 'label', y = 'fr_ma_rech90', data = df) # similar to fr_ma_rech30"
   ]
  },
  {
   "cell_type": "code",
   "execution_count": 27,
   "metadata": {},
   "outputs": [
    {
     "data": {
      "text/plain": [
       "<matplotlib.axes._subplots.AxesSubplot at 0x7f3753539050>"
      ]
     },
     "execution_count": 27,
     "metadata": {},
     "output_type": "execute_result"
    },
    {
     "data": {
      "image/png": "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\n",
      "text/plain": [
       "<Figure size 432x288 with 1 Axes>"
      ]
     },
     "metadata": {
      "needs_background": "light"
     },
     "output_type": "display_data"
    }
   ],
   "source": [
    "sns.barplot(x = 'label',y = 'sumamnt_ma_rech30', data = df) "
   ]
  },
  {
   "cell_type": "code",
   "execution_count": 28,
   "metadata": {},
   "outputs": [
    {
     "data": {
      "text/plain": [
       "<matplotlib.axes._subplots.AxesSubplot at 0x7f3753522310>"
      ]
     },
     "execution_count": 28,
     "metadata": {},
     "output_type": "execute_result"
    },
    {
     "data": {
      "image/png": "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\n",
      "text/plain": [
       "<Figure size 432x288 with 1 Axes>"
      ]
     },
     "metadata": {
      "needs_background": "light"
     },
     "output_type": "display_data"
    }
   ],
   "source": [
    "sns.barplot(x = 'label',y = 'sumamnt_ma_rech90', data = df) # similar to sumamnt_ma_rech30"
   ]
  },
  {
   "cell_type": "code",
   "execution_count": 29,
   "metadata": {},
   "outputs": [
    {
     "data": {
      "text/plain": [
       "<matplotlib.axes._subplots.AxesSubplot at 0x7f3753480e10>"
      ]
     },
     "execution_count": 29,
     "metadata": {},
     "output_type": "execute_result"
    },
    {
     "data": {
      "image/png": "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\n",
      "text/plain": [
       "<Figure size 432x288 with 1 Axes>"
      ]
     },
     "metadata": {
      "needs_background": "light"
     },
     "output_type": "display_data"
    }
   ],
   "source": [
    "sns.barplot(x = 'label',y = 'medianamnt_ma_rech30', data = df) "
   ]
  },
  {
   "cell_type": "code",
   "execution_count": 30,
   "metadata": {},
   "outputs": [
    {
     "data": {
      "text/plain": [
       "<matplotlib.axes._subplots.AxesSubplot at 0x7f3753466790>"
      ]
     },
     "execution_count": 30,
     "metadata": {},
     "output_type": "execute_result"
    },
    {
     "data": {
      "image/png": "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\n",
      "text/plain": [
       "<Figure size 432x288 with 1 Axes>"
      ]
     },
     "metadata": {
      "needs_background": "light"
     },
     "output_type": "display_data"
    }
   ],
   "source": [
    "sns.barplot(x = 'label',y = 'medianamnt_ma_rech90', data = df) # similar to medianamnt_ma_rech30"
   ]
  },
  {
   "cell_type": "code",
   "execution_count": 31,
   "metadata": {},
   "outputs": [
    {
     "data": {
      "text/plain": [
       "<matplotlib.axes._subplots.AxesSubplot at 0x7f37533cde50>"
      ]
     },
     "execution_count": 31,
     "metadata": {},
     "output_type": "execute_result"
    },
    {
     "data": {
      "image/png": "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\n",
      "text/plain": [
       "<Figure size 432x288 with 1 Axes>"
      ]
     },
     "metadata": {
      "needs_background": "light"
     },
     "output_type": "display_data"
    }
   ],
   "source": [
    "sns.barplot(x = 'label',y = 'medianmarechprebal90', data = df)"
   ]
  },
  {
   "cell_type": "code",
   "execution_count": 32,
   "metadata": {},
   "outputs": [
    {
     "data": {
      "text/plain": [
       "<matplotlib.axes._subplots.AxesSubplot at 0x7f375333c3d0>"
      ]
     },
     "execution_count": 32,
     "metadata": {},
     "output_type": "execute_result"
    },
    {
     "data": {
      "image/png": "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\n",
      "text/plain": [
       "<Figure size 432x288 with 1 Axes>"
      ]
     },
     "metadata": {
      "needs_background": "light"
     },
     "output_type": "display_data"
    }
   ],
   "source": [
    "sns.barplot(x = 'label', y = 'cnt_da_rech30', data = df) #Useless"
   ]
  },
  {
   "cell_type": "code",
   "execution_count": 33,
   "metadata": {},
   "outputs": [
    {
     "data": {
      "text/plain": [
       "<matplotlib.axes._subplots.AxesSubplot at 0x7f375330bd50>"
      ]
     },
     "execution_count": 33,
     "metadata": {},
     "output_type": "execute_result"
    },
    {
     "data": {
      "image/png": "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\n",
      "text/plain": [
       "<Figure size 432x288 with 1 Axes>"
      ]
     },
     "metadata": {
      "needs_background": "light"
     },
     "output_type": "display_data"
    }
   ],
   "source": [
    "sns.barplot(x = 'label', y = 'cnt_da_rech90', data = df) # similar to cnt_da_rech30"
   ]
  },
  {
   "cell_type": "code",
   "execution_count": 34,
   "metadata": {},
   "outputs": [
    {
     "data": {
      "text/plain": [
       "<matplotlib.axes._subplots.AxesSubplot at 0x7f375327ce90>"
      ]
     },
     "execution_count": 34,
     "metadata": {},
     "output_type": "execute_result"
    },
    {
     "data": {
      "image/png": "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\n",
      "text/plain": [
       "<Figure size 432x288 with 1 Axes>"
      ]
     },
     "metadata": {
      "needs_background": "light"
     },
     "output_type": "display_data"
    }
   ],
   "source": [
    "sns.barplot(x = 'label', y = 'amnt_loans30', data = df) "
   ]
  },
  {
   "cell_type": "code",
   "execution_count": 35,
   "metadata": {},
   "outputs": [
    {
     "data": {
      "text/plain": [
       "<matplotlib.axes._subplots.AxesSubplot at 0x7f3753266a90>"
      ]
     },
     "execution_count": 35,
     "metadata": {},
     "output_type": "execute_result"
    },
    {
     "data": {
      "image/png": "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\n",
      "text/plain": [
       "<Figure size 432x288 with 1 Axes>"
      ]
     },
     "metadata": {
      "needs_background": "light"
     },
     "output_type": "display_data"
    }
   ],
   "source": [
    "sns.barplot(x = 'label', y = 'amnt_loans90', data = df) #similar to amnt_loans30"
   ]
  },
  {
   "cell_type": "code",
   "execution_count": 36,
   "metadata": {},
   "outputs": [
    {
     "data": {
      "text/plain": [
       "<matplotlib.axes._subplots.AxesSubplot at 0x7f37531ba390>"
      ]
     },
     "execution_count": 36,
     "metadata": {},
     "output_type": "execute_result"
    },
    {
     "data": {
      "image/png": "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\n",
      "text/plain": [
       "<Figure size 432x288 with 1 Axes>"
      ]
     },
     "metadata": {
      "needs_background": "light"
     },
     "output_type": "display_data"
    }
   ],
   "source": [
    "sns.barplot(x = 'label', y = 'maxamnt_loans30', data = df)"
   ]
  },
  {
   "cell_type": "code",
   "execution_count": 37,
   "metadata": {},
   "outputs": [
    {
     "data": {
      "text/plain": [
       "<matplotlib.axes._subplots.AxesSubplot at 0x7f37531aa650>"
      ]
     },
     "execution_count": 37,
     "metadata": {},
     "output_type": "execute_result"
    },
    {
     "data": {
      "image/png": "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\n",
      "text/plain": [
       "<Figure size 432x288 with 1 Axes>"
      ]
     },
     "metadata": {
      "needs_background": "light"
     },
     "output_type": "display_data"
    }
   ],
   "source": [
    "sns.barplot(x = 'label', y = 'maxamnt_loans90', data = df) # similar to maxamnt_loans30"
   ]
  },
  {
   "cell_type": "code",
   "execution_count": 38,
   "metadata": {},
   "outputs": [
    {
     "data": {
      "text/plain": [
       "<matplotlib.axes._subplots.AxesSubplot at 0x7f37531178d0>"
      ]
     },
     "execution_count": 38,
     "metadata": {},
     "output_type": "execute_result"
    },
    {
     "data": {
      "image/png": "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\n",
      "text/plain": [
       "<Figure size 432x288 with 1 Axes>"
      ]
     },
     "metadata": {
      "needs_background": "light"
     },
     "output_type": "display_data"
    }
   ],
   "source": [
    "sns.barplot(x = 'label', y = 'medianamnt_loans30', data = df) "
   ]
  },
  {
   "cell_type": "code",
   "execution_count": 39,
   "metadata": {},
   "outputs": [
    {
     "data": {
      "text/plain": [
       "<matplotlib.axes._subplots.AxesSubplot at 0x7f3753196210>"
      ]
     },
     "execution_count": 39,
     "metadata": {},
     "output_type": "execute_result"
    },
    {
     "data": {
      "image/png": "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\n",
      "text/plain": [
       "<Figure size 432x288 with 1 Axes>"
      ]
     },
     "metadata": {
      "needs_background": "light"
     },
     "output_type": "display_data"
    }
   ],
   "source": [
    "sns.barplot(x = 'label', y = 'medianamnt_loans90', data = df) # similar to medianamnt_loans30"
   ]
  },
  {
   "cell_type": "code",
   "execution_count": 40,
   "metadata": {},
   "outputs": [
    {
     "data": {
      "text/plain": [
       "<matplotlib.axes._subplots.AxesSubplot at 0x7f3753040a90>"
      ]
     },
     "execution_count": 40,
     "metadata": {},
     "output_type": "execute_result"
    },
    {
     "data": {
      "image/png": "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\n",
      "text/plain": [
       "<Figure size 432x288 with 1 Axes>"
      ]
     },
     "metadata": {
      "needs_background": "light"
     },
     "output_type": "display_data"
    }
   ],
   "source": [
    "sns.barplot(x = 'label', y = 'payback30', data = df) "
   ]
  },
  {
   "cell_type": "code",
   "execution_count": 41,
   "metadata": {},
   "outputs": [
    {
     "data": {
      "text/plain": [
       "<matplotlib.axes._subplots.AxesSubplot at 0x7f37530202d0>"
      ]
     },
     "execution_count": 41,
     "metadata": {},
     "output_type": "execute_result"
    },
    {
     "data": {
      "image/png": "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\n",
      "text/plain": [
       "<Figure size 432x288 with 1 Axes>"
      ]
     },
     "metadata": {
      "needs_background": "light"
     },
     "output_type": "display_data"
    }
   ],
   "source": [
    "sns.barplot(x = 'label', y = 'payback90', data = df) # similar to payback30"
   ]
  },
  {
   "cell_type": "markdown",
   "metadata": {},
   "source": [
    "**Conclusion:** By looking at the plots we can conclude that the data distribution for 30 days and 90 days are almost similar. So, we can either drop 30 days data or 90 days data and proceed."
   ]
  },
  {
   "cell_type": "code",
   "execution_count": 42,
   "metadata": {},
   "outputs": [
    {
     "data": {
      "text/plain": [
       "Index(['label', 'aon', 'daily_decr30', 'daily_decr90', 'rental30', 'rental90',\n",
       "       'last_rech_date_ma', 'last_rech_date_da', 'last_rech_amt_ma',\n",
       "       'cnt_ma_rech30', 'fr_ma_rech30', 'sumamnt_ma_rech30',\n",
       "       'medianamnt_ma_rech30', 'cnt_ma_rech90', 'fr_ma_rech90',\n",
       "       'sumamnt_ma_rech90', 'medianamnt_ma_rech90', 'medianmarechprebal90',\n",
       "       'cnt_da_rech30', 'fr_da_rech30', 'cnt_da_rech90', 'fr_da_rech90',\n",
       "       'cnt_loans30', 'amnt_loans30', 'maxamnt_loans30', 'medianamnt_loans30',\n",
       "       'cnt_loans90', 'amnt_loans90', 'maxamnt_loans90', 'medianamnt_loans90',\n",
       "       'payback30', 'payback90'],\n",
       "      dtype='object')"
      ]
     },
     "execution_count": 42,
     "metadata": {},
     "output_type": "execute_result"
    }
   ],
   "source": [
    "df.columns"
   ]
  },
  {
   "cell_type": "code",
   "execution_count": 43,
   "metadata": {},
   "outputs": [],
   "source": [
    "# Dropping Columns\n",
    "df.drop(['daily_decr90','rental30', 'cnt_ma_rech30','fr_ma_rech30','sumamnt_ma_rech30','medianamnt_ma_rech30','cnt_da_rech30',\n",
    "         'fr_da_rech30','cnt_loans30','amnt_loans30','maxamnt_loans30','medianamnt_loans30','payback30'],\n",
    "       axis = 1, inplace = True)"
   ]
  },
  {
   "cell_type": "code",
   "execution_count": 44,
   "metadata": {},
   "outputs": [
    {
     "data": {
      "text/html": [
       "<div>\n",
       "<style scoped>\n",
       "    .dataframe tbody tr th:only-of-type {\n",
       "        vertical-align: middle;\n",
       "    }\n",
       "\n",
       "    .dataframe tbody tr th {\n",
       "        vertical-align: top;\n",
       "    }\n",
       "\n",
       "    .dataframe thead th {\n",
       "        text-align: right;\n",
       "    }\n",
       "</style>\n",
       "<table border=\"1\" class=\"dataframe\">\n",
       "  <thead>\n",
       "    <tr style=\"text-align: right;\">\n",
       "      <th></th>\n",
       "      <th>label</th>\n",
       "      <th>aon</th>\n",
       "      <th>daily_decr30</th>\n",
       "      <th>rental90</th>\n",
       "      <th>last_rech_date_ma</th>\n",
       "      <th>last_rech_date_da</th>\n",
       "      <th>last_rech_amt_ma</th>\n",
       "      <th>cnt_ma_rech90</th>\n",
       "      <th>fr_ma_rech90</th>\n",
       "      <th>sumamnt_ma_rech90</th>\n",
       "      <th>medianamnt_ma_rech90</th>\n",
       "      <th>medianmarechprebal90</th>\n",
       "      <th>cnt_da_rech90</th>\n",
       "      <th>fr_da_rech90</th>\n",
       "      <th>cnt_loans90</th>\n",
       "      <th>amnt_loans90</th>\n",
       "      <th>maxamnt_loans90</th>\n",
       "      <th>medianamnt_loans90</th>\n",
       "      <th>payback90</th>\n",
       "    </tr>\n",
       "    <tr>\n",
       "      <th>Index</th>\n",
       "      <th></th>\n",
       "      <th></th>\n",
       "      <th></th>\n",
       "      <th></th>\n",
       "      <th></th>\n",
       "      <th></th>\n",
       "      <th></th>\n",
       "      <th></th>\n",
       "      <th></th>\n",
       "      <th></th>\n",
       "      <th></th>\n",
       "      <th></th>\n",
       "      <th></th>\n",
       "      <th></th>\n",
       "      <th></th>\n",
       "      <th></th>\n",
       "      <th></th>\n",
       "      <th></th>\n",
       "      <th></th>\n",
       "    </tr>\n",
       "  </thead>\n",
       "  <tbody>\n",
       "    <tr>\n",
       "      <th>2</th>\n",
       "      <td>1.0</td>\n",
       "      <td>712.0</td>\n",
       "      <td>12122.000000</td>\n",
       "      <td>3691.26</td>\n",
       "      <td>20.0</td>\n",
       "      <td>0.0</td>\n",
       "      <td>5787.0</td>\n",
       "      <td>1.0</td>\n",
       "      <td>0.0</td>\n",
       "      <td>5787.0</td>\n",
       "      <td>5787.0</td>\n",
       "      <td>61.04</td>\n",
       "      <td>0.0</td>\n",
       "      <td>0.0</td>\n",
       "      <td>1.0</td>\n",
       "      <td>12.0</td>\n",
       "      <td>12.0</td>\n",
       "      <td>0.0</td>\n",
       "      <td>0.000000</td>\n",
       "    </tr>\n",
       "    <tr>\n",
       "      <th>3</th>\n",
       "      <td>1.0</td>\n",
       "      <td>535.0</td>\n",
       "      <td>1398.000000</td>\n",
       "      <td>900.13</td>\n",
       "      <td>3.0</td>\n",
       "      <td>0.0</td>\n",
       "      <td>1539.0</td>\n",
       "      <td>1.0</td>\n",
       "      <td>0.0</td>\n",
       "      <td>1539.0</td>\n",
       "      <td>1539.0</td>\n",
       "      <td>66.32</td>\n",
       "      <td>0.0</td>\n",
       "      <td>0.0</td>\n",
       "      <td>1.0</td>\n",
       "      <td>6.0</td>\n",
       "      <td>6.0</td>\n",
       "      <td>0.0</td>\n",
       "      <td>0.000000</td>\n",
       "    </tr>\n",
       "    <tr>\n",
       "      <th>4</th>\n",
       "      <td>1.0</td>\n",
       "      <td>241.0</td>\n",
       "      <td>21.228000</td>\n",
       "      <td>159.42</td>\n",
       "      <td>41.0</td>\n",
       "      <td>0.0</td>\n",
       "      <td>947.0</td>\n",
       "      <td>1.0</td>\n",
       "      <td>0.0</td>\n",
       "      <td>947.0</td>\n",
       "      <td>947.0</td>\n",
       "      <td>2.50</td>\n",
       "      <td>0.0</td>\n",
       "      <td>0.0</td>\n",
       "      <td>2.0</td>\n",
       "      <td>12.0</td>\n",
       "      <td>6.0</td>\n",
       "      <td>0.0</td>\n",
       "      <td>0.000000</td>\n",
       "    </tr>\n",
       "    <tr>\n",
       "      <th>5</th>\n",
       "      <td>1.0</td>\n",
       "      <td>947.0</td>\n",
       "      <td>150.619333</td>\n",
       "      <td>1098.90</td>\n",
       "      <td>4.0</td>\n",
       "      <td>0.0</td>\n",
       "      <td>2309.0</td>\n",
       "      <td>8.0</td>\n",
       "      <td>2.0</td>\n",
       "      <td>23496.0</td>\n",
       "      <td>2888.0</td>\n",
       "      <td>35.00</td>\n",
       "      <td>0.0</td>\n",
       "      <td>0.0</td>\n",
       "      <td>7.0</td>\n",
       "      <td>42.0</td>\n",
       "      <td>6.0</td>\n",
       "      <td>0.0</td>\n",
       "      <td>2.333333</td>\n",
       "    </tr>\n",
       "    <tr>\n",
       "      <th>6</th>\n",
       "      <td>1.0</td>\n",
       "      <td>568.0</td>\n",
       "      <td>2257.362667</td>\n",
       "      <td>380.13</td>\n",
       "      <td>2.0</td>\n",
       "      <td>0.0</td>\n",
       "      <td>1539.0</td>\n",
       "      <td>8.0</td>\n",
       "      <td>0.0</td>\n",
       "      <td>11744.0</td>\n",
       "      <td>1539.0</td>\n",
       "      <td>55.90</td>\n",
       "      <td>0.0</td>\n",
       "      <td>0.0</td>\n",
       "      <td>3.0</td>\n",
       "      <td>18.0</td>\n",
       "      <td>6.0</td>\n",
       "      <td>0.0</td>\n",
       "      <td>8.333333</td>\n",
       "    </tr>\n",
       "  </tbody>\n",
       "</table>\n",
       "</div>"
      ],
      "text/plain": [
       "       label    aon  daily_decr30  rental90  last_rech_date_ma  \\\n",
       "Index                                                            \n",
       "2        1.0  712.0  12122.000000   3691.26               20.0   \n",
       "3        1.0  535.0   1398.000000    900.13                3.0   \n",
       "4        1.0  241.0     21.228000    159.42               41.0   \n",
       "5        1.0  947.0    150.619333   1098.90                4.0   \n",
       "6        1.0  568.0   2257.362667    380.13                2.0   \n",
       "\n",
       "       last_rech_date_da  last_rech_amt_ma  cnt_ma_rech90  fr_ma_rech90  \\\n",
       "Index                                                                     \n",
       "2                    0.0            5787.0            1.0           0.0   \n",
       "3                    0.0            1539.0            1.0           0.0   \n",
       "4                    0.0             947.0            1.0           0.0   \n",
       "5                    0.0            2309.0            8.0           2.0   \n",
       "6                    0.0            1539.0            8.0           0.0   \n",
       "\n",
       "       sumamnt_ma_rech90  medianamnt_ma_rech90  medianmarechprebal90  \\\n",
       "Index                                                                  \n",
       "2                 5787.0                5787.0                 61.04   \n",
       "3                 1539.0                1539.0                 66.32   \n",
       "4                  947.0                 947.0                  2.50   \n",
       "5                23496.0                2888.0                 35.00   \n",
       "6                11744.0                1539.0                 55.90   \n",
       "\n",
       "       cnt_da_rech90  fr_da_rech90  cnt_loans90  amnt_loans90  \\\n",
       "Index                                                           \n",
       "2                0.0           0.0          1.0          12.0   \n",
       "3                0.0           0.0          1.0           6.0   \n",
       "4                0.0           0.0          2.0          12.0   \n",
       "5                0.0           0.0          7.0          42.0   \n",
       "6                0.0           0.0          3.0          18.0   \n",
       "\n",
       "       maxamnt_loans90  medianamnt_loans90  payback90  \n",
       "Index                                                  \n",
       "2                 12.0                 0.0   0.000000  \n",
       "3                  6.0                 0.0   0.000000  \n",
       "4                  6.0                 0.0   0.000000  \n",
       "5                  6.0                 0.0   2.333333  \n",
       "6                  6.0                 0.0   8.333333  "
      ]
     },
     "execution_count": 44,
     "metadata": {},
     "output_type": "execute_result"
    }
   ],
   "source": [
    "df.head()"
   ]
  },
  {
   "cell_type": "code",
   "execution_count": 45,
   "metadata": {},
   "outputs": [
    {
     "data": {
      "text/plain": [
       "(329451, 19)"
      ]
     },
     "execution_count": 45,
     "metadata": {},
     "output_type": "execute_result"
    }
   ],
   "source": [
    "df.shape"
   ]
  },
  {
   "cell_type": "code",
   "execution_count": 46,
   "metadata": {},
   "outputs": [
    {
     "name": "stdout",
     "output_type": "stream",
     "text": [
      "Index\n",
      "2         False\n",
      "3          True\n",
      "4          True\n",
      "5          True\n",
      "6          True\n",
      "          ...  \n",
      "189995    False\n",
      "189996     True\n",
      "189997     True\n",
      "190000     True\n",
      "190001    False\n",
      "Name: maxamnt_loans90, Length: 329451, dtype: bool\n"
     ]
    }
   ],
   "source": [
    "# For categorical data\n",
    "print(df['maxamnt_loans90'] == 6)"
   ]
  },
  {
   "cell_type": "code",
   "execution_count": 47,
   "metadata": {},
   "outputs": [
    {
     "name": "stdout",
     "output_type": "stream",
     "text": [
      "Index\n",
      "3         1.0\n",
      "4         1.0\n",
      "5         1.0\n",
      "6         1.0\n",
      "7         1.0\n",
      "         ... \n",
      "189992    1.0\n",
      "189994    1.0\n",
      "189996    0.0\n",
      "189997    0.0\n",
      "190000    0.0\n",
      "Name: label, Length: 288360, dtype: float64\n",
      "1.0    248266\n",
      "0.0     40094\n",
      "Name: label, dtype: int64\n"
     ]
    }
   ],
   "source": [
    "print(df['label'][df['maxamnt_loans90']==6])\n",
    "print(df['label'][df['maxamnt_loans90']==6].value_counts())"
   ]
  },
  {
   "cell_type": "code",
   "execution_count": 48,
   "metadata": {},
   "outputs": [
    {
     "name": "stdout",
     "output_type": "stream",
     "text": [
      "1.0    248266\n",
      "0.0     40094\n",
      "Name: label, dtype: int64\n",
      "1.0    0.860959\n",
      "0.0    0.139041\n",
      "Name: label, dtype: float64\n"
     ]
    }
   ],
   "source": [
    "print(df['label'][df['maxamnt_loans90']==6].value_counts())\n",
    "print(df['label'][df['maxamnt_loans90']==6].value_counts(normalize = True))"
   ]
  },
  {
   "cell_type": "code",
   "execution_count": 49,
   "metadata": {},
   "outputs": [
    {
     "name": "stdout",
     "output_type": "stream",
     "text": [
      "Percentage of users(took loan of Rs.6), paid their loan:  86.09585240671383 %\n",
      "Percentage of users(took loan of Rs.12) paid their loan:  96.0007347731388 %\n"
     ]
    }
   ],
   "source": [
    "print('Percentage of users(took loan of Rs.6), paid their loan: ',df['label'][df['maxamnt_loans90']==6].value_counts(normalize = True)[1]*100,'%')\n",
    "print('Percentage of users(took loan of Rs.12) paid their loan: ',df['label'][df['maxamnt_loans90']==12].value_counts(normalize = True)[1]*100,'%')"
   ]
  },
  {
   "cell_type": "code",
   "execution_count": 50,
   "metadata": {},
   "outputs": [
    {
     "data": {
      "text/html": [
       "<div>\n",
       "<style scoped>\n",
       "    .dataframe tbody tr th:only-of-type {\n",
       "        vertical-align: middle;\n",
       "    }\n",
       "\n",
       "    .dataframe tbody tr th {\n",
       "        vertical-align: top;\n",
       "    }\n",
       "\n",
       "    .dataframe thead th {\n",
       "        text-align: right;\n",
       "    }\n",
       "</style>\n",
       "<table border=\"1\" class=\"dataframe\">\n",
       "  <thead>\n",
       "    <tr style=\"text-align: right;\">\n",
       "      <th></th>\n",
       "      <th>label</th>\n",
       "      <th>aon</th>\n",
       "      <th>daily_decr30</th>\n",
       "      <th>rental90</th>\n",
       "      <th>last_rech_date_ma</th>\n",
       "      <th>last_rech_date_da</th>\n",
       "      <th>last_rech_amt_ma</th>\n",
       "      <th>cnt_ma_rech90</th>\n",
       "      <th>fr_ma_rech90</th>\n",
       "      <th>sumamnt_ma_rech90</th>\n",
       "      <th>medianamnt_ma_rech90</th>\n",
       "      <th>medianmarechprebal90</th>\n",
       "      <th>cnt_da_rech90</th>\n",
       "      <th>fr_da_rech90</th>\n",
       "      <th>cnt_loans90</th>\n",
       "      <th>amnt_loans90</th>\n",
       "      <th>maxamnt_loans90</th>\n",
       "      <th>medianamnt_loans90</th>\n",
       "      <th>payback90</th>\n",
       "    </tr>\n",
       "  </thead>\n",
       "  <tbody>\n",
       "    <tr>\n",
       "      <th>count</th>\n",
       "      <td>329451.000000</td>\n",
       "      <td>329451.000000</td>\n",
       "      <td>329451.000000</td>\n",
       "      <td>329451.000000</td>\n",
       "      <td>329451.000000</td>\n",
       "      <td>329451.000000</td>\n",
       "      <td>329451.000000</td>\n",
       "      <td>329451.000000</td>\n",
       "      <td>329451.000000</td>\n",
       "      <td>329451.000000</td>\n",
       "      <td>329451.000000</td>\n",
       "      <td>329451.000000</td>\n",
       "      <td>329451.000000</td>\n",
       "      <td>329451.000000</td>\n",
       "      <td>329451.000000</td>\n",
       "      <td>329451.000000</td>\n",
       "      <td>329451.000000</td>\n",
       "      <td>329451.000000</td>\n",
       "      <td>329451.000000</td>\n",
       "    </tr>\n",
       "    <tr>\n",
       "      <th>mean</th>\n",
       "      <td>0.873675</td>\n",
       "      <td>651.000835</td>\n",
       "      <td>4618.771961</td>\n",
       "      <td>2980.312087</td>\n",
       "      <td>5.955617</td>\n",
       "      <td>0.841212</td>\n",
       "      <td>1975.261584</td>\n",
       "      <td>6.024765</td>\n",
       "      <td>7.526348</td>\n",
       "      <td>11133.950988</td>\n",
       "      <td>1778.721819</td>\n",
       "      <td>70.026801</td>\n",
       "      <td>0.022028</td>\n",
       "      <td>0.000358</td>\n",
       "      <td>3.588807</td>\n",
       "      <td>22.766345</td>\n",
       "      <td>6.639664</td>\n",
       "      <td>0.042900</td>\n",
       "      <td>3.150558</td>\n",
       "    </tr>\n",
       "    <tr>\n",
       "      <th>std</th>\n",
       "      <td>0.332216</td>\n",
       "      <td>499.756713</td>\n",
       "      <td>7060.672251</td>\n",
       "      <td>4398.136627</td>\n",
       "      <td>9.491131</td>\n",
       "      <td>6.812485</td>\n",
       "      <td>2152.203146</td>\n",
       "      <td>6.319953</td>\n",
       "      <td>12.038613</td>\n",
       "      <td>12669.753693</td>\n",
       "      <td>1892.465961</td>\n",
       "      <td>107.621555</td>\n",
       "      <td>0.154589</td>\n",
       "      <td>0.029047</td>\n",
       "      <td>3.675946</td>\n",
       "      <td>23.653125</td>\n",
       "      <td>2.020140</td>\n",
       "      <td>0.185741</td>\n",
       "      <td>4.872537</td>\n",
       "    </tr>\n",
       "    <tr>\n",
       "      <th>min</th>\n",
       "      <td>0.000000</td>\n",
       "      <td>-48.000000</td>\n",
       "      <td>-46.215000</td>\n",
       "      <td>-7786.750000</td>\n",
       "      <td>-29.000000</td>\n",
       "      <td>-29.000000</td>\n",
       "      <td>0.000000</td>\n",
       "      <td>0.000000</td>\n",
       "      <td>0.000000</td>\n",
       "      <td>0.000000</td>\n",
       "      <td>0.000000</td>\n",
       "      <td>-200.000000</td>\n",
       "      <td>0.000000</td>\n",
       "      <td>0.000000</td>\n",
       "      <td>0.000000</td>\n",
       "      <td>0.000000</td>\n",
       "      <td>0.000000</td>\n",
       "      <td>0.000000</td>\n",
       "      <td>0.000000</td>\n",
       "    </tr>\n",
       "    <tr>\n",
       "      <th>25%</th>\n",
       "      <td>1.000000</td>\n",
       "      <td>240.000000</td>\n",
       "      <td>37.436833</td>\n",
       "      <td>283.730000</td>\n",
       "      <td>1.000000</td>\n",
       "      <td>0.000000</td>\n",
       "      <td>770.000000</td>\n",
       "      <td>2.000000</td>\n",
       "      <td>0.000000</td>\n",
       "      <td>2312.000000</td>\n",
       "      <td>773.000000</td>\n",
       "      <td>14.000000</td>\n",
       "      <td>0.000000</td>\n",
       "      <td>0.000000</td>\n",
       "      <td>1.000000</td>\n",
       "      <td>6.000000</td>\n",
       "      <td>6.000000</td>\n",
       "      <td>0.000000</td>\n",
       "      <td>0.000000</td>\n",
       "    </tr>\n",
       "    <tr>\n",
       "      <th>50%</th>\n",
       "      <td>1.000000</td>\n",
       "      <td>515.000000</td>\n",
       "      <td>1200.000000</td>\n",
       "      <td>1225.920000</td>\n",
       "      <td>3.000000</td>\n",
       "      <td>0.000000</td>\n",
       "      <td>1539.000000</td>\n",
       "      <td>4.000000</td>\n",
       "      <td>2.000000</td>\n",
       "      <td>7029.000000</td>\n",
       "      <td>1539.000000</td>\n",
       "      <td>34.900000</td>\n",
       "      <td>0.000000</td>\n",
       "      <td>0.000000</td>\n",
       "      <td>2.000000</td>\n",
       "      <td>12.000000</td>\n",
       "      <td>6.000000</td>\n",
       "      <td>0.000000</td>\n",
       "      <td>1.500000</td>\n",
       "    </tr>\n",
       "    <tr>\n",
       "      <th>75%</th>\n",
       "      <td>1.000000</td>\n",
       "      <td>953.000000</td>\n",
       "      <td>6613.762000</td>\n",
       "      <td>3791.560000</td>\n",
       "      <td>7.000000</td>\n",
       "      <td>0.000000</td>\n",
       "      <td>2309.000000</td>\n",
       "      <td>8.000000</td>\n",
       "      <td>8.000000</td>\n",
       "      <td>15414.000000</td>\n",
       "      <td>1731.500000</td>\n",
       "      <td>76.800000</td>\n",
       "      <td>0.000000</td>\n",
       "      <td>0.000000</td>\n",
       "      <td>5.000000</td>\n",
       "      <td>30.000000</td>\n",
       "      <td>6.000000</td>\n",
       "      <td>0.000000</td>\n",
       "      <td>4.333333</td>\n",
       "    </tr>\n",
       "    <tr>\n",
       "      <th>max</th>\n",
       "      <td>1.000000</td>\n",
       "      <td>2883.000000</td>\n",
       "      <td>42763.317000</td>\n",
       "      <td>27679.870000</td>\n",
       "      <td>113.000000</td>\n",
       "      <td>115.000000</td>\n",
       "      <td>16000.000000</td>\n",
       "      <td>51.000000</td>\n",
       "      <td>63.000000</td>\n",
       "      <td>98644.000000</td>\n",
       "      <td>14250.000000</td>\n",
       "      <td>778.210000</td>\n",
       "      <td>2.000000</td>\n",
       "      <td>3.000000</td>\n",
       "      <td>31.000000</td>\n",
       "      <td>186.000000</td>\n",
       "      <td>12.000000</td>\n",
       "      <td>1.500000</td>\n",
       "      <td>35.000000</td>\n",
       "    </tr>\n",
       "  </tbody>\n",
       "</table>\n",
       "</div>"
      ],
      "text/plain": [
       "               label            aon   daily_decr30       rental90  \\\n",
       "count  329451.000000  329451.000000  329451.000000  329451.000000   \n",
       "mean        0.873675     651.000835    4618.771961    2980.312087   \n",
       "std         0.332216     499.756713    7060.672251    4398.136627   \n",
       "min         0.000000     -48.000000     -46.215000   -7786.750000   \n",
       "25%         1.000000     240.000000      37.436833     283.730000   \n",
       "50%         1.000000     515.000000    1200.000000    1225.920000   \n",
       "75%         1.000000     953.000000    6613.762000    3791.560000   \n",
       "max         1.000000    2883.000000   42763.317000   27679.870000   \n",
       "\n",
       "       last_rech_date_ma  last_rech_date_da  last_rech_amt_ma  cnt_ma_rech90  \\\n",
       "count      329451.000000      329451.000000     329451.000000  329451.000000   \n",
       "mean            5.955617           0.841212       1975.261584       6.024765   \n",
       "std             9.491131           6.812485       2152.203146       6.319953   \n",
       "min           -29.000000         -29.000000          0.000000       0.000000   \n",
       "25%             1.000000           0.000000        770.000000       2.000000   \n",
       "50%             3.000000           0.000000       1539.000000       4.000000   \n",
       "75%             7.000000           0.000000       2309.000000       8.000000   \n",
       "max           113.000000         115.000000      16000.000000      51.000000   \n",
       "\n",
       "        fr_ma_rech90  sumamnt_ma_rech90  medianamnt_ma_rech90  \\\n",
       "count  329451.000000      329451.000000         329451.000000   \n",
       "mean        7.526348       11133.950988           1778.721819   \n",
       "std        12.038613       12669.753693           1892.465961   \n",
       "min         0.000000           0.000000              0.000000   \n",
       "25%         0.000000        2312.000000            773.000000   \n",
       "50%         2.000000        7029.000000           1539.000000   \n",
       "75%         8.000000       15414.000000           1731.500000   \n",
       "max        63.000000       98644.000000          14250.000000   \n",
       "\n",
       "       medianmarechprebal90  cnt_da_rech90   fr_da_rech90    cnt_loans90  \\\n",
       "count         329451.000000  329451.000000  329451.000000  329451.000000   \n",
       "mean              70.026801       0.022028       0.000358       3.588807   \n",
       "std              107.621555       0.154589       0.029047       3.675946   \n",
       "min             -200.000000       0.000000       0.000000       0.000000   \n",
       "25%               14.000000       0.000000       0.000000       1.000000   \n",
       "50%               34.900000       0.000000       0.000000       2.000000   \n",
       "75%               76.800000       0.000000       0.000000       5.000000   \n",
       "max              778.210000       2.000000       3.000000      31.000000   \n",
       "\n",
       "        amnt_loans90  maxamnt_loans90  medianamnt_loans90      payback90  \n",
       "count  329451.000000    329451.000000       329451.000000  329451.000000  \n",
       "mean       22.766345         6.639664            0.042900       3.150558  \n",
       "std        23.653125         2.020140            0.185741       4.872537  \n",
       "min         0.000000         0.000000            0.000000       0.000000  \n",
       "25%         6.000000         6.000000            0.000000       0.000000  \n",
       "50%        12.000000         6.000000            0.000000       1.500000  \n",
       "75%        30.000000         6.000000            0.000000       4.333333  \n",
       "max       186.000000        12.000000            1.500000      35.000000  "
      ]
     },
     "execution_count": 50,
     "metadata": {},
     "output_type": "execute_result"
    }
   ],
   "source": [
    "df.describe(include = 'all')"
   ]
  },
  {
   "cell_type": "markdown",
   "metadata": {},
   "source": [
    "- From above description: We have negative values in our dataset? but how is it possible, because according to our dataset nothing can be negative. Therefore, all those values are also trash which we will clean now."
   ]
  },
  {
   "cell_type": "code",
   "execution_count": 51,
   "metadata": {},
   "outputs": [],
   "source": [
    "# Replacing negative values with NaN\n",
    "for i in df:\n",
    "    df[i] = df[i].apply(lambda x: np.nan if x<0 else x)"
   ]
  },
  {
   "cell_type": "code",
   "execution_count": 52,
   "metadata": {},
   "outputs": [],
   "source": [
    "# Removing NaN values\n",
    "df.dropna(axis = 0,how = 'any',inplace = True)"
   ]
  },
  {
   "cell_type": "code",
   "execution_count": 53,
   "metadata": {},
   "outputs": [
    {
     "data": {
      "text/html": [
       "<div>\n",
       "<style scoped>\n",
       "    .dataframe tbody tr th:only-of-type {\n",
       "        vertical-align: middle;\n",
       "    }\n",
       "\n",
       "    .dataframe tbody tr th {\n",
       "        vertical-align: top;\n",
       "    }\n",
       "\n",
       "    .dataframe thead th {\n",
       "        text-align: right;\n",
       "    }\n",
       "</style>\n",
       "<table border=\"1\" class=\"dataframe\">\n",
       "  <thead>\n",
       "    <tr style=\"text-align: right;\">\n",
       "      <th></th>\n",
       "      <th>label</th>\n",
       "      <th>aon</th>\n",
       "      <th>daily_decr30</th>\n",
       "      <th>rental90</th>\n",
       "      <th>last_rech_date_ma</th>\n",
       "      <th>last_rech_date_da</th>\n",
       "      <th>last_rech_amt_ma</th>\n",
       "      <th>cnt_ma_rech90</th>\n",
       "      <th>fr_ma_rech90</th>\n",
       "      <th>sumamnt_ma_rech90</th>\n",
       "      <th>medianamnt_ma_rech90</th>\n",
       "      <th>medianmarechprebal90</th>\n",
       "      <th>cnt_da_rech90</th>\n",
       "      <th>fr_da_rech90</th>\n",
       "      <th>cnt_loans90</th>\n",
       "      <th>amnt_loans90</th>\n",
       "      <th>maxamnt_loans90</th>\n",
       "      <th>medianamnt_loans90</th>\n",
       "      <th>payback90</th>\n",
       "    </tr>\n",
       "  </thead>\n",
       "  <tbody>\n",
       "    <tr>\n",
       "      <th>count</th>\n",
       "      <td>310017.000000</td>\n",
       "      <td>310017.000000</td>\n",
       "      <td>310017.000000</td>\n",
       "      <td>310017.000000</td>\n",
       "      <td>310017.000000</td>\n",
       "      <td>310017.000000</td>\n",
       "      <td>310017.000000</td>\n",
       "      <td>310017.000000</td>\n",
       "      <td>310017.000000</td>\n",
       "      <td>310017.000000</td>\n",
       "      <td>310017.000000</td>\n",
       "      <td>310017.000000</td>\n",
       "      <td>310017.000000</td>\n",
       "      <td>310017.000000</td>\n",
       "      <td>310017.000000</td>\n",
       "      <td>310017.000000</td>\n",
       "      <td>310017.000000</td>\n",
       "      <td>310017.00000</td>\n",
       "      <td>310017.000000</td>\n",
       "    </tr>\n",
       "    <tr>\n",
       "      <th>mean</th>\n",
       "      <td>0.880994</td>\n",
       "      <td>652.821087</td>\n",
       "      <td>4832.962227</td>\n",
       "      <td>3133.023055</td>\n",
       "      <td>6.099066</td>\n",
       "      <td>0.875571</td>\n",
       "      <td>1931.107162</td>\n",
       "      <td>6.222491</td>\n",
       "      <td>7.499656</td>\n",
       "      <td>11301.425222</td>\n",
       "      <td>1733.592205</td>\n",
       "      <td>71.930203</td>\n",
       "      <td>0.022583</td>\n",
       "      <td>0.000381</td>\n",
       "      <td>3.690807</td>\n",
       "      <td>23.439377</td>\n",
       "      <td>6.667841</td>\n",
       "      <td>0.04237</td>\n",
       "      <td>3.244834</td>\n",
       "    </tr>\n",
       "    <tr>\n",
       "      <th>std</th>\n",
       "      <td>0.323797</td>\n",
       "      <td>496.041319</td>\n",
       "      <td>7177.147046</td>\n",
       "      <td>4453.899243</td>\n",
       "      <td>9.110418</td>\n",
       "      <td>6.957336</td>\n",
       "      <td>2064.736320</td>\n",
       "      <td>6.404492</td>\n",
       "      <td>11.934443</td>\n",
       "      <td>12711.228177</td>\n",
       "      <td>1798.602418</td>\n",
       "      <td>105.321513</td>\n",
       "      <td>0.156478</td>\n",
       "      <td>0.029943</td>\n",
       "      <td>3.735020</td>\n",
       "      <td>24.039823</td>\n",
       "      <td>2.059271</td>\n",
       "      <td>0.18434</td>\n",
       "      <td>4.913048</td>\n",
       "    </tr>\n",
       "    <tr>\n",
       "      <th>min</th>\n",
       "      <td>0.000000</td>\n",
       "      <td>1.000000</td>\n",
       "      <td>0.000000</td>\n",
       "      <td>0.000000</td>\n",
       "      <td>0.000000</td>\n",
       "      <td>0.000000</td>\n",
       "      <td>0.000000</td>\n",
       "      <td>0.000000</td>\n",
       "      <td>0.000000</td>\n",
       "      <td>0.000000</td>\n",
       "      <td>0.000000</td>\n",
       "      <td>0.000000</td>\n",
       "      <td>0.000000</td>\n",
       "      <td>0.000000</td>\n",
       "      <td>0.000000</td>\n",
       "      <td>0.000000</td>\n",
       "      <td>0.000000</td>\n",
       "      <td>0.00000</td>\n",
       "      <td>0.000000</td>\n",
       "    </tr>\n",
       "    <tr>\n",
       "      <th>25%</th>\n",
       "      <td>1.000000</td>\n",
       "      <td>244.000000</td>\n",
       "      <td>41.310000</td>\n",
       "      <td>349.230000</td>\n",
       "      <td>1.000000</td>\n",
       "      <td>0.000000</td>\n",
       "      <td>770.000000</td>\n",
       "      <td>2.000000</td>\n",
       "      <td>0.000000</td>\n",
       "      <td>2319.000000</td>\n",
       "      <td>773.000000</td>\n",
       "      <td>15.500000</td>\n",
       "      <td>0.000000</td>\n",
       "      <td>0.000000</td>\n",
       "      <td>1.000000</td>\n",
       "      <td>6.000000</td>\n",
       "      <td>6.000000</td>\n",
       "      <td>0.00000</td>\n",
       "      <td>0.000000</td>\n",
       "    </tr>\n",
       "    <tr>\n",
       "      <th>50%</th>\n",
       "      <td>1.000000</td>\n",
       "      <td>516.000000</td>\n",
       "      <td>1480.254000</td>\n",
       "      <td>1349.100000</td>\n",
       "      <td>3.000000</td>\n",
       "      <td>0.000000</td>\n",
       "      <td>1539.000000</td>\n",
       "      <td>4.000000</td>\n",
       "      <td>2.000000</td>\n",
       "      <td>7134.000000</td>\n",
       "      <td>1539.000000</td>\n",
       "      <td>36.250000</td>\n",
       "      <td>0.000000</td>\n",
       "      <td>0.000000</td>\n",
       "      <td>2.000000</td>\n",
       "      <td>12.000000</td>\n",
       "      <td>6.000000</td>\n",
       "      <td>0.00000</td>\n",
       "      <td>1.750000</td>\n",
       "    </tr>\n",
       "    <tr>\n",
       "      <th>75%</th>\n",
       "      <td>1.000000</td>\n",
       "      <td>951.000000</td>\n",
       "      <td>7002.780000</td>\n",
       "      <td>3999.100000</td>\n",
       "      <td>7.000000</td>\n",
       "      <td>0.000000</td>\n",
       "      <td>2309.000000</td>\n",
       "      <td>9.000000</td>\n",
       "      <td>8.000000</td>\n",
       "      <td>15577.000000</td>\n",
       "      <td>1633.500000</td>\n",
       "      <td>77.450000</td>\n",
       "      <td>0.000000</td>\n",
       "      <td>0.000000</td>\n",
       "      <td>5.000000</td>\n",
       "      <td>30.000000</td>\n",
       "      <td>6.000000</td>\n",
       "      <td>0.00000</td>\n",
       "      <td>4.428571</td>\n",
       "    </tr>\n",
       "    <tr>\n",
       "      <th>max</th>\n",
       "      <td>1.000000</td>\n",
       "      <td>2883.000000</td>\n",
       "      <td>42763.317000</td>\n",
       "      <td>27679.870000</td>\n",
       "      <td>113.000000</td>\n",
       "      <td>115.000000</td>\n",
       "      <td>16000.000000</td>\n",
       "      <td>51.000000</td>\n",
       "      <td>63.000000</td>\n",
       "      <td>98644.000000</td>\n",
       "      <td>14250.000000</td>\n",
       "      <td>778.210000</td>\n",
       "      <td>2.000000</td>\n",
       "      <td>3.000000</td>\n",
       "      <td>31.000000</td>\n",
       "      <td>186.000000</td>\n",
       "      <td>12.000000</td>\n",
       "      <td>1.50000</td>\n",
       "      <td>35.000000</td>\n",
       "    </tr>\n",
       "  </tbody>\n",
       "</table>\n",
       "</div>"
      ],
      "text/plain": [
       "               label            aon   daily_decr30       rental90  \\\n",
       "count  310017.000000  310017.000000  310017.000000  310017.000000   \n",
       "mean        0.880994     652.821087    4832.962227    3133.023055   \n",
       "std         0.323797     496.041319    7177.147046    4453.899243   \n",
       "min         0.000000       1.000000       0.000000       0.000000   \n",
       "25%         1.000000     244.000000      41.310000     349.230000   \n",
       "50%         1.000000     516.000000    1480.254000    1349.100000   \n",
       "75%         1.000000     951.000000    7002.780000    3999.100000   \n",
       "max         1.000000    2883.000000   42763.317000   27679.870000   \n",
       "\n",
       "       last_rech_date_ma  last_rech_date_da  last_rech_amt_ma  cnt_ma_rech90  \\\n",
       "count      310017.000000      310017.000000     310017.000000  310017.000000   \n",
       "mean            6.099066           0.875571       1931.107162       6.222491   \n",
       "std             9.110418           6.957336       2064.736320       6.404492   \n",
       "min             0.000000           0.000000          0.000000       0.000000   \n",
       "25%             1.000000           0.000000        770.000000       2.000000   \n",
       "50%             3.000000           0.000000       1539.000000       4.000000   \n",
       "75%             7.000000           0.000000       2309.000000       9.000000   \n",
       "max           113.000000         115.000000      16000.000000      51.000000   \n",
       "\n",
       "        fr_ma_rech90  sumamnt_ma_rech90  medianamnt_ma_rech90  \\\n",
       "count  310017.000000      310017.000000         310017.000000   \n",
       "mean        7.499656       11301.425222           1733.592205   \n",
       "std        11.934443       12711.228177           1798.602418   \n",
       "min         0.000000           0.000000              0.000000   \n",
       "25%         0.000000        2319.000000            773.000000   \n",
       "50%         2.000000        7134.000000           1539.000000   \n",
       "75%         8.000000       15577.000000           1633.500000   \n",
       "max        63.000000       98644.000000          14250.000000   \n",
       "\n",
       "       medianmarechprebal90  cnt_da_rech90   fr_da_rech90    cnt_loans90  \\\n",
       "count         310017.000000  310017.000000  310017.000000  310017.000000   \n",
       "mean              71.930203       0.022583       0.000381       3.690807   \n",
       "std              105.321513       0.156478       0.029943       3.735020   \n",
       "min                0.000000       0.000000       0.000000       0.000000   \n",
       "25%               15.500000       0.000000       0.000000       1.000000   \n",
       "50%               36.250000       0.000000       0.000000       2.000000   \n",
       "75%               77.450000       0.000000       0.000000       5.000000   \n",
       "max              778.210000       2.000000       3.000000      31.000000   \n",
       "\n",
       "        amnt_loans90  maxamnt_loans90  medianamnt_loans90      payback90  \n",
       "count  310017.000000    310017.000000        310017.00000  310017.000000  \n",
       "mean       23.439377         6.667841             0.04237       3.244834  \n",
       "std        24.039823         2.059271             0.18434       4.913048  \n",
       "min         0.000000         0.000000             0.00000       0.000000  \n",
       "25%         6.000000         6.000000             0.00000       0.000000  \n",
       "50%        12.000000         6.000000             0.00000       1.750000  \n",
       "75%        30.000000         6.000000             0.00000       4.428571  \n",
       "max       186.000000        12.000000             1.50000      35.000000  "
      ]
     },
     "execution_count": 53,
     "metadata": {},
     "output_type": "execute_result"
    }
   ],
   "source": [
    "df.describe(include='all')"
   ]
  },
  {
   "cell_type": "markdown",
   "metadata": {},
   "source": [
    "> Cleaning of data is done. Now, we will start convert these Continuous values to categorical values. So that we can use it in our Machine Learning models"
   ]
  },
  {
   "cell_type": "code",
   "execution_count": 54,
   "metadata": {},
   "outputs": [],
   "source": [
    "# Let us start working\n",
    "\n",
    "bins = [-1,50,250,400,650,700,850,np.inf]\n",
    "labels = [1, 2, 3, 4, 5, 6, 7]\n",
    "df['AgeOnNetwork'] = pd.cut(df['aon'],bins, labels = labels)"
   ]
  },
  {
   "cell_type": "code",
   "execution_count": 55,
   "metadata": {
    "scrolled": true
   },
   "outputs": [
    {
     "data": {
      "text/plain": [
       "<matplotlib.axes._subplots.AxesSubplot at 0x7f3752f94450>"
      ]
     },
     "execution_count": 55,
     "metadata": {},
     "output_type": "execute_result"
    },
    {
     "data": {
      "image/png": "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\n",
      "text/plain": [
       "<Figure size 720x576 with 1 Axes>"
      ]
     },
     "metadata": {
      "needs_background": "light"
     },
     "output_type": "display_data"
    }
   ],
   "source": [
    "figsize = (10,8)\n",
    "fig, ax = plt.subplots(figsize = figsize)\n",
    "sns.barplot(x = 'AgeOnNetwork', y = 'label',data = df, ax = ax)"
   ]
  },
  {
   "cell_type": "code",
   "execution_count": 56,
   "metadata": {},
   "outputs": [],
   "source": [
    "bins_2 = [-1,500,1000,2000,3500,5000,np.inf]\n",
    "labels_2 = [1, 2,3,4,5,6]\n",
    "df['DailyAmountSpent'] = pd.cut(df['daily_decr30'], bins = bins_2, labels = labels_2)"
   ]
  },
  {
   "cell_type": "code",
   "execution_count": 57,
   "metadata": {
    "scrolled": true
   },
   "outputs": [
    {
     "data": {
      "text/plain": [
       "<matplotlib.axes._subplots.AxesSubplot at 0x7f3752ea2ed0>"
      ]
     },
     "execution_count": 57,
     "metadata": {},
     "output_type": "execute_result"
    },
    {
     "data": {
      "image/png": "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
